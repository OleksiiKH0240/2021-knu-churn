{
 "cells": [
  {
   "cell_type": "code",
   "execution_count": 93,
   "metadata": {
    "collapsed": true
   },
   "outputs": [
    {
     "name": "stdout",
     "output_type": "stream",
     "text": [
      "Requirement already satisfied: pandas in d:\\onedrive\\pythonpr\\samsung_knu_2021_practice\\2021-knu-churn\\venv\\lib\\site-packages (0.25.3)\n",
      "Requirement already satisfied: pytz>=2017.2 in d:\\onedrive\\pythonpr\\samsung_knu_2021_practice\\2021-knu-churn\\venv\\lib\\site-packages (from pandas) (2020.5)\n",
      "Requirement already satisfied: numpy>=1.13.3 in d:\\onedrive\\pythonpr\\samsung_knu_2021_practice\\2021-knu-churn\\venv\\lib\\site-packages (from pandas) (1.18.5)\n",
      "Requirement already satisfied: python-dateutil>=2.6.1 in d:\\onedrive\\pythonpr\\samsung_knu_2021_practice\\2021-knu-churn\\venv\\lib\\site-packages (from pandas) (2.8.1)\n",
      "Requirement already satisfied: six>=1.5 in d:\\onedrive\\pythonpr\\samsung_knu_2021_practice\\2021-knu-churn\\venv\\lib\\site-packages (from python-dateutil>=2.6.1->pandas) (1.15.0)\n",
      "Requirement already satisfied: seaborn in d:\\onedrive\\pythonpr\\samsung_knu_2021_practice\\2021-knu-churn\\venv\\lib\\site-packages (0.11.1)\n",
      "Requirement already satisfied: numpy>=1.15 in d:\\onedrive\\pythonpr\\samsung_knu_2021_practice\\2021-knu-churn\\venv\\lib\\site-packages (from seaborn) (1.18.5)\n",
      "Requirement already satisfied: matplotlib>=2.2 in d:\\onedrive\\pythonpr\\samsung_knu_2021_practice\\2021-knu-churn\\venv\\lib\\site-packages (from seaborn) (3.3.3)\n",
      "Requirement already satisfied: pandas>=0.23 in d:\\onedrive\\pythonpr\\samsung_knu_2021_practice\\2021-knu-churn\\venv\\lib\\site-packages (from seaborn) (0.25.3)\n",
      "Requirement already satisfied: scipy>=1.0 in d:\\onedrive\\pythonpr\\samsung_knu_2021_practice\\2021-knu-churn\\venv\\lib\\site-packages (from seaborn) (1.5.2)\n",
      "Requirement already satisfied: python-dateutil>=2.1 in d:\\onedrive\\pythonpr\\samsung_knu_2021_practice\\2021-knu-churn\\venv\\lib\\site-packages (from matplotlib>=2.2->seaborn) (2.8.1)\n",
      "Requirement already satisfied: kiwisolver>=1.0.1 in d:\\onedrive\\pythonpr\\samsung_knu_2021_practice\\2021-knu-churn\\venv\\lib\\site-packages (from matplotlib>=2.2->seaborn) (1.3.1)\n",
      "Requirement already satisfied: pillow>=6.2.0 in d:\\onedrive\\pythonpr\\samsung_knu_2021_practice\\2021-knu-churn\\venv\\lib\\site-packages (from matplotlib>=2.2->seaborn) (8.1.0)\n",
      "Requirement already satisfied: pyparsing!=2.0.4,!=2.1.2,!=2.1.6,>=2.0.3 in d:\\onedrive\\pythonpr\\samsung_knu_2021_practice\\2021-knu-churn\\venv\\lib\\site-packages (from matplotlib>=2.2->seaborn) (2.4.7)\n",
      "Requirement already satisfied: cycler>=0.10 in d:\\onedrive\\pythonpr\\samsung_knu_2021_practice\\2021-knu-churn\\venv\\lib\\site-packages (from matplotlib>=2.2->seaborn) (0.10.0)\n",
      "Requirement already satisfied: six in d:\\onedrive\\pythonpr\\samsung_knu_2021_practice\\2021-knu-churn\\venv\\lib\\site-packages (from cycler>=0.10->matplotlib>=2.2->seaborn) (1.15.0)\n",
      "Requirement already satisfied: pytz>=2017.2 in d:\\onedrive\\pythonpr\\samsung_knu_2021_practice\\2021-knu-churn\\venv\\lib\\site-packages (from pandas>=0.23->seaborn) (2020.5)\n",
      "Requirement already satisfied: numpy in d:\\onedrive\\pythonpr\\samsung_knu_2021_practice\\2021-knu-churn\\venv\\lib\\site-packages (1.18.5)\n",
      "Requirement already satisfied: matplotlib in d:\\onedrive\\pythonpr\\samsung_knu_2021_practice\\2021-knu-churn\\venv\\lib\\site-packages (3.3.3)\n",
      "Requirement already satisfied: pillow>=6.2.0 in d:\\onedrive\\pythonpr\\samsung_knu_2021_practice\\2021-knu-churn\\venv\\lib\\site-packages (from matplotlib) (8.1.0)\n",
      "Requirement already satisfied: pyparsing!=2.0.4,!=2.1.2,!=2.1.6,>=2.0.3 in d:\\onedrive\\pythonpr\\samsung_knu_2021_practice\\2021-knu-churn\\venv\\lib\\site-packages (from matplotlib) (2.4.7)\n",
      "Requirement already satisfied: numpy>=1.15 in d:\\onedrive\\pythonpr\\samsung_knu_2021_practice\\2021-knu-churn\\venv\\lib\\site-packages (from matplotlib) (1.18.5)\n",
      "Requirement already satisfied: cycler>=0.10 in d:\\onedrive\\pythonpr\\samsung_knu_2021_practice\\2021-knu-churn\\venv\\lib\\site-packages (from matplotlib) (0.10.0)\n",
      "Requirement already satisfied: kiwisolver>=1.0.1 in d:\\onedrive\\pythonpr\\samsung_knu_2021_practice\\2021-knu-churn\\venv\\lib\\site-packages (from matplotlib) (1.3.1)\n",
      "Requirement already satisfied: python-dateutil>=2.1 in d:\\onedrive\\pythonpr\\samsung_knu_2021_practice\\2021-knu-churn\\venv\\lib\\site-packages (from matplotlib) (2.8.1)\n",
      "Requirement already satisfied: six in d:\\onedrive\\pythonpr\\samsung_knu_2021_practice\\2021-knu-churn\\venv\\lib\\site-packages (from cycler>=0.10->matplotlib) (1.15.0)\n",
      "Requirement already satisfied: scikit-learn in d:\\onedrive\\pythonpr\\samsung_knu_2021_practice\\2021-knu-churn\\venv\\lib\\site-packages (0.24.1)\n",
      "Requirement already satisfied: joblib>=0.11 in d:\\onedrive\\pythonpr\\samsung_knu_2021_practice\\2021-knu-churn\\venv\\lib\\site-packages (from scikit-learn) (1.0.0)\n",
      "Requirement already satisfied: numpy>=1.13.3 in d:\\onedrive\\pythonpr\\samsung_knu_2021_practice\\2021-knu-churn\\venv\\lib\\site-packages (from scikit-learn) (1.18.5)\n",
      "Requirement already satisfied: scipy>=0.19.1 in d:\\onedrive\\pythonpr\\samsung_knu_2021_practice\\2021-knu-churn\\venv\\lib\\site-packages (from scikit-learn) (1.5.2)\n",
      "Requirement already satisfied: threadpoolctl>=2.0.0 in d:\\onedrive\\pythonpr\\samsung_knu_2021_practice\\2021-knu-churn\\venv\\lib\\site-packages (from scikit-learn) (2.1.0)\n"
     ]
    }
   ],
   "source": [
    "!pip install pandas\n",
    "\n",
    "!pip install seaborn\n",
    "!pip install numpy\n",
    "\n",
    "!pip install matplotlib\n",
    "\n",
    "!pip install scikit-learn"
   ]
  },
  {
   "cell_type": "code",
   "execution_count": 4,
   "outputs": [],
   "source": [
    "import matplotlib.pyplot as plt\n",
    "\n",
    "import matplotlib\n",
    "\n",
    "import seaborn as sns\n",
    "\n",
    "import numpy as np\n",
    "\n",
    "import pandas as pd\n",
    "\n",
    "from sklearn import neighbors, metrics\n",
    "\n",
    "from sklearn.model_selection import train_test_split\n",
    "\n",
    "from sklearn.preprocessing import LabelEncoder\n",
    "\n",
    "from collections import Counter\n",
    "\n",
    "import re\n",
    "\n",
    "from sklearn.covariance import EllipticEnvelope\n",
    "\n",
    "from sklearn.linear_model import LinearRegression\n",
    "\n",
    "from sklearn.naive_bayes import GaussianNB\n",
    "\n",
    "from sklearn.tree import DecisionTreeClassifier\n",
    "\n",
    "from sklearn.model_selection import cross_val_score\n",
    "from sklearn.ensemble import RandomForestClassifier"
   ],
   "metadata": {
    "collapsed": false,
    "pycharm": {
     "name": "#%%\n"
    }
   }
  },
  {
   "cell_type": "markdown",
   "source": [
    "# functions"
   ],
   "metadata": {
    "collapsed": false
   }
  },
  {
   "cell_type": "code",
   "execution_count": 4,
   "outputs": [
    {
     "ename": "NameError",
     "evalue": "name 'pd' is not defined",
     "output_type": "error",
     "traceback": [
      "\u001B[1;31m---------------------------------------------------------------------------\u001B[0m",
      "\u001B[1;31mNameError\u001B[0m                                 Traceback (most recent call last)",
      "\u001B[1;32m<ipython-input-4-73aaa5076afb>\u001B[0m in \u001B[0;36m<module>\u001B[1;34m\u001B[0m\n\u001B[1;32m----> 1\u001B[1;33m def analyze_data(dataset: pd.core.frame.DataFrame, target_name: str,\n\u001B[0m\u001B[0;32m      2\u001B[0m                  max_percentage_diff: float): # TODO: use another approach of function realizing\n\u001B[0;32m      3\u001B[0m     \u001B[0mtarget_data_arr\u001B[0m \u001B[1;33m=\u001B[0m \u001B[0mdataset\u001B[0m\u001B[1;33m[\u001B[0m\u001B[0mtarget_name\u001B[0m\u001B[1;33m]\u001B[0m\u001B[1;33m.\u001B[0m\u001B[0mvalues\u001B[0m\u001B[1;33m\u001B[0m\u001B[1;33m\u001B[0m\u001B[0m\n\u001B[0;32m      4\u001B[0m     \u001B[0mdataset\u001B[0m \u001B[1;33m=\u001B[0m \u001B[0mdataset\u001B[0m\u001B[1;33m.\u001B[0m\u001B[0mdrop\u001B[0m\u001B[1;33m(\u001B[0m\u001B[1;33m[\u001B[0m\u001B[0mtarget_name\u001B[0m\u001B[1;33m]\u001B[0m\u001B[1;33m,\u001B[0m \u001B[0maxis\u001B[0m\u001B[1;33m=\u001B[0m\u001B[1;36m1\u001B[0m\u001B[1;33m)\u001B[0m\u001B[1;33m\u001B[0m\u001B[1;33m\u001B[0m\u001B[0m\n\u001B[0;32m      5\u001B[0m     \u001B[0mtrash_features\u001B[0m \u001B[1;33m=\u001B[0m \u001B[1;33m[\u001B[0m\u001B[1;33m]\u001B[0m\u001B[1;33m\u001B[0m\u001B[1;33m\u001B[0m\u001B[0m\n",
      "\u001B[1;31mNameError\u001B[0m: name 'pd' is not defined"
     ]
    }
   ],
   "source": [
    "def analyze_data(dataset: pd.core.frame.DataFrame, target_name: str,\n",
    "                 max_percentage_diff: float): # TODO: use another approach of function realizing\n",
    "    target_data_arr = dataset[target_name].values\n",
    "    dataset = dataset.drop([target_name], axis=1)\n",
    "    trash_features = []\n",
    "    for feature_name in dataset.keys():\n",
    "        feature_data = dataset[feature_name]\n",
    "        feature_data_dict = dict() # feature_data_dict =\n",
    "        # {<feature_i-data>:  {\n",
    "        #                     \"count\": <numb of same feature_i-data>,\n",
    "        #                     \"pos_target\": <numb of positive target for objects with this feature_i-data>,\n",
    "        #                     \"neg_target\": <numb of negative target for objects with this feature_i-data>\n",
    "        #                     }\n",
    "        # }\n",
    "\n",
    "        for idx, feat_i in enumerate(feature_data):\n",
    "            if feature_data_dict.get(feat_i, None) is None:\n",
    "                feature_data_dict[feat_i] = {\"count\": 1, \"pos_target\": 0, \"neg_target\": 0}\n",
    "            else:\n",
    "                feature_data_dict[feat_i][\"count\"] += 1\n",
    "\n",
    "            if target_data_arr[idx] == 0:\n",
    "                feature_data_dict[feat_i][\"neg_target\"] += 1\n",
    "            else:\n",
    "                feature_data_dict[feat_i][\"pos_target\"] += 1\n",
    "\n",
    "        print(f\"\\n{feature_name} pos/neg target ratio:\")\n",
    "        feature_i_percentages = []\n",
    "        for i in feature_data_dict.items():\n",
    "            pos = i[1]['pos_target'] # number of positive target for objects with this feature_i-data\n",
    "            neg = i[1]['neg_target'] # number of negative target for objects with this feature_i-data\n",
    "            if neg == 0 or pos == 0:\n",
    "                info_str = f\"{feature_name} : {i[0]} ,ratio = {pos} / {neg}\"\n",
    "            else:\n",
    "                info_str = f\"{feature_name} : {i[0]} ,ratio = {pos} / {neg} = {round(pos / neg, 3)} \" \\\n",
    "                           f\"\\tpos_perc = {round(100 * pos / (pos + neg), 2)}%, \" \\\n",
    "                           f\"neg_perc = {round(100 * neg / (pos + neg), 2)}%\"\n",
    "                feature_i_percentages.append(round(100 * pos / (pos + neg), 2))\n",
    "            print(info_str)\n",
    "        if (max(feature_i_percentages) - min(feature_i_percentages)) < max_percentage_diff:\n",
    "            trash_features.append(feature_name)\n",
    "    return trash_features\n"
   ],
   "metadata": {
    "collapsed": false,
    "pycharm": {
     "name": "#%%\n"
    }
   }
  },
  {
   "cell_type": "code",
   "execution_count": 5,
   "outputs": [
    {
     "data": {
      "text/plain": "       Customer_Age    Gender  Dependent_count  Education_Level  \\\n0         -0.165261  1.060261         0.503636        -0.893897   \n1          0.583481  1.060261         0.503636         0.593115   \n2         -0.789213 -0.943070         1.273662        -0.893897   \n3         -0.789213  1.060261         0.503636        -1.637403   \n4         -0.290051  1.060261        -0.266389         0.593115   \n...             ...       ...              ...              ...   \n10115      0.458691  1.060261        -0.266389         0.593115   \n10116     -0.664422  1.060261        -0.266389         0.593115   \n10117     -0.290051 -0.943070        -1.036415        -0.893897   \n10118     -2.037116  1.060261        -0.266389         0.593115   \n10119     -0.414842 -0.943070        -0.266389         0.593115   \n\n       Marital_Status  Income_Category  Card_Category  Months_on_book  \\\n0            0.522808         0.425471      -0.263546        0.384495   \n1            0.522808         1.308928      -0.263546        0.008956   \n2            0.522808        -0.850632      -0.263546       -0.241404   \n3            0.522808         0.425471      -0.263546       -1.868743   \n4            0.522808        -0.163500      -0.263546        0.008956   \n...               ...              ...            ...             ...   \n10115       -1.135236        -0.163500      -0.263546        0.509675   \n10116        2.180853        -0.163500      -0.263546       -1.368023   \n10117        0.522808        -0.850632      -0.263546        0.008956   \n10118        0.522808        -0.163500      -0.263546        0.008956   \n10119        0.522808        -0.850632       3.884336       -1.368023   \n\n       Total_Relationship_Count  Months_Inactive_12_mon  \\\n0                      0.763915               -1.327615   \n1                      0.120645               -1.327615   \n2                     -0.522625                1.643518   \n3                      0.763915               -1.327615   \n4                     -0.522625               -1.327615   \n...                         ...                     ...   \n10115                 -0.522625               -0.337237   \n10116                  0.120645               -0.337237   \n10117                  0.763915                0.653140   \n10118                  0.120645                0.653140   \n10119                  1.407186               -0.337237   \n\n       Contacts_Count_12_mon  Credit_Limit  Total_Revolving_Bal  \\\n0                   0.492010      0.447062            -0.473285   \n1                  -2.220431     -0.573420            -1.426735   \n2                  -1.316284     -0.584975             1.661853   \n3                  -2.220431     -0.430577            -1.426735   \n4                  -0.412137     -0.508271             0.103448   \n...                      ...           ...                  ...   \n10115               0.492010     -0.509042             0.844611   \n10116               0.492010     -0.478888             1.255686   \n10117               1.396157     -0.354313            -1.426735   \n10118               0.492010     -0.368399            -1.426735   \n10119               1.396157      0.193620             0.979591   \n\n       Avg_Open_To_Buy  Total_Amt_Chng_Q4_Q1  Total_Trans_Amt  Total_Trans_Ct  \\\n0             0.489410              2.666758        -0.960392       -0.975049   \n1            -0.445377              8.499347        -0.741457       -1.913197   \n2            -0.733868              2.991048        -0.952436       -1.913197   \n3            -0.302563              6.558239        -1.057042       -1.572052   \n4            -0.517445              2.856699        -0.976893       -1.742625   \n...                ...                   ...              ...             ...   \n10115        -0.584671             -0.261119         3.262728        2.223186   \n10116        -0.591383              0.206786         1.284945        0.176316   \n10117        -0.226314              0.276276         1.734897       -0.207472   \n10118        -0.240398             -1.039415         1.176215       -0.122186   \n10119         0.105746             -0.261119         1.735781       -0.164829   \n\n       Total_Ct_Chng_Q4_Q1  Avg_Utilization_Ratio  \n0                 3.892696              -0.776043  \n1                 6.910076              -0.997334  \n2                 6.910076               1.759732  \n3                 7.621803              -0.997334  \n4                 0.572725               0.130886  \n...                    ...                    ...  \n10115             0.619605               0.678672  \n10116            -0.121955               0.856430  \n10117             0.453393              -0.997334  \n10118             0.044257              -0.997334  \n10119            -0.266857              -0.311695  \n\n[10120 rows x 19 columns]",
      "text/html": "<div>\n<style scoped>\n    .dataframe tbody tr th:only-of-type {\n        vertical-align: middle;\n    }\n\n    .dataframe tbody tr th {\n        vertical-align: top;\n    }\n\n    .dataframe thead th {\n        text-align: right;\n    }\n</style>\n<table border=\"1\" class=\"dataframe\">\n  <thead>\n    <tr style=\"text-align: right;\">\n      <th></th>\n      <th>Customer_Age</th>\n      <th>Gender</th>\n      <th>Dependent_count</th>\n      <th>Education_Level</th>\n      <th>Marital_Status</th>\n      <th>Income_Category</th>\n      <th>Card_Category</th>\n      <th>Months_on_book</th>\n      <th>Total_Relationship_Count</th>\n      <th>Months_Inactive_12_mon</th>\n      <th>Contacts_Count_12_mon</th>\n      <th>Credit_Limit</th>\n      <th>Total_Revolving_Bal</th>\n      <th>Avg_Open_To_Buy</th>\n      <th>Total_Amt_Chng_Q4_Q1</th>\n      <th>Total_Trans_Amt</th>\n      <th>Total_Trans_Ct</th>\n      <th>Total_Ct_Chng_Q4_Q1</th>\n      <th>Avg_Utilization_Ratio</th>\n    </tr>\n  </thead>\n  <tbody>\n    <tr>\n      <th>0</th>\n      <td>-0.165261</td>\n      <td>1.060261</td>\n      <td>0.503636</td>\n      <td>-0.893897</td>\n      <td>0.522808</td>\n      <td>0.425471</td>\n      <td>-0.263546</td>\n      <td>0.384495</td>\n      <td>0.763915</td>\n      <td>-1.327615</td>\n      <td>0.492010</td>\n      <td>0.447062</td>\n      <td>-0.473285</td>\n      <td>0.489410</td>\n      <td>2.666758</td>\n      <td>-0.960392</td>\n      <td>-0.975049</td>\n      <td>3.892696</td>\n      <td>-0.776043</td>\n    </tr>\n    <tr>\n      <th>1</th>\n      <td>0.583481</td>\n      <td>1.060261</td>\n      <td>0.503636</td>\n      <td>0.593115</td>\n      <td>0.522808</td>\n      <td>1.308928</td>\n      <td>-0.263546</td>\n      <td>0.008956</td>\n      <td>0.120645</td>\n      <td>-1.327615</td>\n      <td>-2.220431</td>\n      <td>-0.573420</td>\n      <td>-1.426735</td>\n      <td>-0.445377</td>\n      <td>8.499347</td>\n      <td>-0.741457</td>\n      <td>-1.913197</td>\n      <td>6.910076</td>\n      <td>-0.997334</td>\n    </tr>\n    <tr>\n      <th>2</th>\n      <td>-0.789213</td>\n      <td>-0.943070</td>\n      <td>1.273662</td>\n      <td>-0.893897</td>\n      <td>0.522808</td>\n      <td>-0.850632</td>\n      <td>-0.263546</td>\n      <td>-0.241404</td>\n      <td>-0.522625</td>\n      <td>1.643518</td>\n      <td>-1.316284</td>\n      <td>-0.584975</td>\n      <td>1.661853</td>\n      <td>-0.733868</td>\n      <td>2.991048</td>\n      <td>-0.952436</td>\n      <td>-1.913197</td>\n      <td>6.910076</td>\n      <td>1.759732</td>\n    </tr>\n    <tr>\n      <th>3</th>\n      <td>-0.789213</td>\n      <td>1.060261</td>\n      <td>0.503636</td>\n      <td>-1.637403</td>\n      <td>0.522808</td>\n      <td>0.425471</td>\n      <td>-0.263546</td>\n      <td>-1.868743</td>\n      <td>0.763915</td>\n      <td>-1.327615</td>\n      <td>-2.220431</td>\n      <td>-0.430577</td>\n      <td>-1.426735</td>\n      <td>-0.302563</td>\n      <td>6.558239</td>\n      <td>-1.057042</td>\n      <td>-1.572052</td>\n      <td>7.621803</td>\n      <td>-0.997334</td>\n    </tr>\n    <tr>\n      <th>4</th>\n      <td>-0.290051</td>\n      <td>1.060261</td>\n      <td>-0.266389</td>\n      <td>0.593115</td>\n      <td>0.522808</td>\n      <td>-0.163500</td>\n      <td>-0.263546</td>\n      <td>0.008956</td>\n      <td>-0.522625</td>\n      <td>-1.327615</td>\n      <td>-0.412137</td>\n      <td>-0.508271</td>\n      <td>0.103448</td>\n      <td>-0.517445</td>\n      <td>2.856699</td>\n      <td>-0.976893</td>\n      <td>-1.742625</td>\n      <td>0.572725</td>\n      <td>0.130886</td>\n    </tr>\n    <tr>\n      <th>...</th>\n      <td>...</td>\n      <td>...</td>\n      <td>...</td>\n      <td>...</td>\n      <td>...</td>\n      <td>...</td>\n      <td>...</td>\n      <td>...</td>\n      <td>...</td>\n      <td>...</td>\n      <td>...</td>\n      <td>...</td>\n      <td>...</td>\n      <td>...</td>\n      <td>...</td>\n      <td>...</td>\n      <td>...</td>\n      <td>...</td>\n      <td>...</td>\n    </tr>\n    <tr>\n      <th>10115</th>\n      <td>0.458691</td>\n      <td>1.060261</td>\n      <td>-0.266389</td>\n      <td>0.593115</td>\n      <td>-1.135236</td>\n      <td>-0.163500</td>\n      <td>-0.263546</td>\n      <td>0.509675</td>\n      <td>-0.522625</td>\n      <td>-0.337237</td>\n      <td>0.492010</td>\n      <td>-0.509042</td>\n      <td>0.844611</td>\n      <td>-0.584671</td>\n      <td>-0.261119</td>\n      <td>3.262728</td>\n      <td>2.223186</td>\n      <td>0.619605</td>\n      <td>0.678672</td>\n    </tr>\n    <tr>\n      <th>10116</th>\n      <td>-0.664422</td>\n      <td>1.060261</td>\n      <td>-0.266389</td>\n      <td>0.593115</td>\n      <td>2.180853</td>\n      <td>-0.163500</td>\n      <td>-0.263546</td>\n      <td>-1.368023</td>\n      <td>0.120645</td>\n      <td>-0.337237</td>\n      <td>0.492010</td>\n      <td>-0.478888</td>\n      <td>1.255686</td>\n      <td>-0.591383</td>\n      <td>0.206786</td>\n      <td>1.284945</td>\n      <td>0.176316</td>\n      <td>-0.121955</td>\n      <td>0.856430</td>\n    </tr>\n    <tr>\n      <th>10117</th>\n      <td>-0.290051</td>\n      <td>-0.943070</td>\n      <td>-1.036415</td>\n      <td>-0.893897</td>\n      <td>0.522808</td>\n      <td>-0.850632</td>\n      <td>-0.263546</td>\n      <td>0.008956</td>\n      <td>0.763915</td>\n      <td>0.653140</td>\n      <td>1.396157</td>\n      <td>-0.354313</td>\n      <td>-1.426735</td>\n      <td>-0.226314</td>\n      <td>0.276276</td>\n      <td>1.734897</td>\n      <td>-0.207472</td>\n      <td>0.453393</td>\n      <td>-0.997334</td>\n    </tr>\n    <tr>\n      <th>10118</th>\n      <td>-2.037116</td>\n      <td>1.060261</td>\n      <td>-0.266389</td>\n      <td>0.593115</td>\n      <td>0.522808</td>\n      <td>-0.163500</td>\n      <td>-0.263546</td>\n      <td>0.008956</td>\n      <td>0.120645</td>\n      <td>0.653140</td>\n      <td>0.492010</td>\n      <td>-0.368399</td>\n      <td>-1.426735</td>\n      <td>-0.240398</td>\n      <td>-1.039415</td>\n      <td>1.176215</td>\n      <td>-0.122186</td>\n      <td>0.044257</td>\n      <td>-0.997334</td>\n    </tr>\n    <tr>\n      <th>10119</th>\n      <td>-0.414842</td>\n      <td>-0.943070</td>\n      <td>-0.266389</td>\n      <td>0.593115</td>\n      <td>0.522808</td>\n      <td>-0.850632</td>\n      <td>3.884336</td>\n      <td>-1.368023</td>\n      <td>1.407186</td>\n      <td>-0.337237</td>\n      <td>1.396157</td>\n      <td>0.193620</td>\n      <td>0.979591</td>\n      <td>0.105746</td>\n      <td>-0.261119</td>\n      <td>1.735781</td>\n      <td>-0.164829</td>\n      <td>-0.266857</td>\n      <td>-0.311695</td>\n    </tr>\n  </tbody>\n</table>\n<p>10120 rows × 19 columns</p>\n</div>"
     },
     "execution_count": 5,
     "metadata": {},
     "output_type": "execute_result"
    }
   ],
   "source": [
    "preproc_data = pd.read_csv(\"pre-processing_BankChurners.csv\")\n",
    "preproc_data_x = preproc_data.drop([\"Attrition_Flag\",\n",
    "                       \"Naive_Bayes_Classifier_Attrition_Flag_Card_Category_Contacts_Count_12_mon_Dependent_count_Education_Level_Months_Inactive_12_mon_1\",\n",
    "                       \"Naive_Bayes_Classifier_Attrition_Flag_Card_Category_Contacts_Count_12_mon_Dependent_count_Education_Level_Months_Inactive_12_mon_2\"\n",
    "                       ], axis=1)\n",
    "x = preproc_data_x.values\n",
    "y = preproc_data[\"Attrition_Flag\"].values\n",
    "preproc_data_x"
   ],
   "metadata": {
    "collapsed": false,
    "pycharm": {
     "name": "#%%\n"
    }
   }
  },
  {
   "cell_type": "markdown",
   "source": [
    "# data type identifying"
   ],
   "metadata": {
    "collapsed": false
   }
  },
  {
   "cell_type": "code",
   "execution_count": 6,
   "outputs": [],
   "source": [
    "\n",
    "categorical_features = ['Attrition_Flag', 'Gender', 'Marital_Status']\n",
    "ordinal_features = [\"Dependent_count\", \"Education_Level\", \"Card_Category\",\n",
    "                \"Income_Category\", \"Total_Relationship_Count\",\n",
    "                \"Months_Inactive_12_mon\", \"Contacts_Count_12_mon\"]\n",
    "numerical_features = ['Credit_Limit', 'Avg_Open_To_Buy', 'Total_Amt_Chng_Q4_Q1',\n",
    "                      'Total_Ct_Chng_Q4_Q1', 'Avg_Utilization_Ratio',\n",
    "                      'Naive_Bayes_Classifier_Attrition_Flag_Card_Category_Contacts_Count_12_mon_Dependent_count_Education_Level_Months_Inactive_12_mon_1',\n",
    "                      'Naive_Bayes_Classifier_Attrition_Flag_Card_Category_Contacts_Count_12_mon_Dependent_count_Education_Level_Months_Inactive_12_mon_2',\n",
    "                      'Total_Trans_Ct', 'Total_Revolving_Bal', 'Total_Trans_Amt', 'Customer_Age', 'Months_on_book']"
   ],
   "metadata": {
    "collapsed": false,
    "pycharm": {
     "name": "#%%\n"
    }
   }
  },
  {
   "cell_type": "markdown",
   "source": [
    "# Pair Correlation features selection"
   ],
   "metadata": {
    "collapsed": false,
    "pycharm": {
     "name": "#%% md\n"
    }
   }
  },
  {
   "cell_type": "code",
   "execution_count": 7,
   "outputs": [],
   "source": [
    "corr_manage_matrix = preproc_data.drop([\"Attrition_Flag\"], axis=1).corr() > 0.6\n",
    "for idx in range(corr_manage_matrix.shape[0]):\n",
    "    corr_manage_matrix.iloc[idx, idx] = False"
   ],
   "metadata": {
    "collapsed": false,
    "pycharm": {
     "name": "#%%\n"
    }
   }
  },
  {
   "cell_type": "code",
   "execution_count": 8,
   "outputs": [
    {
     "data": {
      "text/plain": "[['Months_on_book', 'Customer_Age'],\n ['Income_Category', 'Gender'],\n ['Avg_Open_To_Buy', 'Credit_Limit'],\n ['Avg_Utilization_Ratio', 'Total_Revolving_Bal'],\n ['Total_Trans_Ct', 'Total_Trans_Amt']]"
     },
     "execution_count": 8,
     "metadata": {},
     "output_type": "execute_result"
    }
   ],
   "source": [
    "drop_labels = [i[0] for i in filter(lambda x: x[1] == False, corr_manage_matrix.any().items())]\n",
    "help_manage_matrix = corr_manage_matrix[corr_manage_matrix.any()].drop(drop_labels, axis=1)\n",
    "high_correlation_val_list = []# consists tuples: (feature1, feature2), features(1-2) have high(> 0.6) correlation coefficient related to each other\n",
    "forbidden_labels_list = []\n",
    "for corr_feature_j in help_manage_matrix.columns:\n",
    "    corr_feature_i = list(filter(lambda x: x[1] == True, help_manage_matrix[corr_feature_j].items()))[0][0]\n",
    "    if corr_feature_i not in forbidden_labels_list:\n",
    "        high_correlation_val_list.append([corr_feature_i, corr_feature_j])\n",
    "    forbidden_labels_list.append(corr_feature_j)\n",
    "\n",
    "high_correlation_val_list"
   ],
   "metadata": {
    "collapsed": false,
    "pycharm": {
     "name": "#%%\n"
    }
   }
  },
  {
   "cell_type": "code",
   "execution_count": 15,
   "outputs": [],
   "source": [
    "preproc_data_copy = preproc_data.copy()"
   ],
   "metadata": {
    "collapsed": false,
    "pycharm": {
     "name": "#%%\n"
    }
   }
  },
  {
   "cell_type": "markdown",
   "source": [
    "first best feature recognizing method type\n",
    "accuracy = 0.9221343873517787\n",
    "time elapsed 11.697004556655884"
   ],
   "metadata": {
    "collapsed": false
   }
  },
  {
   "cell_type": "code",
   "execution_count": 9,
   "outputs": [
    {
     "data": {
      "text/plain": "['Months_on_book',\n 'Gender',\n 'Credit_Limit',\n 'Total_Revolving_Bal',\n 'Total_Trans_Ct']"
     },
     "execution_count": 9,
     "metadata": {},
     "output_type": "execute_result"
    }
   ],
   "source": [
    "trash_features = []\n",
    "for corr_feature_couple in high_correlation_val_list:\n",
    "    curr_corr_data = preproc_data.corr()[corr_feature_couple + [\"Attrition_Flag\"]]\n",
    "    feature1_target_corr = curr_corr_data[corr_feature_couple[0]][\"Attrition_Flag\"]\n",
    "    feature2_target_corr = curr_corr_data[corr_feature_couple[1]][\"Attrition_Flag\"]\n",
    "    if feature1_target_corr > feature2_target_corr:\n",
    "        trash_features.append(corr_feature_couple[1])\n",
    "    else:\n",
    "        trash_features.append(corr_feature_couple[0])\n",
    "\n",
    "trash_features\n"
   ],
   "metadata": {
    "collapsed": false,
    "pycharm": {
     "name": "#%%\n"
    }
   }
  },
  {
   "cell_type": "markdown",
   "source": [
    "second best feature recognizing method type\n",
    "accuracy = 0.917786561264822\n",
    "time elapsed 12.080619812011719"
   ],
   "metadata": {
    "collapsed": false
   }
  },
  {
   "cell_type": "code",
   "execution_count": 168,
   "outputs": [],
   "source": [
    "trash_features = []\n",
    "for corr_feature_couple in high_correlation_val_list:\n",
    "    feature1_2_metrics = []\n",
    "    for drop_feature in corr_feature_couple:\n",
    "        clf_model = RandomForestClassifier()\n",
    "        score = cross_val_score(clf_model, X=preproc_data_x.drop(drop_feature, axis=1).values,\n",
    "                                y=y,\n",
    "                                cv=5, scoring=\"accuracy\").mean()\n",
    "        feature1_2_metrics.append(score)\n",
    "\n",
    "    if feature1_2_metrics[0] > feature1_2_metrics[1]:\n",
    "        trash_features.append(corr_feature_couple[1])\n",
    "    else:\n",
    "        trash_features.append(corr_feature_couple[0])"
   ],
   "metadata": {
    "collapsed": false,
    "pycharm": {
     "name": "#%%\n"
    }
   }
  },
  {
   "cell_type": "code",
   "execution_count": 169,
   "outputs": [
    {
     "data": {
      "text/plain": "['Customer_Age',\n 'Income_Category',\n 'Avg_Open_To_Buy',\n 'Total_Revolving_Bal',\n 'Total_Trans_Amt']"
     },
     "execution_count": 169,
     "metadata": {},
     "output_type": "execute_result"
    }
   ],
   "source": [
    "trash_features"
   ],
   "metadata": {
    "collapsed": false,
    "pycharm": {
     "name": "#%%\n"
    }
   }
  },
  {
   "cell_type": "code",
   "execution_count": 17,
   "outputs": [
    {
     "data": {
      "text/plain": "       Attrition_Flag  Customer_Age    Gender  Dependent_count  \\\n0                   1     -0.165261  1.060261         0.503636   \n1                   1      0.583481  1.060261         0.503636   \n2                   1     -0.789213 -0.943070         1.273662   \n3                   1     -0.789213  1.060261         0.503636   \n4                   1     -0.290051  1.060261        -0.266389   \n...               ...           ...       ...              ...   \n10115               1      0.458691  1.060261        -0.266389   \n10116               0     -0.664422  1.060261        -0.266389   \n10117               0     -0.290051 -0.943070        -1.036415   \n10118               0     -2.037116  1.060261        -0.266389   \n10119               0     -0.414842 -0.943070        -0.266389   \n\n       Education_Level  Marital_Status  Income_Category  Card_Category  \\\n0            -0.893897        0.522808         0.425471      -0.263546   \n1             0.593115        0.522808         1.308928      -0.263546   \n2            -0.893897        0.522808        -0.850632      -0.263546   \n3            -1.637403        0.522808         0.425471      -0.263546   \n4             0.593115        0.522808        -0.163500      -0.263546   \n...                ...             ...              ...            ...   \n10115         0.593115       -1.135236        -0.163500      -0.263546   \n10116         0.593115        2.180853        -0.163500      -0.263546   \n10117        -0.893897        0.522808        -0.850632      -0.263546   \n10118         0.593115        0.522808        -0.163500      -0.263546   \n10119         0.593115        0.522808        -0.850632       3.884336   \n\n       Months_on_book  Total_Relationship_Count  ...  Credit_Limit  \\\n0            0.384495                  0.763915  ...      0.447062   \n1            0.008956                  0.120645  ...     -0.573420   \n2           -0.241404                 -0.522625  ...     -0.584975   \n3           -1.868743                  0.763915  ...     -0.430577   \n4            0.008956                 -0.522625  ...     -0.508271   \n...               ...                       ...  ...           ...   \n10115        0.509675                 -0.522625  ...     -0.509042   \n10116       -1.368023                  0.120645  ...     -0.478888   \n10117        0.008956                  0.763915  ...     -0.354313   \n10118        0.008956                  0.120645  ...     -0.368399   \n10119       -1.368023                  1.407186  ...      0.193620   \n\n       Total_Revolving_Bal  Avg_Open_To_Buy  Total_Amt_Chng_Q4_Q1  \\\n0                -0.473285         0.489410              2.666758   \n1                -1.426735        -0.445377              8.499347   \n2                 1.661853        -0.733868              2.991048   \n3                -1.426735        -0.302563              6.558239   \n4                 0.103448        -0.517445              2.856699   \n...                    ...              ...                   ...   \n10115             0.844611        -0.584671             -0.261119   \n10116             1.255686        -0.591383              0.206786   \n10117            -1.426735        -0.226314              0.276276   \n10118            -1.426735        -0.240398             -1.039415   \n10119             0.979591         0.105746             -0.261119   \n\n       Total_Trans_Amt  Total_Trans_Ct  Total_Ct_Chng_Q4_Q1  \\\n0            -0.960392       -0.975049             3.892696   \n1            -0.741457       -1.913197             6.910076   \n2            -0.952436       -1.913197             6.910076   \n3            -1.057042       -1.572052             7.621803   \n4            -0.976893       -1.742625             0.572725   \n...                ...             ...                  ...   \n10115         3.262728        2.223186             0.619605   \n10116         1.284945        0.176316            -0.121955   \n10117         1.734897       -0.207472             0.453393   \n10118         1.176215       -0.122186             0.044257   \n10119         1.735781       -0.164829            -0.266857   \n\n       Avg_Utilization_Ratio  \\\n0                  -0.776043   \n1                  -0.997334   \n2                   1.759732   \n3                  -0.997334   \n4                   0.130886   \n...                      ...   \n10115               0.678672   \n10116               0.856430   \n10117              -0.997334   \n10118              -0.997334   \n10119              -0.311695   \n\n       Naive_Bayes_Classifier_Attrition_Flag_Card_Category_Contacts_Count_12_mon_Dependent_count_Education_Level_Months_Inactive_12_mon_1  \\\n0                                              -0.437752                                                                                    \n1                                              -0.437950                                                                                    \n2                                              -0.437642                                                                                    \n3                                              -0.437949                                                                                    \n4                                              -0.437857                                                                                    \n...                                                  ...                                                                                    \n10115                                          -0.437484                                                                                    \n10116                                           2.286428                                                                                    \n10117                                           2.293573                                                                                    \n10118                                           2.290370                                                                                    \n10119                                           2.290124                                                                                    \n\n       Naive_Bayes_Classifier_Attrition_Flag_Card_Category_Contacts_Count_12_mon_Dependent_count_Education_Level_Months_Inactive_12_mon_2  \n0                                               0.437762                                                                                   \n1                                               0.437953                                                                                   \n2                                               0.437652                                                                                   \n3                                               0.437953                                                                                   \n4                                               0.437844                                                                                   \n...                                                  ...                                                                                   \n10115                                           0.437488                                                                                   \n10116                                          -2.286431                                                                                   \n10117                                          -2.293577                                                                                   \n10118                                          -2.290360                                                                                   \n10119                                          -2.290133                                                                                   \n\n[10120 rows x 22 columns]",
      "text/html": "<div>\n<style scoped>\n    .dataframe tbody tr th:only-of-type {\n        vertical-align: middle;\n    }\n\n    .dataframe tbody tr th {\n        vertical-align: top;\n    }\n\n    .dataframe thead th {\n        text-align: right;\n    }\n</style>\n<table border=\"1\" class=\"dataframe\">\n  <thead>\n    <tr style=\"text-align: right;\">\n      <th></th>\n      <th>Attrition_Flag</th>\n      <th>Customer_Age</th>\n      <th>Gender</th>\n      <th>Dependent_count</th>\n      <th>Education_Level</th>\n      <th>Marital_Status</th>\n      <th>Income_Category</th>\n      <th>Card_Category</th>\n      <th>Months_on_book</th>\n      <th>Total_Relationship_Count</th>\n      <th>...</th>\n      <th>Credit_Limit</th>\n      <th>Total_Revolving_Bal</th>\n      <th>Avg_Open_To_Buy</th>\n      <th>Total_Amt_Chng_Q4_Q1</th>\n      <th>Total_Trans_Amt</th>\n      <th>Total_Trans_Ct</th>\n      <th>Total_Ct_Chng_Q4_Q1</th>\n      <th>Avg_Utilization_Ratio</th>\n      <th>Naive_Bayes_Classifier_Attrition_Flag_Card_Category_Contacts_Count_12_mon_Dependent_count_Education_Level_Months_Inactive_12_mon_1</th>\n      <th>Naive_Bayes_Classifier_Attrition_Flag_Card_Category_Contacts_Count_12_mon_Dependent_count_Education_Level_Months_Inactive_12_mon_2</th>\n    </tr>\n  </thead>\n  <tbody>\n    <tr>\n      <th>0</th>\n      <td>1</td>\n      <td>-0.165261</td>\n      <td>1.060261</td>\n      <td>0.503636</td>\n      <td>-0.893897</td>\n      <td>0.522808</td>\n      <td>0.425471</td>\n      <td>-0.263546</td>\n      <td>0.384495</td>\n      <td>0.763915</td>\n      <td>...</td>\n      <td>0.447062</td>\n      <td>-0.473285</td>\n      <td>0.489410</td>\n      <td>2.666758</td>\n      <td>-0.960392</td>\n      <td>-0.975049</td>\n      <td>3.892696</td>\n      <td>-0.776043</td>\n      <td>-0.437752</td>\n      <td>0.437762</td>\n    </tr>\n    <tr>\n      <th>1</th>\n      <td>1</td>\n      <td>0.583481</td>\n      <td>1.060261</td>\n      <td>0.503636</td>\n      <td>0.593115</td>\n      <td>0.522808</td>\n      <td>1.308928</td>\n      <td>-0.263546</td>\n      <td>0.008956</td>\n      <td>0.120645</td>\n      <td>...</td>\n      <td>-0.573420</td>\n      <td>-1.426735</td>\n      <td>-0.445377</td>\n      <td>8.499347</td>\n      <td>-0.741457</td>\n      <td>-1.913197</td>\n      <td>6.910076</td>\n      <td>-0.997334</td>\n      <td>-0.437950</td>\n      <td>0.437953</td>\n    </tr>\n    <tr>\n      <th>2</th>\n      <td>1</td>\n      <td>-0.789213</td>\n      <td>-0.943070</td>\n      <td>1.273662</td>\n      <td>-0.893897</td>\n      <td>0.522808</td>\n      <td>-0.850632</td>\n      <td>-0.263546</td>\n      <td>-0.241404</td>\n      <td>-0.522625</td>\n      <td>...</td>\n      <td>-0.584975</td>\n      <td>1.661853</td>\n      <td>-0.733868</td>\n      <td>2.991048</td>\n      <td>-0.952436</td>\n      <td>-1.913197</td>\n      <td>6.910076</td>\n      <td>1.759732</td>\n      <td>-0.437642</td>\n      <td>0.437652</td>\n    </tr>\n    <tr>\n      <th>3</th>\n      <td>1</td>\n      <td>-0.789213</td>\n      <td>1.060261</td>\n      <td>0.503636</td>\n      <td>-1.637403</td>\n      <td>0.522808</td>\n      <td>0.425471</td>\n      <td>-0.263546</td>\n      <td>-1.868743</td>\n      <td>0.763915</td>\n      <td>...</td>\n      <td>-0.430577</td>\n      <td>-1.426735</td>\n      <td>-0.302563</td>\n      <td>6.558239</td>\n      <td>-1.057042</td>\n      <td>-1.572052</td>\n      <td>7.621803</td>\n      <td>-0.997334</td>\n      <td>-0.437949</td>\n      <td>0.437953</td>\n    </tr>\n    <tr>\n      <th>4</th>\n      <td>1</td>\n      <td>-0.290051</td>\n      <td>1.060261</td>\n      <td>-0.266389</td>\n      <td>0.593115</td>\n      <td>0.522808</td>\n      <td>-0.163500</td>\n      <td>-0.263546</td>\n      <td>0.008956</td>\n      <td>-0.522625</td>\n      <td>...</td>\n      <td>-0.508271</td>\n      <td>0.103448</td>\n      <td>-0.517445</td>\n      <td>2.856699</td>\n      <td>-0.976893</td>\n      <td>-1.742625</td>\n      <td>0.572725</td>\n      <td>0.130886</td>\n      <td>-0.437857</td>\n      <td>0.437844</td>\n    </tr>\n    <tr>\n      <th>...</th>\n      <td>...</td>\n      <td>...</td>\n      <td>...</td>\n      <td>...</td>\n      <td>...</td>\n      <td>...</td>\n      <td>...</td>\n      <td>...</td>\n      <td>...</td>\n      <td>...</td>\n      <td>...</td>\n      <td>...</td>\n      <td>...</td>\n      <td>...</td>\n      <td>...</td>\n      <td>...</td>\n      <td>...</td>\n      <td>...</td>\n      <td>...</td>\n      <td>...</td>\n      <td>...</td>\n    </tr>\n    <tr>\n      <th>10115</th>\n      <td>1</td>\n      <td>0.458691</td>\n      <td>1.060261</td>\n      <td>-0.266389</td>\n      <td>0.593115</td>\n      <td>-1.135236</td>\n      <td>-0.163500</td>\n      <td>-0.263546</td>\n      <td>0.509675</td>\n      <td>-0.522625</td>\n      <td>...</td>\n      <td>-0.509042</td>\n      <td>0.844611</td>\n      <td>-0.584671</td>\n      <td>-0.261119</td>\n      <td>3.262728</td>\n      <td>2.223186</td>\n      <td>0.619605</td>\n      <td>0.678672</td>\n      <td>-0.437484</td>\n      <td>0.437488</td>\n    </tr>\n    <tr>\n      <th>10116</th>\n      <td>0</td>\n      <td>-0.664422</td>\n      <td>1.060261</td>\n      <td>-0.266389</td>\n      <td>0.593115</td>\n      <td>2.180853</td>\n      <td>-0.163500</td>\n      <td>-0.263546</td>\n      <td>-1.368023</td>\n      <td>0.120645</td>\n      <td>...</td>\n      <td>-0.478888</td>\n      <td>1.255686</td>\n      <td>-0.591383</td>\n      <td>0.206786</td>\n      <td>1.284945</td>\n      <td>0.176316</td>\n      <td>-0.121955</td>\n      <td>0.856430</td>\n      <td>2.286428</td>\n      <td>-2.286431</td>\n    </tr>\n    <tr>\n      <th>10117</th>\n      <td>0</td>\n      <td>-0.290051</td>\n      <td>-0.943070</td>\n      <td>-1.036415</td>\n      <td>-0.893897</td>\n      <td>0.522808</td>\n      <td>-0.850632</td>\n      <td>-0.263546</td>\n      <td>0.008956</td>\n      <td>0.763915</td>\n      <td>...</td>\n      <td>-0.354313</td>\n      <td>-1.426735</td>\n      <td>-0.226314</td>\n      <td>0.276276</td>\n      <td>1.734897</td>\n      <td>-0.207472</td>\n      <td>0.453393</td>\n      <td>-0.997334</td>\n      <td>2.293573</td>\n      <td>-2.293577</td>\n    </tr>\n    <tr>\n      <th>10118</th>\n      <td>0</td>\n      <td>-2.037116</td>\n      <td>1.060261</td>\n      <td>-0.266389</td>\n      <td>0.593115</td>\n      <td>0.522808</td>\n      <td>-0.163500</td>\n      <td>-0.263546</td>\n      <td>0.008956</td>\n      <td>0.120645</td>\n      <td>...</td>\n      <td>-0.368399</td>\n      <td>-1.426735</td>\n      <td>-0.240398</td>\n      <td>-1.039415</td>\n      <td>1.176215</td>\n      <td>-0.122186</td>\n      <td>0.044257</td>\n      <td>-0.997334</td>\n      <td>2.290370</td>\n      <td>-2.290360</td>\n    </tr>\n    <tr>\n      <th>10119</th>\n      <td>0</td>\n      <td>-0.414842</td>\n      <td>-0.943070</td>\n      <td>-0.266389</td>\n      <td>0.593115</td>\n      <td>0.522808</td>\n      <td>-0.850632</td>\n      <td>3.884336</td>\n      <td>-1.368023</td>\n      <td>1.407186</td>\n      <td>...</td>\n      <td>0.193620</td>\n      <td>0.979591</td>\n      <td>0.105746</td>\n      <td>-0.261119</td>\n      <td>1.735781</td>\n      <td>-0.164829</td>\n      <td>-0.266857</td>\n      <td>-0.311695</td>\n      <td>2.290124</td>\n      <td>-2.290133</td>\n    </tr>\n  </tbody>\n</table>\n<p>10120 rows × 22 columns</p>\n</div>"
     },
     "execution_count": 17,
     "metadata": {},
     "output_type": "execute_result"
    }
   ],
   "source": [
    "preproc_data_x"
   ],
   "metadata": {
    "collapsed": false,
    "pycharm": {
     "name": "#%%\n"
    }
   }
  },
  {
   "cell_type": "code",
   "execution_count": 177,
   "outputs": [],
   "source": [
    "preproc_data_x = preproc_data_x.drop(trash_features, axis=1)"
   ],
   "metadata": {
    "collapsed": false,
    "pycharm": {
     "name": "#%%\n"
    }
   }
  },
  {
   "cell_type": "markdown",
   "source": [
    "# End of Pair Correlation features selection\n"
   ],
   "metadata": {
    "collapsed": false
   }
  },
  {
   "cell_type": "markdown",
   "source": [
    "# Features selection by it's positive, negative target feature ration for each feature"
   ],
   "metadata": {
    "collapsed": false
   }
  },
  {
   "cell_type": "code",
   "execution_count": 22,
   "outputs": [
    {
     "name": "stdout",
     "output_type": "stream",
     "text": [
      "\n",
      "Gender pos/neg target ratio:\n",
      "Gender : 1.0602613969424604 ,ratio = 4067 / 697 = 5.835 \tpos_perc = 85.37%, neg_perc = 14.63%\n",
      "Gender : -0.943070443434257 ,ratio = 4427 / 929 = 4.765 \tpos_perc = 82.65%, neg_perc = 17.35%\n",
      "\n",
      "Dependent_count pos/neg target ratio:\n",
      "Dependent_count : 0.5036361663392939 ,ratio = 2248 / 481 = 4.674 \tpos_perc = 82.37%, neg_perc = 17.63%\n",
      "Dependent_count : 1.2736615483235292 ,ratio = 1313 / 260 = 5.05 \tpos_perc = 83.47%, neg_perc = 16.53%\n",
      "Dependent_count : -0.2663892156449413 ,ratio = 2238 / 417 = 5.367 \tpos_perc = 84.29%, neg_perc = 15.71%\n",
      "Dependent_count : -1.806439979613412 ,ratio = 768 / 135 = 5.689 \tpos_perc = 85.05%, neg_perc = 14.95%\n",
      "Dependent_count : 2.0436869303077643 ,ratio = 359 / 64 = 5.609 \tpos_perc = 84.87%, neg_perc = 15.13%\n",
      "Dependent_count : -1.0364145976291763 ,ratio = 1568 / 269 = 5.829 \tpos_perc = 85.36%, neg_perc = 14.64%\n",
      "\n",
      "Education_Level pos/neg target ratio:\n",
      "Education_Level : -0.8938971384076957 ,ratio = 1706 / 306 = 5.575 \tpos_perc = 84.79%, neg_perc = 15.21%\n",
      "Education_Level : 0.5931151145200402 ,ratio = 3901 / 743 = 5.25 \tpos_perc = 84.0%, neg_perc = 16.0%\n",
      "Education_Level : -1.6374032648715635 ,ratio = 1249 / 236 = 5.292 \tpos_perc = 84.11%, neg_perc = 15.89%\n",
      "Education_Level : 1.3366212409839082 ,ratio = 424 / 92 = 4.609 \tpos_perc = 82.17%, neg_perc = 17.83%\n",
      "Education_Level : 2.0801273674477763 ,ratio = 356 / 95 = 3.747 \tpos_perc = 78.94%, neg_perc = 21.06%\n",
      "Education_Level : -0.15039101194382776 ,ratio = 858 / 154 = 5.571 \tpos_perc = 84.78%, neg_perc = 15.22%\n",
      "\n",
      "Marital_Status pos/neg target ratio:\n",
      "Marital_Status : 0.5228082670470868 ,ratio = 4595 / 838 = 5.483 \tpos_perc = 84.58%, neg_perc = 15.42%\n",
      "Marital_Status : -1.1352361273485636 ,ratio = 3272 / 667 = 4.906 \tpos_perc = 83.07%, neg_perc = 16.93%\n",
      "Marital_Status : 2.1808526614427373 ,ratio = 627 / 121 = 5.182 \tpos_perc = 83.82%, neg_perc = 16.18%\n",
      "\n",
      "Income_Category pos/neg target ratio:\n",
      "Income_Category : 0.4254713750413687 ,ratio = 1211 / 189 = 6.407 \tpos_perc = 86.5%, neg_perc = 13.5%\n",
      "Income_Category : 1.308927804887435 ,ratio = 1292 / 242 = 5.339 \tpos_perc = 84.22%, neg_perc = 15.78%\n",
      "Income_Category : -0.8506323569585053 ,ratio = 3873 / 799 = 4.847 \tpos_perc = 82.9%, neg_perc = 17.1%\n",
      "Income_Category : -0.1634995781893423 ,ratio = 1518 / 270 = 5.622 \tpos_perc = 84.9%, neg_perc = 15.1%\n",
      "Income_Category : 2.290546060271953 ,ratio = 600 / 126 = 4.762 \tpos_perc = 82.64%, neg_perc = 17.36%\n",
      "\n",
      "Card_Category pos/neg target ratio:\n",
      "Card_Category : -0.2635462993768691 ,ratio = 7911 / 1518 = 5.211 \tpos_perc = 83.9%, neg_perc = 16.1%\n",
      "Card_Category : 1.8103950300896272 ,ratio = 95 / 21 = 4.524 \tpos_perc = 81.9%, neg_perc = 18.1%\n",
      "Card_Category : 3.884336359556124 ,ratio = 473 / 82 = 5.768 \tpos_perc = 85.23%, neg_perc = 14.77%\n",
      "Card_Category : 5.95827768902262 ,ratio = 15 / 5 = 3.0 \tpos_perc = 75.0%, neg_perc = 25.0%\n",
      "\n",
      "Total_Relationship_Count pos/neg target ratio:\n",
      "Total_Relationship_Count : 0.7639153801742766 ,ratio = 1662 / 227 = 7.322 \tpos_perc = 87.98%, neg_perc = 12.02%\n",
      "Total_Relationship_Count : 0.12064498182482747 ,ratio = 1686 / 225 = 7.493 \tpos_perc = 88.23%, neg_perc = 11.77%\n",
      "Total_Relationship_Count : -0.5226254165246217 ,ratio = 1904 / 399 = 4.772 \tpos_perc = 82.67%, neg_perc = 17.33%\n",
      "Total_Relationship_Count : 1.4071857785237258 ,ratio = 1669 / 196 = 8.515 \tpos_perc = 89.49%, neg_perc = 10.51%\n",
      "Total_Relationship_Count : -1.165895814874071 ,ratio = 896 / 346 = 2.59 \tpos_perc = 72.14%, neg_perc = 27.86%\n",
      "Total_Relationship_Count : -1.80916621322352 ,ratio = 677 / 233 = 2.906 \tpos_perc = 74.4%, neg_perc = 25.6%\n",
      "\n",
      "Months_Inactive_12_mon pos/neg target ratio:\n",
      "Months_Inactive_12_mon : -1.3276146211962423 ,ratio = 2132 / 100 = 21.32 \tpos_perc = 95.52%, neg_perc = 4.48%\n",
      "Months_Inactive_12_mon : 1.6435176137674845 ,ratio = 304 / 130 = 2.338 \tpos_perc = 70.05%, neg_perc = 29.95%\n",
      "Months_Inactive_12_mon : -0.3372372095416669 ,ratio = 2776 / 504 = 5.508 \tpos_perc = 84.63%, neg_perc = 15.37%\n",
      "Months_Inactive_12_mon : 0.6531402021129087 ,ratio = 3019 / 826 = 3.655 \tpos_perc = 78.52%, neg_perc = 21.48%\n",
      "Months_Inactive_12_mon : -2.3179920328508183 ,ratio = 14 / 15 = 0.933 \tpos_perc = 48.28%, neg_perc = 51.72%\n",
      "Months_Inactive_12_mon : 2.6338950254220603 ,ratio = 145 / 32 = 4.531 \tpos_perc = 81.92%, neg_perc = 18.08%\n",
      "Months_Inactive_12_mon : 3.6242724370766353 ,ratio = 104 / 19 = 5.474 \tpos_perc = 84.55%, neg_perc = 15.45%\n",
      "\n",
      "Contacts_Count_12_mon pos/neg target ratio:\n",
      "Contacts_Count_12_mon : 0.4920096618373429 ,ratio = 2698 / 680 = 3.968 \tpos_perc = 79.87%, neg_perc = 20.13%\n",
      "Contacts_Count_12_mon : -2.22043147369593 ,ratio = 390 / 7 = 55.714 \tpos_perc = 98.24%, neg_perc = 1.76%\n",
      "Contacts_Count_12_mon : -1.3162844285181723 ,ratio = 1391 / 108 = 12.88 \tpos_perc = 92.8%, neg_perc = 7.2%\n",
      "Contacts_Count_12_mon : -0.41213738334041466 ,ratio = 2821 / 403 = 7.0 \tpos_perc = 87.5%, neg_perc = 12.5%\n",
      "Contacts_Count_12_mon : 1.3961567070151004 ,ratio = 1077 / 315 = 3.419 \tpos_perc = 77.37%, neg_perc = 22.63%\n",
      "Contacts_Count_12_mon : 2.3003037521928578 ,ratio = 117 / 59 = 1.983 \tpos_perc = 66.48%, neg_perc = 33.52%\n",
      "Contacts_Count_12_mon : 3.204450797370616 ,ratio = 0 / 54\n"
     ]
    },
    {
     "data": {
      "text/plain": "['Gender',\n 'Dependent_count',\n 'Education_Level',\n 'Marital_Status',\n 'Income_Category',\n 'Card_Category']"
     },
     "execution_count": 22,
     "metadata": {},
     "output_type": "execute_result"
    }
   ],
   "source": [
    "trash_features = analyze_data(preproc_data.drop(numerical_features, axis=1), \"Attrition_Flag\", 5)"
   ],
   "metadata": {
    "collapsed": false,
    "pycharm": {
     "name": "#%%\n"
    }
   }
  },
  {
   "cell_type": "code",
   "execution_count": null,
   "outputs": [],
   "source": [
    "trash_features"
   ],
   "metadata": {
    "collapsed": false,
    "pycharm": {
     "name": "#%%\n"
    }
   }
  },
  {
   "cell_type": "code",
   "execution_count": null,
   "outputs": [],
   "source": [
    "preproc_data_x = preproc_data_x.drop(trash_features, axis=1)\n"
   ],
   "metadata": {
    "collapsed": false,
    "pycharm": {
     "name": "#%%\n"
    }
   }
  },
  {
   "cell_type": "markdown",
   "source": [
    "# use inbuilt functions of python's classifiers in order to detect most useful and useless features for classification\n",
    "# SelectKBest\n",
    "accuracy = 0.942094861660079\n",
    "time elapsed 14.244200944900513"
   ],
   "metadata": {
    "collapsed": false,
    "pycharm": {
     "name": "#%% md\n"
    }
   }
  },
  {
   "cell_type": "code",
   "execution_count": 10,
   "outputs": [],
   "source": [
    "from sklearn.feature_selection import SelectKBest, f_regression\n",
    "x_train, x_test, y_train, y_test = train_test_split(x, y, test_size=0.3,\n",
    "                                                    random_state=1)\n",
    "best_features_number = 9 # chose according next code cell from below\n",
    "SelectKBest_model = SelectKBest(score_func=f_regression,\n",
    "                                k=best_features_number)\n",
    "k_best_features = SelectKBest_model.fit_transform(x, y)"
   ],
   "metadata": {
    "collapsed": false,
    "pycharm": {
     "name": "#%%\n"
    }
   }
  },
  {
   "cell_type": "code",
   "execution_count": 11,
   "outputs": [
    {
     "data": {
      "text/plain": "[8.47949343818261e-05,\n 0.13827982500625782,\n 1.059008554620853,\n 1.9522707578480856,\n 2.2334342183443767,\n 3.4988591966075893,\n 3.6374326954185365,\n 4.476194841444998,\n 5.6139904704396555,\n 13.792285257807805,\n 177.2672936043848,\n 232.61843614599215,\n 242.7260895237001,\n 295.82303148097924,\n 336.087560516785,\n 440.8360408901241,\n 755.5460931774444,\n 947.9056751516019,\n 1622.469516245955]"
     },
     "execution_count": 11,
     "metadata": {},
     "output_type": "execute_result"
    }
   ],
   "source": [
    "# code cell\n",
    "sorted(SelectKBest_model.fit(x, y).scores_)"
   ],
   "metadata": {
    "collapsed": false,
    "pycharm": {
     "name": "#%%\n"
    }
   }
  },
  {
   "cell_type": "code",
   "execution_count": 12,
   "outputs": [
    {
     "data": {
      "text/plain": "                           0            0\n0               Customer_Age     3.498859\n1                     Gender    13.792285\n2            Dependent_count     3.637433\n3            Education_Level     4.476195\n4             Marital_Status     2.233434\n5            Income_Category     1.059009\n6              Card_Category     0.138280\n7             Months_on_book     1.952271\n8   Total_Relationship_Count   232.618436\n9     Months_Inactive_12_mon   242.726090\n10     Contacts_Count_12_mon   440.836041\n11              Credit_Limit     5.613990\n12       Total_Revolving_Bal   755.546093\n13           Avg_Open_To_Buy     0.000085\n14      Total_Amt_Chng_Q4_Q1   177.267294\n15           Total_Trans_Amt   295.823031\n16            Total_Trans_Ct  1622.469516\n17       Total_Ct_Chng_Q4_Q1   947.905675\n18     Avg_Utilization_Ratio   336.087561",
      "text/html": "<div>\n<style scoped>\n    .dataframe tbody tr th:only-of-type {\n        vertical-align: middle;\n    }\n\n    .dataframe tbody tr th {\n        vertical-align: top;\n    }\n\n    .dataframe thead th {\n        text-align: right;\n    }\n</style>\n<table border=\"1\" class=\"dataframe\">\n  <thead>\n    <tr style=\"text-align: right;\">\n      <th></th>\n      <th>0</th>\n      <th>0</th>\n    </tr>\n  </thead>\n  <tbody>\n    <tr>\n      <th>0</th>\n      <td>Customer_Age</td>\n      <td>3.498859</td>\n    </tr>\n    <tr>\n      <th>1</th>\n      <td>Gender</td>\n      <td>13.792285</td>\n    </tr>\n    <tr>\n      <th>2</th>\n      <td>Dependent_count</td>\n      <td>3.637433</td>\n    </tr>\n    <tr>\n      <th>3</th>\n      <td>Education_Level</td>\n      <td>4.476195</td>\n    </tr>\n    <tr>\n      <th>4</th>\n      <td>Marital_Status</td>\n      <td>2.233434</td>\n    </tr>\n    <tr>\n      <th>5</th>\n      <td>Income_Category</td>\n      <td>1.059009</td>\n    </tr>\n    <tr>\n      <th>6</th>\n      <td>Card_Category</td>\n      <td>0.138280</td>\n    </tr>\n    <tr>\n      <th>7</th>\n      <td>Months_on_book</td>\n      <td>1.952271</td>\n    </tr>\n    <tr>\n      <th>8</th>\n      <td>Total_Relationship_Count</td>\n      <td>232.618436</td>\n    </tr>\n    <tr>\n      <th>9</th>\n      <td>Months_Inactive_12_mon</td>\n      <td>242.726090</td>\n    </tr>\n    <tr>\n      <th>10</th>\n      <td>Contacts_Count_12_mon</td>\n      <td>440.836041</td>\n    </tr>\n    <tr>\n      <th>11</th>\n      <td>Credit_Limit</td>\n      <td>5.613990</td>\n    </tr>\n    <tr>\n      <th>12</th>\n      <td>Total_Revolving_Bal</td>\n      <td>755.546093</td>\n    </tr>\n    <tr>\n      <th>13</th>\n      <td>Avg_Open_To_Buy</td>\n      <td>0.000085</td>\n    </tr>\n    <tr>\n      <th>14</th>\n      <td>Total_Amt_Chng_Q4_Q1</td>\n      <td>177.267294</td>\n    </tr>\n    <tr>\n      <th>15</th>\n      <td>Total_Trans_Amt</td>\n      <td>295.823031</td>\n    </tr>\n    <tr>\n      <th>16</th>\n      <td>Total_Trans_Ct</td>\n      <td>1622.469516</td>\n    </tr>\n    <tr>\n      <th>17</th>\n      <td>Total_Ct_Chng_Q4_Q1</td>\n      <td>947.905675</td>\n    </tr>\n    <tr>\n      <th>18</th>\n      <td>Avg_Utilization_Ratio</td>\n      <td>336.087561</td>\n    </tr>\n  </tbody>\n</table>\n</div>"
     },
     "execution_count": 12,
     "metadata": {},
     "output_type": "execute_result"
    }
   ],
   "source": [
    "scores = pd.concat([pd.DataFrame(preproc_data_x.columns),\n",
    "                    pd.DataFrame(SelectKBest_model.fit(x, y).scores_)],\n",
    "                   axis=1)\n",
    "scores"
   ],
   "metadata": {
    "collapsed": false,
    "pycharm": {
     "name": "#%%\n"
    }
   }
  },
  {
   "cell_type": "code",
   "execution_count": 18,
   "outputs": [
    {
     "data": {
      "text/plain": "[('Total_Trans_Ct', 1622.469516245955),\n ('Total_Ct_Chng_Q4_Q1', 947.9056751516019),\n ('Total_Revolving_Bal', 755.5460931774444),\n ('Contacts_Count_12_mon', 440.8360408901241),\n ('Avg_Utilization_Ratio', 336.087560516785),\n ('Total_Trans_Amt', 295.82303148097924),\n ('Months_Inactive_12_mon', 242.7260895237001),\n ('Total_Relationship_Count', 232.61843614599215),\n ('Total_Amt_Chng_Q4_Q1', 177.2672936043848),\n ('Gender', 13.792285257807805),\n ('Credit_Limit', 5.6139904704396555),\n ('Education_Level', 4.476194841444998),\n ('Dependent_count', 3.6374326954185365),\n ('Customer_Age', 3.4988591966075893),\n ('Marital_Status', 2.2334342183443767),\n ('Months_on_book', 1.9522707578480856),\n ('Income_Category', 1.059008554620853),\n ('Card_Category', 0.13827982500625782),\n ('Avg_Open_To_Buy', 8.47949343818261e-05)]"
     },
     "execution_count": 18,
     "metadata": {},
     "output_type": "execute_result"
    }
   ],
   "source": [
    "sorted(list(zip(scores.iloc[:,0], scores.iloc[:,1])), key=lambda x: x[1], reverse=True)"
   ],
   "metadata": {
    "collapsed": false,
    "pycharm": {
     "name": "#%%\n"
    }
   }
  },
  {
   "cell_type": "code",
   "execution_count": 13,
   "outputs": [],
   "source": [
    "k_best_features_mod = [k_best_features[:, i] for i in range(len(k_best_features[0]))]\n",
    "def mod_lambda(x):\n",
    "    for i in k_best_features_mod:\n",
    "        if all(i == preproc_data_x[x].values):\n",
    "            return True\n",
    "    return False\n",
    "\n",
    "k_best_features_name = list(filter(mod_lambda, preproc_data_x))"
   ],
   "metadata": {
    "collapsed": false,
    "pycharm": {
     "name": "#%%\n"
    }
   }
  },
  {
   "cell_type": "code",
   "execution_count": 21,
   "outputs": [
    {
     "data": {
      "text/plain": "['Total_Relationship_Count',\n 'Months_Inactive_12_mon',\n 'Contacts_Count_12_mon',\n 'Total_Revolving_Bal',\n 'Total_Trans_Amt',\n 'Total_Trans_Ct',\n 'Total_Ct_Chng_Q4_Q1',\n 'Avg_Utilization_Ratio']"
     },
     "execution_count": 21,
     "metadata": {},
     "output_type": "execute_result"
    }
   ],
   "source": [
    "k_best_features_name"
   ],
   "metadata": {
    "collapsed": false,
    "pycharm": {
     "name": "#%%\n"
    }
   }
  },
  {
   "cell_type": "code",
   "execution_count": 22,
   "outputs": [],
   "source": [
    "trash_features = np.setdiff1d(np.array(preproc_data_x.columns), np.array(k_best_features_name))"
   ],
   "metadata": {
    "collapsed": false,
    "pycharm": {
     "name": "#%%\n"
    }
   }
  },
  {
   "cell_type": "code",
   "execution_count": 23,
   "outputs": [
    {
     "data": {
      "text/plain": "array(['Avg_Open_To_Buy', 'Card_Category', 'Credit_Limit', 'Customer_Age',\n       'Dependent_count', 'Education_Level', 'Gender', 'Income_Category',\n       'Marital_Status', 'Months_on_book', 'Total_Amt_Chng_Q4_Q1'],\n      dtype=object)"
     },
     "execution_count": 23,
     "metadata": {},
     "output_type": "execute_result"
    }
   ],
   "source": [
    "trash_features"
   ],
   "metadata": {
    "collapsed": false,
    "pycharm": {
     "name": "#%%\n"
    }
   }
  },
  {
   "cell_type": "code",
   "execution_count": 190,
   "outputs": [],
   "source": [
    "preproc_data_x = preproc_data_x.drop(trash_features, axis=1)"
   ],
   "metadata": {
    "collapsed": false,
    "pycharm": {
     "name": "#%%\n"
    }
   }
  },
  {
   "cell_type": "code",
   "execution_count": 161,
   "outputs": [
    {
     "data": {
      "text/plain": "       Total_Relationship_Count  Months_Inactive_12_mon  \\\n0                      0.763915               -1.327615   \n1                      0.120645               -1.327615   \n2                     -0.522625                1.643518   \n3                      0.763915               -1.327615   \n4                     -0.522625               -1.327615   \n...                         ...                     ...   \n10115                 -0.522625               -0.337237   \n10116                  0.120645               -0.337237   \n10117                  0.763915                0.653140   \n10118                  0.120645                0.653140   \n10119                  1.407186               -0.337237   \n\n       Contacts_Count_12_mon  Total_Revolving_Bal  Total_Amt_Chng_Q4_Q1  \\\n0                   0.492010            -0.473285              2.666758   \n1                  -2.220431            -1.426735              8.499347   \n2                  -1.316284             1.661853              2.991048   \n3                  -2.220431            -1.426735              6.558239   \n4                  -0.412137             0.103448              2.856699   \n...                      ...                  ...                   ...   \n10115               0.492010             0.844611             -0.261119   \n10116               0.492010             1.255686              0.206786   \n10117               1.396157            -1.426735              0.276276   \n10118               0.492010            -1.426735             -1.039415   \n10119               1.396157             0.979591             -0.261119   \n\n       Total_Trans_Amt  Total_Trans_Ct  Total_Ct_Chng_Q4_Q1  \\\n0            -0.960392       -0.975049             3.892696   \n1            -0.741457       -1.913197             6.910076   \n2            -0.952436       -1.913197             6.910076   \n3            -1.057042       -1.572052             7.621803   \n4            -0.976893       -1.742625             0.572725   \n...                ...             ...                  ...   \n10115         3.262728        2.223186             0.619605   \n10116         1.284945        0.176316            -0.121955   \n10117         1.734897       -0.207472             0.453393   \n10118         1.176215       -0.122186             0.044257   \n10119         1.735781       -0.164829            -0.266857   \n\n       Avg_Utilization_Ratio  \n0                  -0.776043  \n1                  -0.997334  \n2                   1.759732  \n3                  -0.997334  \n4                   0.130886  \n...                      ...  \n10115               0.678672  \n10116               0.856430  \n10117              -0.997334  \n10118              -0.997334  \n10119              -0.311695  \n\n[10120 rows x 9 columns]",
      "text/html": "<div>\n<style scoped>\n    .dataframe tbody tr th:only-of-type {\n        vertical-align: middle;\n    }\n\n    .dataframe tbody tr th {\n        vertical-align: top;\n    }\n\n    .dataframe thead th {\n        text-align: right;\n    }\n</style>\n<table border=\"1\" class=\"dataframe\">\n  <thead>\n    <tr style=\"text-align: right;\">\n      <th></th>\n      <th>Total_Relationship_Count</th>\n      <th>Months_Inactive_12_mon</th>\n      <th>Contacts_Count_12_mon</th>\n      <th>Total_Revolving_Bal</th>\n      <th>Total_Amt_Chng_Q4_Q1</th>\n      <th>Total_Trans_Amt</th>\n      <th>Total_Trans_Ct</th>\n      <th>Total_Ct_Chng_Q4_Q1</th>\n      <th>Avg_Utilization_Ratio</th>\n    </tr>\n  </thead>\n  <tbody>\n    <tr>\n      <th>0</th>\n      <td>0.763915</td>\n      <td>-1.327615</td>\n      <td>0.492010</td>\n      <td>-0.473285</td>\n      <td>2.666758</td>\n      <td>-0.960392</td>\n      <td>-0.975049</td>\n      <td>3.892696</td>\n      <td>-0.776043</td>\n    </tr>\n    <tr>\n      <th>1</th>\n      <td>0.120645</td>\n      <td>-1.327615</td>\n      <td>-2.220431</td>\n      <td>-1.426735</td>\n      <td>8.499347</td>\n      <td>-0.741457</td>\n      <td>-1.913197</td>\n      <td>6.910076</td>\n      <td>-0.997334</td>\n    </tr>\n    <tr>\n      <th>2</th>\n      <td>-0.522625</td>\n      <td>1.643518</td>\n      <td>-1.316284</td>\n      <td>1.661853</td>\n      <td>2.991048</td>\n      <td>-0.952436</td>\n      <td>-1.913197</td>\n      <td>6.910076</td>\n      <td>1.759732</td>\n    </tr>\n    <tr>\n      <th>3</th>\n      <td>0.763915</td>\n      <td>-1.327615</td>\n      <td>-2.220431</td>\n      <td>-1.426735</td>\n      <td>6.558239</td>\n      <td>-1.057042</td>\n      <td>-1.572052</td>\n      <td>7.621803</td>\n      <td>-0.997334</td>\n    </tr>\n    <tr>\n      <th>4</th>\n      <td>-0.522625</td>\n      <td>-1.327615</td>\n      <td>-0.412137</td>\n      <td>0.103448</td>\n      <td>2.856699</td>\n      <td>-0.976893</td>\n      <td>-1.742625</td>\n      <td>0.572725</td>\n      <td>0.130886</td>\n    </tr>\n    <tr>\n      <th>...</th>\n      <td>...</td>\n      <td>...</td>\n      <td>...</td>\n      <td>...</td>\n      <td>...</td>\n      <td>...</td>\n      <td>...</td>\n      <td>...</td>\n      <td>...</td>\n    </tr>\n    <tr>\n      <th>10115</th>\n      <td>-0.522625</td>\n      <td>-0.337237</td>\n      <td>0.492010</td>\n      <td>0.844611</td>\n      <td>-0.261119</td>\n      <td>3.262728</td>\n      <td>2.223186</td>\n      <td>0.619605</td>\n      <td>0.678672</td>\n    </tr>\n    <tr>\n      <th>10116</th>\n      <td>0.120645</td>\n      <td>-0.337237</td>\n      <td>0.492010</td>\n      <td>1.255686</td>\n      <td>0.206786</td>\n      <td>1.284945</td>\n      <td>0.176316</td>\n      <td>-0.121955</td>\n      <td>0.856430</td>\n    </tr>\n    <tr>\n      <th>10117</th>\n      <td>0.763915</td>\n      <td>0.653140</td>\n      <td>1.396157</td>\n      <td>-1.426735</td>\n      <td>0.276276</td>\n      <td>1.734897</td>\n      <td>-0.207472</td>\n      <td>0.453393</td>\n      <td>-0.997334</td>\n    </tr>\n    <tr>\n      <th>10118</th>\n      <td>0.120645</td>\n      <td>0.653140</td>\n      <td>0.492010</td>\n      <td>-1.426735</td>\n      <td>-1.039415</td>\n      <td>1.176215</td>\n      <td>-0.122186</td>\n      <td>0.044257</td>\n      <td>-0.997334</td>\n    </tr>\n    <tr>\n      <th>10119</th>\n      <td>1.407186</td>\n      <td>-0.337237</td>\n      <td>1.396157</td>\n      <td>0.979591</td>\n      <td>-0.261119</td>\n      <td>1.735781</td>\n      <td>-0.164829</td>\n      <td>-0.266857</td>\n      <td>-0.311695</td>\n    </tr>\n  </tbody>\n</table>\n<p>10120 rows × 9 columns</p>\n</div>"
     },
     "execution_count": 161,
     "metadata": {},
     "output_type": "execute_result"
    }
   ],
   "source": [
    "preproc_data_x"
   ],
   "metadata": {
    "collapsed": false,
    "pycharm": {
     "name": "#%%\n"
    }
   }
  },
  {
   "cell_type": "markdown",
   "source": [
    "# feature selection using LogisticRegression\n",
    "accuracy = 0.9390316205533598\n",
    "time elapsed 11.121315002441406"
   ],
   "metadata": {
    "collapsed": false,
    "pycharm": {
     "name": "#%% md\n"
    }
   }
  },
  {
   "cell_type": "code",
   "execution_count": 194,
   "outputs": [],
   "source": [
    "from sklearn.linear_model import LogisticRegression\n",
    "from sklearn.feature_selection import SelectFromModel\n",
    "\n",
    "selector = SelectFromModel(LogisticRegression(penalty=\"l1\", C=0.01,\n",
    "                                              solver=\"liblinear\"))\n",
    "selector.fit(X=x, y=y)\n",
    "manage_array = selector.get_support()"
   ],
   "metadata": {
    "collapsed": false,
    "pycharm": {
     "name": "#%%\n"
    }
   }
  },
  {
   "cell_type": "code",
   "execution_count": 130,
   "outputs": [
    {
     "data": {
      "text/plain": "array([[ 0.05101883,  0.47492018, -0.17400038, -0.04965708,  0.1704445 ,\n        -0.23288901, -0.11245795,  0.04651969,  0.69811067, -0.51250684,\n        -0.55572608,  0.02613341,  0.77488566,  0.09119238,  0.09066267,\n        -1.604506  ,  2.70611948,  0.65569399,  0.03027849]])"
     },
     "execution_count": 130,
     "metadata": {},
     "output_type": "execute_result"
    }
   ],
   "source": [
    "selector.estimator_.coef_"
   ],
   "metadata": {
    "collapsed": false,
    "pycharm": {
     "name": "#%%\n"
    }
   }
  },
  {
   "cell_type": "code",
   "execution_count": 142,
   "outputs": [
    {
     "data": {
      "text/plain": "array([False,  True,  True, False,  True, False, False, False,  True,\n        True,  True, False,  True, False, False,  True,  True,  True,\n       False])"
     },
     "execution_count": 142,
     "metadata": {},
     "output_type": "execute_result"
    }
   ],
   "source": [
    "manage_array"
   ],
   "metadata": {
    "collapsed": false,
    "pycharm": {
     "name": "#%%\n"
    }
   }
  },
  {
   "cell_type": "code",
   "execution_count": 147,
   "outputs": [
    {
     "ename": "TypeError",
     "evalue": "bad operand type for unary ~: 'Index'",
     "output_type": "error",
     "traceback": [
      "\u001B[1;31m---------------------------------------------------------------------------\u001B[0m",
      "\u001B[1;31mTypeError\u001B[0m                                 Traceback (most recent call last)",
      "\u001B[1;32m<ipython-input-147-864eddd25dfb>\u001B[0m in \u001B[0;36m<module>\u001B[1;34m\u001B[0m\n\u001B[1;32m----> 1\u001B[1;33m \u001B[1;33m~\u001B[0m\u001B[0mpreproc_data_x\u001B[0m\u001B[1;33m.\u001B[0m\u001B[0mcolumns\u001B[0m\u001B[1;33m[\u001B[0m\u001B[0mmanage_array\u001B[0m\u001B[1;33m]\u001B[0m\u001B[1;33m\u001B[0m\u001B[1;33m\u001B[0m\u001B[0m\n\u001B[0m",
      "\u001B[1;31mTypeError\u001B[0m: bad operand type for unary ~: 'Index'"
     ]
    }
   ],
   "source": [],
   "metadata": {
    "collapsed": false,
    "pycharm": {
     "name": "#%%\n"
    }
   }
  },
  {
   "cell_type": "code",
   "execution_count": 195,
   "outputs": [],
   "source": [
    "preproc_data_x = preproc_data_x[preproc_data_x.columns[manage_array]]"
   ],
   "metadata": {
    "collapsed": false,
    "pycharm": {
     "name": "#%%\n"
    }
   }
  },
  {
   "cell_type": "markdown",
   "source": [
    "# model evaluation(checking feature selection methods useness)\n",
    "metrics without features selection\n",
    "accuracy = 0.9468379446640316\n",
    "time elapsed 16.462324619293213"
   ],
   "metadata": {
    "collapsed": false,
    "pycharm": {
     "name": "#%% md\n"
    }
   }
  },
  {
   "cell_type": "code",
   "execution_count": 196,
   "outputs": [],
   "source": [
    "x = preproc_data_x.values\n",
    "y = preproc_data[\"Attrition_Flag\"].values"
   ],
   "metadata": {
    "collapsed": false,
    "pycharm": {
     "name": "#%%\n"
    }
   }
  },
  {
   "cell_type": "code",
   "execution_count": 197,
   "outputs": [
    {
     "name": "stdout",
     "output_type": "stream",
     "text": [
      "0.9390316205533598\n",
      "time elapsed 11.121315002441406\n"
     ]
    }
   ],
   "source": [
    "import time\n",
    "\n",
    "clf_model_best_params = {'bootstrap': False,\n",
    "                         'max_depth': 12,\n",
    "                         'max_features': 'sqrt',\n",
    "                         'n_estimators': 100}\n",
    "clf_model = RandomForestClassifier(**clf_model_best_params)\n",
    "\n",
    "t0 = time.time()\n",
    "print(cross_val_score(clf_model, x, y, cv=10, scoring=\"accuracy\").mean())\n",
    "print(f\"time elapsed {time.time() - t0}\")"
   ],
   "metadata": {
    "collapsed": false,
    "pycharm": {
     "name": "#%%\n"
    }
   }
  },
  {
   "cell_type": "code",
   "execution_count": 193,
   "outputs": [],
   "source": [
    "\n",
    "preproc_data = pd.read_csv(\"pre-processing_BankChurners.csv\")\n",
    "preproc_data_x = preproc_data.drop([\"Attrition_Flag\",\n",
    "                       \"Naive_Bayes_Classifier_Attrition_Flag_Card_Category_Contacts_Count_12_mon_Dependent_count_Education_Level_Months_Inactive_12_mon_1\",\n",
    "                       \"Naive_Bayes_Classifier_Attrition_Flag_Card_Category_Contacts_Count_12_mon_Dependent_count_Education_Level_Months_Inactive_12_mon_2\"\n",
    "                       ], axis=1)\n",
    "x = preproc_data_x.values\n",
    "y = preproc_data[\"Attrition_Flag\"].values"
   ],
   "metadata": {
    "collapsed": false,
    "pycharm": {
     "name": "#%%\n"
    }
   }
  },
  {
   "cell_type": "code",
   "execution_count": 178,
   "outputs": [
    {
     "data": {
      "text/plain": "         Gender  Dependent_count  Education_Level  Marital_Status  \\\n0      1.060261         0.503636        -0.893897        0.522808   \n1      1.060261         0.503636         0.593115        0.522808   \n2     -0.943070         1.273662        -0.893897        0.522808   \n3      1.060261         0.503636        -1.637403        0.522808   \n4      1.060261        -0.266389         0.593115        0.522808   \n...         ...              ...              ...             ...   \n10115  1.060261        -0.266389         0.593115       -1.135236   \n10116  1.060261        -0.266389         0.593115        2.180853   \n10117 -0.943070        -1.036415        -0.893897        0.522808   \n10118  1.060261        -0.266389         0.593115        0.522808   \n10119 -0.943070        -0.266389         0.593115        0.522808   \n\n       Card_Category  Months_on_book  Total_Relationship_Count  \\\n0          -0.263546        0.384495                  0.763915   \n1          -0.263546        0.008956                  0.120645   \n2          -0.263546       -0.241404                 -0.522625   \n3          -0.263546       -1.868743                  0.763915   \n4          -0.263546        0.008956                 -0.522625   \n...              ...             ...                       ...   \n10115      -0.263546        0.509675                 -0.522625   \n10116      -0.263546       -1.368023                  0.120645   \n10117      -0.263546        0.008956                  0.763915   \n10118      -0.263546        0.008956                  0.120645   \n10119       3.884336       -1.368023                  1.407186   \n\n       Months_Inactive_12_mon  Contacts_Count_12_mon  Credit_Limit  \\\n0                   -1.327615               0.492010      0.447062   \n1                   -1.327615              -2.220431     -0.573420   \n2                    1.643518              -1.316284     -0.584975   \n3                   -1.327615              -2.220431     -0.430577   \n4                   -1.327615              -0.412137     -0.508271   \n...                       ...                    ...           ...   \n10115               -0.337237               0.492010     -0.509042   \n10116               -0.337237               0.492010     -0.478888   \n10117                0.653140               1.396157     -0.354313   \n10118                0.653140               0.492010     -0.368399   \n10119               -0.337237               1.396157      0.193620   \n\n       Total_Revolving_Bal  Total_Amt_Chng_Q4_Q1  Total_Trans_Ct  \\\n0                -0.473285              2.666758       -0.975049   \n1                -1.426735              8.499347       -1.913197   \n2                 1.661853              2.991048       -1.913197   \n3                -1.426735              6.558239       -1.572052   \n4                 0.103448              2.856699       -1.742625   \n...                    ...                   ...             ...   \n10115             0.844611             -0.261119        2.223186   \n10116             1.255686              0.206786        0.176316   \n10117            -1.426735              0.276276       -0.207472   \n10118            -1.426735             -1.039415       -0.122186   \n10119             0.979591             -0.261119       -0.164829   \n\n       Total_Ct_Chng_Q4_Q1  \n0                 3.892696  \n1                 6.910076  \n2                 6.910076  \n3                 7.621803  \n4                 0.572725  \n...                    ...  \n10115             0.619605  \n10116            -0.121955  \n10117             0.453393  \n10118             0.044257  \n10119            -0.266857  \n\n[10120 rows x 14 columns]",
      "text/html": "<div>\n<style scoped>\n    .dataframe tbody tr th:only-of-type {\n        vertical-align: middle;\n    }\n\n    .dataframe tbody tr th {\n        vertical-align: top;\n    }\n\n    .dataframe thead th {\n        text-align: right;\n    }\n</style>\n<table border=\"1\" class=\"dataframe\">\n  <thead>\n    <tr style=\"text-align: right;\">\n      <th></th>\n      <th>Gender</th>\n      <th>Dependent_count</th>\n      <th>Education_Level</th>\n      <th>Marital_Status</th>\n      <th>Card_Category</th>\n      <th>Months_on_book</th>\n      <th>Total_Relationship_Count</th>\n      <th>Months_Inactive_12_mon</th>\n      <th>Contacts_Count_12_mon</th>\n      <th>Credit_Limit</th>\n      <th>Total_Revolving_Bal</th>\n      <th>Total_Amt_Chng_Q4_Q1</th>\n      <th>Total_Trans_Ct</th>\n      <th>Total_Ct_Chng_Q4_Q1</th>\n    </tr>\n  </thead>\n  <tbody>\n    <tr>\n      <th>0</th>\n      <td>1.060261</td>\n      <td>0.503636</td>\n      <td>-0.893897</td>\n      <td>0.522808</td>\n      <td>-0.263546</td>\n      <td>0.384495</td>\n      <td>0.763915</td>\n      <td>-1.327615</td>\n      <td>0.492010</td>\n      <td>0.447062</td>\n      <td>-0.473285</td>\n      <td>2.666758</td>\n      <td>-0.975049</td>\n      <td>3.892696</td>\n    </tr>\n    <tr>\n      <th>1</th>\n      <td>1.060261</td>\n      <td>0.503636</td>\n      <td>0.593115</td>\n      <td>0.522808</td>\n      <td>-0.263546</td>\n      <td>0.008956</td>\n      <td>0.120645</td>\n      <td>-1.327615</td>\n      <td>-2.220431</td>\n      <td>-0.573420</td>\n      <td>-1.426735</td>\n      <td>8.499347</td>\n      <td>-1.913197</td>\n      <td>6.910076</td>\n    </tr>\n    <tr>\n      <th>2</th>\n      <td>-0.943070</td>\n      <td>1.273662</td>\n      <td>-0.893897</td>\n      <td>0.522808</td>\n      <td>-0.263546</td>\n      <td>-0.241404</td>\n      <td>-0.522625</td>\n      <td>1.643518</td>\n      <td>-1.316284</td>\n      <td>-0.584975</td>\n      <td>1.661853</td>\n      <td>2.991048</td>\n      <td>-1.913197</td>\n      <td>6.910076</td>\n    </tr>\n    <tr>\n      <th>3</th>\n      <td>1.060261</td>\n      <td>0.503636</td>\n      <td>-1.637403</td>\n      <td>0.522808</td>\n      <td>-0.263546</td>\n      <td>-1.868743</td>\n      <td>0.763915</td>\n      <td>-1.327615</td>\n      <td>-2.220431</td>\n      <td>-0.430577</td>\n      <td>-1.426735</td>\n      <td>6.558239</td>\n      <td>-1.572052</td>\n      <td>7.621803</td>\n    </tr>\n    <tr>\n      <th>4</th>\n      <td>1.060261</td>\n      <td>-0.266389</td>\n      <td>0.593115</td>\n      <td>0.522808</td>\n      <td>-0.263546</td>\n      <td>0.008956</td>\n      <td>-0.522625</td>\n      <td>-1.327615</td>\n      <td>-0.412137</td>\n      <td>-0.508271</td>\n      <td>0.103448</td>\n      <td>2.856699</td>\n      <td>-1.742625</td>\n      <td>0.572725</td>\n    </tr>\n    <tr>\n      <th>...</th>\n      <td>...</td>\n      <td>...</td>\n      <td>...</td>\n      <td>...</td>\n      <td>...</td>\n      <td>...</td>\n      <td>...</td>\n      <td>...</td>\n      <td>...</td>\n      <td>...</td>\n      <td>...</td>\n      <td>...</td>\n      <td>...</td>\n      <td>...</td>\n    </tr>\n    <tr>\n      <th>10115</th>\n      <td>1.060261</td>\n      <td>-0.266389</td>\n      <td>0.593115</td>\n      <td>-1.135236</td>\n      <td>-0.263546</td>\n      <td>0.509675</td>\n      <td>-0.522625</td>\n      <td>-0.337237</td>\n      <td>0.492010</td>\n      <td>-0.509042</td>\n      <td>0.844611</td>\n      <td>-0.261119</td>\n      <td>2.223186</td>\n      <td>0.619605</td>\n    </tr>\n    <tr>\n      <th>10116</th>\n      <td>1.060261</td>\n      <td>-0.266389</td>\n      <td>0.593115</td>\n      <td>2.180853</td>\n      <td>-0.263546</td>\n      <td>-1.368023</td>\n      <td>0.120645</td>\n      <td>-0.337237</td>\n      <td>0.492010</td>\n      <td>-0.478888</td>\n      <td>1.255686</td>\n      <td>0.206786</td>\n      <td>0.176316</td>\n      <td>-0.121955</td>\n    </tr>\n    <tr>\n      <th>10117</th>\n      <td>-0.943070</td>\n      <td>-1.036415</td>\n      <td>-0.893897</td>\n      <td>0.522808</td>\n      <td>-0.263546</td>\n      <td>0.008956</td>\n      <td>0.763915</td>\n      <td>0.653140</td>\n      <td>1.396157</td>\n      <td>-0.354313</td>\n      <td>-1.426735</td>\n      <td>0.276276</td>\n      <td>-0.207472</td>\n      <td>0.453393</td>\n    </tr>\n    <tr>\n      <th>10118</th>\n      <td>1.060261</td>\n      <td>-0.266389</td>\n      <td>0.593115</td>\n      <td>0.522808</td>\n      <td>-0.263546</td>\n      <td>0.008956</td>\n      <td>0.120645</td>\n      <td>0.653140</td>\n      <td>0.492010</td>\n      <td>-0.368399</td>\n      <td>-1.426735</td>\n      <td>-1.039415</td>\n      <td>-0.122186</td>\n      <td>0.044257</td>\n    </tr>\n    <tr>\n      <th>10119</th>\n      <td>-0.943070</td>\n      <td>-0.266389</td>\n      <td>0.593115</td>\n      <td>0.522808</td>\n      <td>3.884336</td>\n      <td>-1.368023</td>\n      <td>1.407186</td>\n      <td>-0.337237</td>\n      <td>1.396157</td>\n      <td>0.193620</td>\n      <td>0.979591</td>\n      <td>-0.261119</td>\n      <td>-0.164829</td>\n      <td>-0.266857</td>\n    </tr>\n  </tbody>\n</table>\n<p>10120 rows × 14 columns</p>\n</div>"
     },
     "execution_count": 178,
     "metadata": {},
     "output_type": "execute_result"
    }
   ],
   "source": [
    "preproc_data_x\n"
   ],
   "metadata": {
    "collapsed": false,
    "pycharm": {
     "name": "#%%\n"
    }
   }
  },
  {
   "cell_type": "code",
   "execution_count": null,
   "outputs": [],
   "source": [],
   "metadata": {
    "collapsed": false,
    "pycharm": {
     "name": "#%%\n"
    }
   }
  }
 ],
 "metadata": {
  "kernelspec": {
   "display_name": "Python 3",
   "language": "python",
   "name": "python3"
  },
  "language_info": {
   "codemirror_mode": {
    "name": "ipython",
    "version": 2
   },
   "file_extension": ".py",
   "mimetype": "text/x-python",
   "name": "python",
   "nbconvert_exporter": "python",
   "pygments_lexer": "ipython2",
   "version": "2.7.6"
  }
 },
 "nbformat": 4,
 "nbformat_minor": 0
}