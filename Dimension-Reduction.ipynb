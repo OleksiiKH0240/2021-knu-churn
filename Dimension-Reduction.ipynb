{
 "cells": [
  {
   "cell_type": "code",
   "execution_count": null,
   "metadata": {
    "collapsed": true
   },
   "outputs": [],
   "source": []
  },
  {
   "cell_type": "code",
   "execution_count": 5,
   "outputs": [
    {
     "name": "stdout",
     "output_type": "stream",
     "text": [
      "Requirement already satisfied: pandas in d:\\onedrive\\pythonpr\\samsung_knu_2021_practice\\2021-knu-churn\\venv\\lib\\site-packages (0.25.3)\n",
      "Requirement already satisfied: python-dateutil>=2.6.1 in d:\\onedrive\\pythonpr\\samsung_knu_2021_practice\\2021-knu-churn\\venv\\lib\\site-packages (from pandas) (2.8.1)\n",
      "Requirement already satisfied: numpy>=1.13.3 in d:\\onedrive\\pythonpr\\samsung_knu_2021_practice\\2021-knu-churn\\venv\\lib\\site-packages (from pandas) (1.18.5)\n",
      "Requirement already satisfied: pytz>=2017.2 in d:\\onedrive\\pythonpr\\samsung_knu_2021_practice\\2021-knu-churn\\venv\\lib\\site-packages (from pandas) (2020.5)\n",
      "Requirement already satisfied: six>=1.5 in d:\\onedrive\\pythonpr\\samsung_knu_2021_practice\\2021-knu-churn\\venv\\lib\\site-packages (from python-dateutil>=2.6.1->pandas) (1.15.0)\n",
      "Requirement already satisfied: seaborn in d:\\onedrive\\pythonpr\\samsung_knu_2021_practice\\2021-knu-churn\\venv\\lib\\site-packages (0.11.1)\n",
      "Requirement already satisfied: numpy>=1.15 in d:\\onedrive\\pythonpr\\samsung_knu_2021_practice\\2021-knu-churn\\venv\\lib\\site-packages (from seaborn) (1.18.5)\n",
      "Requirement already satisfied: scipy>=1.0 in d:\\onedrive\\pythonpr\\samsung_knu_2021_practice\\2021-knu-churn\\venv\\lib\\site-packages (from seaborn) (1.5.2)\n",
      "Requirement already satisfied: pandas>=0.23 in d:\\onedrive\\pythonpr\\samsung_knu_2021_practice\\2021-knu-churn\\venv\\lib\\site-packages (from seaborn) (0.25.3)\n",
      "Requirement already satisfied: matplotlib>=2.2 in d:\\onedrive\\pythonpr\\samsung_knu_2021_practice\\2021-knu-churn\\venv\\lib\\site-packages (from seaborn) (3.3.3)\n",
      "Requirement already satisfied: kiwisolver>=1.0.1 in d:\\onedrive\\pythonpr\\samsung_knu_2021_practice\\2021-knu-churn\\venv\\lib\\site-packages (from matplotlib>=2.2->seaborn) (1.3.1)\n",
      "Requirement already satisfied: python-dateutil>=2.1 in d:\\onedrive\\pythonpr\\samsung_knu_2021_practice\\2021-knu-churn\\venv\\lib\\site-packages (from matplotlib>=2.2->seaborn) (2.8.1)\n",
      "Requirement already satisfied: pillow>=6.2.0 in d:\\onedrive\\pythonpr\\samsung_knu_2021_practice\\2021-knu-churn\\venv\\lib\\site-packages (from matplotlib>=2.2->seaborn) (8.1.0)\n",
      "Requirement already satisfied: pyparsing!=2.0.4,!=2.1.2,!=2.1.6,>=2.0.3 in d:\\onedrive\\pythonpr\\samsung_knu_2021_practice\\2021-knu-churn\\venv\\lib\\site-packages (from matplotlib>=2.2->seaborn) (2.4.7)\n",
      "Requirement already satisfied: cycler>=0.10 in d:\\onedrive\\pythonpr\\samsung_knu_2021_practice\\2021-knu-churn\\venv\\lib\\site-packages (from matplotlib>=2.2->seaborn) (0.10.0)\n",
      "Requirement already satisfied: six in d:\\onedrive\\pythonpr\\samsung_knu_2021_practice\\2021-knu-churn\\venv\\lib\\site-packages (from cycler>=0.10->matplotlib>=2.2->seaborn) (1.15.0)\n",
      "Requirement already satisfied: pytz>=2017.2 in d:\\onedrive\\pythonpr\\samsung_knu_2021_practice\\2021-knu-churn\\venv\\lib\\site-packages (from pandas>=0.23->seaborn) (2020.5)\n",
      "Requirement already satisfied: numpy in d:\\onedrive\\pythonpr\\samsung_knu_2021_practice\\2021-knu-churn\\venv\\lib\\site-packages (1.18.5)\n",
      "Requirement already satisfied: matplotlib in d:\\onedrive\\pythonpr\\samsung_knu_2021_practice\\2021-knu-churn\\venv\\lib\\site-packages (3.3.3)\n",
      "Requirement already satisfied: python-dateutil>=2.1 in d:\\onedrive\\pythonpr\\samsung_knu_2021_practice\\2021-knu-churn\\venv\\lib\\site-packages (from matplotlib) (2.8.1)\n",
      "Requirement already satisfied: kiwisolver>=1.0.1 in d:\\onedrive\\pythonpr\\samsung_knu_2021_practice\\2021-knu-churn\\venv\\lib\\site-packages (from matplotlib) (1.3.1)\n",
      "Requirement already satisfied: pillow>=6.2.0 in d:\\onedrive\\pythonpr\\samsung_knu_2021_practice\\2021-knu-churn\\venv\\lib\\site-packages (from matplotlib) (8.1.0)\n",
      "Requirement already satisfied: numpy>=1.15 in d:\\onedrive\\pythonpr\\samsung_knu_2021_practice\\2021-knu-churn\\venv\\lib\\site-packages (from matplotlib) (1.18.5)\n",
      "Requirement already satisfied: pyparsing!=2.0.4,!=2.1.2,!=2.1.6,>=2.0.3 in d:\\onedrive\\pythonpr\\samsung_knu_2021_practice\\2021-knu-churn\\venv\\lib\\site-packages (from matplotlib) (2.4.7)\n",
      "Requirement already satisfied: cycler>=0.10 in d:\\onedrive\\pythonpr\\samsung_knu_2021_practice\\2021-knu-churn\\venv\\lib\\site-packages (from matplotlib) (0.10.0)\n",
      "Requirement already satisfied: six in d:\\onedrive\\pythonpr\\samsung_knu_2021_practice\\2021-knu-churn\\venv\\lib\\site-packages (from cycler>=0.10->matplotlib) (1.15.0)\n",
      "Requirement already satisfied: scikit-learn in d:\\onedrive\\pythonpr\\samsung_knu_2021_practice\\2021-knu-churn\\venv\\lib\\site-packages (0.24.1)\n",
      "Requirement already satisfied: numpy>=1.13.3 in d:\\onedrive\\pythonpr\\samsung_knu_2021_practice\\2021-knu-churn\\venv\\lib\\site-packages (from scikit-learn) (1.18.5)\n",
      "Requirement already satisfied: scipy>=0.19.1 in d:\\onedrive\\pythonpr\\samsung_knu_2021_practice\\2021-knu-churn\\venv\\lib\\site-packages (from scikit-learn) (1.5.2)\n",
      "Requirement already satisfied: joblib>=0.11 in d:\\onedrive\\pythonpr\\samsung_knu_2021_practice\\2021-knu-churn\\venv\\lib\\site-packages (from scikit-learn) (1.0.0)\n",
      "Requirement already satisfied: threadpoolctl>=2.0.0 in d:\\onedrive\\pythonpr\\samsung_knu_2021_practice\\2021-knu-churn\\venv\\lib\\site-packages (from scikit-learn) (2.1.0)\n"
     ]
    }
   ],
   "source": [
    "!pip install pandas\n",
    "\n",
    "!pip install seaborn\n",
    "!pip install numpy\n",
    "\n",
    "!pip install matplotlib\n",
    "\n",
    "!pip install scikit-learn"
   ],
   "metadata": {
    "collapsed": false,
    "pycharm": {
     "name": "#%%\n"
    }
   }
  },
  {
   "cell_type": "code",
   "execution_count": 9,
   "outputs": [],
   "source": [
    "import matplotlib.pyplot as plt\n",
    "\n",
    "import matplotlib\n",
    "\n",
    "import seaborn as sns\n",
    "\n",
    "import numpy as np\n",
    "import numpy.linalg as np_la\n",
    "from sympy import Matrix\n",
    "\n",
    "import pandas as pd\n",
    "\n",
    "from sklearn import neighbors, metrics\n",
    "\n",
    "from sklearn.model_selection import train_test_split\n",
    "\n",
    "from sklearn.preprocessing import LabelEncoder\n",
    "\n",
    "from collections import Counter\n",
    "\n",
    "import re\n",
    "\n",
    "from sklearn.covariance import EllipticEnvelope\n",
    "\n",
    "from sklearn.linear_model import LinearRegression\n",
    "\n",
    "from sklearn.naive_bayes import GaussianNB\n",
    "\n",
    "from sklearn.tree import DecisionTreeClassifier\n",
    "\n",
    "from sklearn.model_selection import cross_val_score\n",
    "from sklearn.ensemble import RandomForestClassifier"
   ],
   "metadata": {
    "collapsed": false,
    "pycharm": {
     "name": "#%%\n"
    }
   }
  },
  {
   "cell_type": "markdown",
   "source": [
    "# functions"
   ],
   "metadata": {
    "collapsed": false
   }
  },
  {
   "cell_type": "code",
   "execution_count": null,
   "outputs": [],
   "source": [],
   "metadata": {
    "collapsed": false,
    "pycharm": {
     "name": "#%%\n"
    }
   }
  },
  {
   "cell_type": "code",
   "execution_count": 19,
   "outputs": [
    {
     "data": {
      "text/plain": "       Customer_Age    Gender  Dependent_count  Education_Level  \\\n0         -0.165261  1.060261         0.503636        -0.893897   \n1          0.583481  1.060261         0.503636         0.593115   \n2         -0.789213 -0.943070         1.273662        -0.893897   \n3         -0.789213  1.060261         0.503636        -1.637403   \n4         -0.290051  1.060261        -0.266389         0.593115   \n...             ...       ...              ...              ...   \n10115      0.458691  1.060261        -0.266389         0.593115   \n10116     -0.664422  1.060261        -0.266389         0.593115   \n10117     -0.290051 -0.943070        -1.036415        -0.893897   \n10118     -2.037116  1.060261        -0.266389         0.593115   \n10119     -0.414842 -0.943070        -0.266389         0.593115   \n\n       Marital_Status  Income_Category  Card_Category  Months_on_book  \\\n0            0.522808         0.425471      -0.263546        0.384495   \n1            0.522808         1.308928      -0.263546        0.008956   \n2            0.522808        -0.850632      -0.263546       -0.241404   \n3            0.522808         0.425471      -0.263546       -1.868743   \n4            0.522808        -0.163500      -0.263546        0.008956   \n...               ...              ...            ...             ...   \n10115       -1.135236        -0.163500      -0.263546        0.509675   \n10116        2.180853        -0.163500      -0.263546       -1.368023   \n10117        0.522808        -0.850632      -0.263546        0.008956   \n10118        0.522808        -0.163500      -0.263546        0.008956   \n10119        0.522808        -0.850632       3.884336       -1.368023   \n\n       Total_Relationship_Count  Months_Inactive_12_mon  \\\n0                      0.763915               -1.327615   \n1                      0.120645               -1.327615   \n2                     -0.522625                1.643518   \n3                      0.763915               -1.327615   \n4                     -0.522625               -1.327615   \n...                         ...                     ...   \n10115                 -0.522625               -0.337237   \n10116                  0.120645               -0.337237   \n10117                  0.763915                0.653140   \n10118                  0.120645                0.653140   \n10119                  1.407186               -0.337237   \n\n       Contacts_Count_12_mon  Credit_Limit  Total_Revolving_Bal  \\\n0                   0.492010      0.447062            -0.473285   \n1                  -2.220431     -0.573420            -1.426735   \n2                  -1.316284     -0.584975             1.661853   \n3                  -2.220431     -0.430577            -1.426735   \n4                  -0.412137     -0.508271             0.103448   \n...                      ...           ...                  ...   \n10115               0.492010     -0.509042             0.844611   \n10116               0.492010     -0.478888             1.255686   \n10117               1.396157     -0.354313            -1.426735   \n10118               0.492010     -0.368399            -1.426735   \n10119               1.396157      0.193620             0.979591   \n\n       Avg_Open_To_Buy  Total_Amt_Chng_Q4_Q1  Total_Trans_Amt  Total_Trans_Ct  \\\n0             0.489410              2.666758        -0.960392       -0.975049   \n1            -0.445377              8.499347        -0.741457       -1.913197   \n2            -0.733868              2.991048        -0.952436       -1.913197   \n3            -0.302563              6.558239        -1.057042       -1.572052   \n4            -0.517445              2.856699        -0.976893       -1.742625   \n...                ...                   ...              ...             ...   \n10115        -0.584671             -0.261119         3.262728        2.223186   \n10116        -0.591383              0.206786         1.284945        0.176316   \n10117        -0.226314              0.276276         1.734897       -0.207472   \n10118        -0.240398             -1.039415         1.176215       -0.122186   \n10119         0.105746             -0.261119         1.735781       -0.164829   \n\n       Total_Ct_Chng_Q4_Q1  Avg_Utilization_Ratio  \n0                 3.892696              -0.776043  \n1                 6.910076              -0.997334  \n2                 6.910076               1.759732  \n3                 7.621803              -0.997334  \n4                 0.572725               0.130886  \n...                    ...                    ...  \n10115             0.619605               0.678672  \n10116            -0.121955               0.856430  \n10117             0.453393              -0.997334  \n10118             0.044257              -0.997334  \n10119            -0.266857              -0.311695  \n\n[10120 rows x 19 columns]",
      "text/html": "<div>\n<style scoped>\n    .dataframe tbody tr th:only-of-type {\n        vertical-align: middle;\n    }\n\n    .dataframe tbody tr th {\n        vertical-align: top;\n    }\n\n    .dataframe thead th {\n        text-align: right;\n    }\n</style>\n<table border=\"1\" class=\"dataframe\">\n  <thead>\n    <tr style=\"text-align: right;\">\n      <th></th>\n      <th>Customer_Age</th>\n      <th>Gender</th>\n      <th>Dependent_count</th>\n      <th>Education_Level</th>\n      <th>Marital_Status</th>\n      <th>Income_Category</th>\n      <th>Card_Category</th>\n      <th>Months_on_book</th>\n      <th>Total_Relationship_Count</th>\n      <th>Months_Inactive_12_mon</th>\n      <th>Contacts_Count_12_mon</th>\n      <th>Credit_Limit</th>\n      <th>Total_Revolving_Bal</th>\n      <th>Avg_Open_To_Buy</th>\n      <th>Total_Amt_Chng_Q4_Q1</th>\n      <th>Total_Trans_Amt</th>\n      <th>Total_Trans_Ct</th>\n      <th>Total_Ct_Chng_Q4_Q1</th>\n      <th>Avg_Utilization_Ratio</th>\n    </tr>\n  </thead>\n  <tbody>\n    <tr>\n      <th>0</th>\n      <td>-0.165261</td>\n      <td>1.060261</td>\n      <td>0.503636</td>\n      <td>-0.893897</td>\n      <td>0.522808</td>\n      <td>0.425471</td>\n      <td>-0.263546</td>\n      <td>0.384495</td>\n      <td>0.763915</td>\n      <td>-1.327615</td>\n      <td>0.492010</td>\n      <td>0.447062</td>\n      <td>-0.473285</td>\n      <td>0.489410</td>\n      <td>2.666758</td>\n      <td>-0.960392</td>\n      <td>-0.975049</td>\n      <td>3.892696</td>\n      <td>-0.776043</td>\n    </tr>\n    <tr>\n      <th>1</th>\n      <td>0.583481</td>\n      <td>1.060261</td>\n      <td>0.503636</td>\n      <td>0.593115</td>\n      <td>0.522808</td>\n      <td>1.308928</td>\n      <td>-0.263546</td>\n      <td>0.008956</td>\n      <td>0.120645</td>\n      <td>-1.327615</td>\n      <td>-2.220431</td>\n      <td>-0.573420</td>\n      <td>-1.426735</td>\n      <td>-0.445377</td>\n      <td>8.499347</td>\n      <td>-0.741457</td>\n      <td>-1.913197</td>\n      <td>6.910076</td>\n      <td>-0.997334</td>\n    </tr>\n    <tr>\n      <th>2</th>\n      <td>-0.789213</td>\n      <td>-0.943070</td>\n      <td>1.273662</td>\n      <td>-0.893897</td>\n      <td>0.522808</td>\n      <td>-0.850632</td>\n      <td>-0.263546</td>\n      <td>-0.241404</td>\n      <td>-0.522625</td>\n      <td>1.643518</td>\n      <td>-1.316284</td>\n      <td>-0.584975</td>\n      <td>1.661853</td>\n      <td>-0.733868</td>\n      <td>2.991048</td>\n      <td>-0.952436</td>\n      <td>-1.913197</td>\n      <td>6.910076</td>\n      <td>1.759732</td>\n    </tr>\n    <tr>\n      <th>3</th>\n      <td>-0.789213</td>\n      <td>1.060261</td>\n      <td>0.503636</td>\n      <td>-1.637403</td>\n      <td>0.522808</td>\n      <td>0.425471</td>\n      <td>-0.263546</td>\n      <td>-1.868743</td>\n      <td>0.763915</td>\n      <td>-1.327615</td>\n      <td>-2.220431</td>\n      <td>-0.430577</td>\n      <td>-1.426735</td>\n      <td>-0.302563</td>\n      <td>6.558239</td>\n      <td>-1.057042</td>\n      <td>-1.572052</td>\n      <td>7.621803</td>\n      <td>-0.997334</td>\n    </tr>\n    <tr>\n      <th>4</th>\n      <td>-0.290051</td>\n      <td>1.060261</td>\n      <td>-0.266389</td>\n      <td>0.593115</td>\n      <td>0.522808</td>\n      <td>-0.163500</td>\n      <td>-0.263546</td>\n      <td>0.008956</td>\n      <td>-0.522625</td>\n      <td>-1.327615</td>\n      <td>-0.412137</td>\n      <td>-0.508271</td>\n      <td>0.103448</td>\n      <td>-0.517445</td>\n      <td>2.856699</td>\n      <td>-0.976893</td>\n      <td>-1.742625</td>\n      <td>0.572725</td>\n      <td>0.130886</td>\n    </tr>\n    <tr>\n      <th>...</th>\n      <td>...</td>\n      <td>...</td>\n      <td>...</td>\n      <td>...</td>\n      <td>...</td>\n      <td>...</td>\n      <td>...</td>\n      <td>...</td>\n      <td>...</td>\n      <td>...</td>\n      <td>...</td>\n      <td>...</td>\n      <td>...</td>\n      <td>...</td>\n      <td>...</td>\n      <td>...</td>\n      <td>...</td>\n      <td>...</td>\n      <td>...</td>\n    </tr>\n    <tr>\n      <th>10115</th>\n      <td>0.458691</td>\n      <td>1.060261</td>\n      <td>-0.266389</td>\n      <td>0.593115</td>\n      <td>-1.135236</td>\n      <td>-0.163500</td>\n      <td>-0.263546</td>\n      <td>0.509675</td>\n      <td>-0.522625</td>\n      <td>-0.337237</td>\n      <td>0.492010</td>\n      <td>-0.509042</td>\n      <td>0.844611</td>\n      <td>-0.584671</td>\n      <td>-0.261119</td>\n      <td>3.262728</td>\n      <td>2.223186</td>\n      <td>0.619605</td>\n      <td>0.678672</td>\n    </tr>\n    <tr>\n      <th>10116</th>\n      <td>-0.664422</td>\n      <td>1.060261</td>\n      <td>-0.266389</td>\n      <td>0.593115</td>\n      <td>2.180853</td>\n      <td>-0.163500</td>\n      <td>-0.263546</td>\n      <td>-1.368023</td>\n      <td>0.120645</td>\n      <td>-0.337237</td>\n      <td>0.492010</td>\n      <td>-0.478888</td>\n      <td>1.255686</td>\n      <td>-0.591383</td>\n      <td>0.206786</td>\n      <td>1.284945</td>\n      <td>0.176316</td>\n      <td>-0.121955</td>\n      <td>0.856430</td>\n    </tr>\n    <tr>\n      <th>10117</th>\n      <td>-0.290051</td>\n      <td>-0.943070</td>\n      <td>-1.036415</td>\n      <td>-0.893897</td>\n      <td>0.522808</td>\n      <td>-0.850632</td>\n      <td>-0.263546</td>\n      <td>0.008956</td>\n      <td>0.763915</td>\n      <td>0.653140</td>\n      <td>1.396157</td>\n      <td>-0.354313</td>\n      <td>-1.426735</td>\n      <td>-0.226314</td>\n      <td>0.276276</td>\n      <td>1.734897</td>\n      <td>-0.207472</td>\n      <td>0.453393</td>\n      <td>-0.997334</td>\n    </tr>\n    <tr>\n      <th>10118</th>\n      <td>-2.037116</td>\n      <td>1.060261</td>\n      <td>-0.266389</td>\n      <td>0.593115</td>\n      <td>0.522808</td>\n      <td>-0.163500</td>\n      <td>-0.263546</td>\n      <td>0.008956</td>\n      <td>0.120645</td>\n      <td>0.653140</td>\n      <td>0.492010</td>\n      <td>-0.368399</td>\n      <td>-1.426735</td>\n      <td>-0.240398</td>\n      <td>-1.039415</td>\n      <td>1.176215</td>\n      <td>-0.122186</td>\n      <td>0.044257</td>\n      <td>-0.997334</td>\n    </tr>\n    <tr>\n      <th>10119</th>\n      <td>-0.414842</td>\n      <td>-0.943070</td>\n      <td>-0.266389</td>\n      <td>0.593115</td>\n      <td>0.522808</td>\n      <td>-0.850632</td>\n      <td>3.884336</td>\n      <td>-1.368023</td>\n      <td>1.407186</td>\n      <td>-0.337237</td>\n      <td>1.396157</td>\n      <td>0.193620</td>\n      <td>0.979591</td>\n      <td>0.105746</td>\n      <td>-0.261119</td>\n      <td>1.735781</td>\n      <td>-0.164829</td>\n      <td>-0.266857</td>\n      <td>-0.311695</td>\n    </tr>\n  </tbody>\n</table>\n<p>10120 rows × 19 columns</p>\n</div>"
     },
     "execution_count": 19,
     "metadata": {},
     "output_type": "execute_result"
    }
   ],
   "source": [
    "preproc_data = pd.read_csv(\"pre-processing_BankChurners.csv\")\n",
    "preproc_data_x = preproc_data.drop([\"Attrition_Flag\",\n",
    "                       \"Naive_Bayes_Classifier_Attrition_Flag_Card_Category_Contacts_Count_12_mon_Dependent_count_Education_Level_Months_Inactive_12_mon_1\",\n",
    "                       \"Naive_Bayes_Classifier_Attrition_Flag_Card_Category_Contacts_Count_12_mon_Dependent_count_Education_Level_Months_Inactive_12_mon_2\"\n",
    "                       ], axis=1)\n",
    "x = preproc_data_x.values\n",
    "y = preproc_data[\"Attrition_Flag\"].values\n",
    "preproc_data_x"
   ],
   "metadata": {
    "collapsed": false,
    "pycharm": {
     "name": "#%%\n"
    }
   }
  },
  {
   "cell_type": "code",
   "execution_count": 20,
   "outputs": [
    {
     "data": {
      "text/plain": "array([0, 0, 0, ..., 1, 1, 1], dtype=int64)"
     },
     "execution_count": 20,
     "metadata": {},
     "output_type": "execute_result"
    }
   ],
   "source": [],
   "metadata": {
    "collapsed": false,
    "pycharm": {
     "name": "#%%\n"
    }
   }
  },
  {
   "cell_type": "markdown",
   "source": [
    "# data type identifying"
   ],
   "metadata": {
    "collapsed": false
   }
  },
  {
   "cell_type": "code",
   "execution_count": 3,
   "outputs": [],
   "source": [
    "\n",
    "categorical_features = ['Attrition_Flag', 'Gender', 'Marital_Status']\n",
    "ordinal_features = [\"Dependent_count\", \"Education_Level\", \"Card_Category\",\n",
    "                \"Income_Category\", \"Total_Relationship_Count\",\n",
    "                \"Months_Inactive_12_mon\", \"Contacts_Count_12_mon\"]\n",
    "numerical_features = ['Credit_Limit', 'Avg_Open_To_Buy', 'Total_Amt_Chng_Q4_Q1',\n",
    "                      'Total_Ct_Chng_Q4_Q1', 'Avg_Utilization_Ratio',\n",
    "                      'Naive_Bayes_Classifier_Attrition_Flag_Card_Category_Contacts_Count_12_mon_Dependent_count_Education_Level_Months_Inactive_12_mon_1',\n",
    "                      'Naive_Bayes_Classifier_Attrition_Flag_Card_Category_Contacts_Count_12_mon_Dependent_count_Education_Level_Months_Inactive_12_mon_2',\n",
    "                      'Total_Trans_Ct', 'Total_Revolving_Bal', 'Total_Trans_Amt', 'Customer_Age', 'Months_on_book']"
   ],
   "metadata": {
    "collapsed": false,
    "pycharm": {
     "name": "#%%\n"
    }
   }
  },
  {
   "cell_type": "code",
   "execution_count": 18,
   "outputs": [
    {
     "data": {
      "text/plain": "19"
     },
     "execution_count": 18,
     "metadata": {},
     "output_type": "execute_result"
    }
   ],
   "source": [
    "# np_la.matrix_rank(preproc_data_x.values[:100, :])\n",
    "Matrix(preproc_data_x.values[:100, :]).rank()"
   ],
   "metadata": {
    "collapsed": false,
    "pycharm": {
     "name": "#%%\n"
    }
   }
  },
  {
   "cell_type": "markdown",
   "source": [
    "# SVD - singular value decomposition"
   ],
   "metadata": {
    "collapsed": false,
    "pycharm": {
     "name": "#%% md\n"
    }
   }
  },
  {
   "cell_type": "code",
   "execution_count": 25,
   "outputs": [],
   "source": [
    "U, S, VT = np_la.svd(x, \"econ\")"
   ],
   "metadata": {
    "collapsed": false,
    "pycharm": {
     "name": "#%%\n"
    }
   }
  },
  {
   "cell_type": "markdown",
   "source": [
    "# PCA (Principal component analysis)\n",
    "Approach 2. Using Eigenvalues"
   ],
   "metadata": {
    "collapsed": false
   }
  },
  {
   "cell_type": "code",
   "execution_count": 52,
   "outputs": [
    {
     "name": "stdout",
     "output_type": "stream",
     "text": [
      "features number: 19; rank of data: 18\n"
     ]
    }
   ],
   "source": [
    "print(f\"features number: {x.shape[1]}; rank of data: {np_la.matrix_rank(x)}\")"
   ],
   "metadata": {
    "collapsed": false,
    "pycharm": {
     "name": "#%%\n"
    }
   }
  },
  {
   "cell_type": "markdown",
   "source": [
    "according to fact that matrix rank less by 1 to number of features,\n",
    "we have only one couple of linearly dependent vectors(features)"
   ],
   "metadata": {
    "collapsed": false,
    "pycharm": {
     "name": "#%% md\n"
    }
   }
  },
  {
   "cell_type": "code",
   "execution_count": 72,
   "outputs": [],
   "source": [
    "lin_dep_vec_idx = None\n",
    "for i in range(x.shape[1]):\n",
    "    x_mod = x[:18, [j for j in range(x.shape[1]) if j != i]]\n",
    "    if np.abs(np_la.det(x_mod)) > 10**-6:\n",
    "        lin_dep_vec_idx = i\n",
    "        break"
   ],
   "metadata": {
    "collapsed": false,
    "pycharm": {
     "name": "#%%\n"
    }
   }
  },
  {
   "cell_type": "code",
   "execution_count": 90,
   "outputs": [
    {
     "data": {
      "text/plain": "-211827.5023703067"
     },
     "execution_count": 90,
     "metadata": {},
     "output_type": "execute_result"
    }
   ],
   "source": [
    "lin_dep_vec_idx\n",
    "x_mod = x[:, [j for j in range(x.shape[1]) if j != lin_dep_vec_idx]]\n",
    "np_la.det(x_mod[:18,:])"
   ],
   "metadata": {
    "collapsed": false,
    "pycharm": {
     "name": "#%%\n"
    }
   }
  },
  {
   "cell_type": "code",
   "execution_count": 91,
   "outputs": [],
   "source": [
    "cov_x_matrix = np.cov(x_mod)"
   ],
   "metadata": {
    "collapsed": false,
    "pycharm": {
     "name": "#%%\n"
    }
   }
  },
  {
   "cell_type": "code",
   "execution_count": 75,
   "outputs": [],
   "source": [
    "L, Q = np_la.eig(cov_x_matrix)"
   ],
   "metadata": {
    "collapsed": false,
    "pycharm": {
     "name": "#%%\n"
    }
   }
  },
  {
   "cell_type": "code",
   "execution_count": 84,
   "outputs": [],
   "source": [
    "Q_inv = np_la.inv(Q)"
   ],
   "metadata": {
    "collapsed": false,
    "pycharm": {
     "name": "#%%\n"
    }
   }
  },
  {
   "cell_type": "code",
   "execution_count": 94,
   "outputs": [
    {
     "name": "stdout",
     "output_type": "stream",
     "text": [
      "Wall time: 10 ms\n"
     ]
    },
    {
     "name": "stderr",
     "output_type": "stream",
     "text": [
      "<timed eval>:1: ComplexWarning: Casting complex values to real discards the imaginary part\n"
     ]
    },
    {
     "data": {
      "text/plain": "[1502.5907058818539,\n 1266.5049310682793,\n 1052.2026436613387,\n 778.4121775099842,\n 764.7128771253768,\n 631.0130656580066,\n 608.222897748221,\n 594.4013919884444,\n 573.5804139367895,\n 549.3274144608085,\n 501.2348052033951,\n 361.93463019861747,\n 250.08265059533863,\n 146.41951771063498,\n 124.7092790534619,\n 108.44946231229522,\n 98.8426656516038,\n -9.4176528482174e-14,\n -9.4176528482174e-14,\n -1.3039506639771872e-13,\n -1.3039506639771872e-13,\n -1.7373100735175094e-13,\n -1.7373100735175094e-13,\n 1.6789187974819057e-13,\n 1.6789187974819057e-13,\n 2.0755575828011687e-14,\n 2.0755575828011687e-14,\n 9.53279057850125e-14,\n 9.53279057850125e-14,\n 1.6064962700807223e-13,\n 1.0860741825431333e-13,\n -1.4979729254895396e-14,\n -1.4979729254895396e-14,\n -9.70622472218196e-14,\n -7.463969556059899e-14,\n 4.398095197484344e-14,\n 4.398095197484344e-14,\n -4.038726990647483e-14,\n 3.455249751567226e-14,\n 2.159869904588605e-15,\n 2.159869904588605e-15,\n 1.6313912733674656e-14,\n 1.6313912733674656e-14,\n -2.3911756216004194e-14,\n -2.3911756216004194e-14,\n -2.8173935474079062e-14,\n 2.4880748287967986e-14,\n 2.4880748287967986e-14,\n -1.0259630196491262e-14,\n -1.0259630196491262e-14,\n -9.272111995841864e-16,\n -9.272111995841864e-16,\n -1.6518064472456716e-14,\n -1.6518064472456716e-14,\n 1.425518232556322e-14,\n 1.425518232556322e-14,\n -1.5769761172908308e-14,\n -1.3669927452768339e-14,\n -1.3669927452768339e-14,\n 1.458402664199927e-14,\n 9.522040789330663e-15,\n 9.522040789330663e-15,\n 8.157024771166133e-15,\n 8.157024771166133e-15,\n 1.3445647276331958e-14,\n 1.3445647276331958e-14,\n 3.508512012136704e-15,\n 3.508512012136704e-15,\n -1.3120996842045124e-14,\n -1.3066229978786462e-14,\n -1.3066229978786462e-14,\n 1.335262984892138e-14,\n 1.335262984892138e-14,\n 1.3158619581475217e-14,\n 1.3158619581475217e-14,\n -1.0210597095510337e-14,\n -1.0210597095510337e-14,\n -5.66341350528965e-15,\n -5.66341350528965e-15,\n -1.1563199806261538e-14,\n -1.1563199806261538e-14,\n -1.2227453714991582e-14,\n -1.2227453714991582e-14,\n -1.2685520959373145e-14,\n -1.2685520959373145e-14,\n 1.2505534288973455e-14,\n 1.2505534288973455e-14,\n 1.1736439750697941e-14,\n 1.1736439750697941e-14,\n 1.2519841995453053e-14,\n 1.2519841995453053e-14,\n 1.2437494585993559e-14,\n 1.2437494585993559e-14,\n -1.2283110254273183e-14,\n -1.2283110254273183e-14,\n 1.1998193965472047e-14,\n 1.1998193965472047e-14,\n -1.2430366728619368e-14,\n -1.2187126554968449e-14,\n -1.2187126554968449e-14,\n -8.134066681391357e-15,\n -8.134066681391357e-15,\n 1.1253354662271312e-14,\n 1.1253354662271312e-14,\n 1.155351594467715e-14,\n 1.155351594467715e-14,\n -1.1506204095516861e-14,\n -1.1506204095516861e-14,\n 1.222905885616178e-16,\n 1.222905885616178e-16,\n -1.157684664692883e-14,\n -1.157684664692883e-14,\n -1.2037866555058595e-14,\n -1.2037866555058595e-14,\n -1.1930853189854653e-14,\n -1.1930853189854653e-14,\n 1.1970945835612515e-14,\n 1.1970945835612515e-14,\n 1.1985181999281532e-14,\n 1.1985181999281532e-14,\n 1.1531681285242064e-14,\n 1.1531681285242064e-14,\n 4.233334927969051e-15,\n 4.233334927969051e-15,\n 1.1623056939461565e-14,\n 1.1623056939461565e-14,\n -1.1328229412538746e-14,\n -1.1328229412538746e-14,\n -1.0512318283070193e-14,\n -1.0512318283070193e-14,\n -1.166260882843318e-14,\n -1.166260882843318e-14,\n -1.1437755599137598e-14,\n -1.1437755599137598e-14,\n -1.1698237105702242e-14,\n -1.1698237105702242e-14,\n -1.16029714726249e-14,\n -1.16029714726249e-14,\n -1.1673418965099473e-14,\n -9.355508506657868e-15,\n -9.355508506657868e-15,\n -1.0838949981316165e-14,\n -1.0838949981316165e-14,\n -1.1575776297226393e-14,\n -1.1575776297226393e-14,\n 1.0919795088881307e-14,\n 1.0919795088881307e-14,\n 1.1750855855865048e-14,\n 1.1750855855865048e-14,\n 1.138070076795377e-14,\n 1.138070076795377e-14,\n 1.144481299786267e-14,\n 1.144481299786267e-14,\n 1.1670517384121643e-14,\n 1.1551047491128492e-14,\n 1.1551047491128492e-14,\n 6.292137308974318e-15,\n 6.292137308974318e-15,\n 1.1041638898111954e-14,\n 1.1041638898111954e-14,\n 9.431430494648478e-15,\n 9.431430494648478e-15,\n -1.0070756968418174e-14,\n -1.0070756968418174e-14,\n -1.1404923452653093e-14,\n -1.1404923452653093e-14,\n -1.0857759707220469e-14,\n -1.0857759707220469e-14,\n 8.134711161761236e-15,\n 8.134711161761236e-15,\n 1.1412707997887514e-14,\n 1.1412707997887514e-14,\n 1.1485717296517537e-14,\n 1.1485717296517537e-14,\n -7.251052027128047e-15,\n -7.251052027128047e-15,\n -1.092313396706271e-14,\n -1.092313396706271e-14,\n -1.1429883009833592e-14,\n -1.1354572407018053e-14,\n -1.1354572407018053e-14,\n -4.835908021202083e-15,\n -4.835908021202083e-15,\n -1.1255205972266513e-14,\n -1.1255205972266513e-14,\n -1.1198084197188249e-14,\n -1.1198084197188249e-14,\n 4.8037392804991284e-15,\n 4.8037392804991284e-15,\n 1.0082113095889821e-14,\n 1.0082113095889821e-14,\n 1.106551701673126e-14,\n 1.106551701673126e-14,\n 1.0473657510888374e-14,\n 1.0473657510888374e-14,\n 1.0859325271105605e-14,\n 1.0859325271105605e-14,\n 1.1321539398059146e-14,\n 1.1321539398059146e-14,\n -9.22574126752453e-15,\n -9.22574126752453e-15,\n -9.944056505952017e-15,\n -9.944056505952017e-15,\n -1.0977651595851877e-14,\n -1.0977651595851877e-14,\n -1.1246720051879969e-14,\n 1.1270267304369601e-14,\n 1.1021028597474221e-14,\n 1.1021028597474221e-14,\n 1.104481123241313e-14,\n 1.104481123241313e-14,\n 1.1214099755327565e-14,\n 1.1214099755327565e-14,\n -1.0942599204774973e-14,\n -1.0942599204774973e-14,\n 1.1098581679626557e-14,\n 1.1098581679626557e-14,\n 8.466191353678332e-15,\n 8.466191353678332e-15,\n -6.3801916629217354e-15,\n -6.3801916629217354e-15,\n -6.91184681133435e-15,\n -6.91184681133435e-15,\n -1.0978445577807058e-14,\n -1.0978445577807058e-14,\n -1.0754457348560012e-14,\n -1.0754457348560012e-14,\n -1.0486651964822993e-14,\n -1.0486651964822993e-14,\n -1.1029682905169631e-14,\n -1.1029682905169631e-14,\n -1.1031471363464915e-14,\n -1.1031471363464915e-14,\n 9.783195993925003e-15,\n 9.783195993925003e-15,\n 1.1046401658548936e-14,\n 1.1046401658548936e-14,\n 1.0440392463762396e-14,\n 1.0440392463762396e-14,\n 1.0765570064794482e-14,\n 1.0765570064794482e-14,\n 1.1099001324704946e-14,\n 1.1099001324704946e-14,\n -1.0431089420919038e-14,\n -1.0431089420919038e-14,\n -1.0904974817141383e-14,\n -1.0904974817141383e-14,\n -1.0970768409682043e-14,\n -1.0970768409682043e-14,\n -1.0815668110612011e-14,\n -1.0815668110612011e-14,\n 9.988314718977896e-15,\n 9.988314718977896e-15,\n 8.026178812672672e-15,\n 8.026178812672672e-15,\n -8.037259829391781e-15,\n -8.037259829391781e-15,\n -9.493215721234745e-15,\n -9.493215721234745e-15,\n -1.0629070033668023e-14,\n -1.0629070033668023e-14,\n -1.0840051263002103e-14,\n -1.0840051263002103e-14,\n 9.694235859573061e-15,\n 9.694235859573061e-15,\n 1.0508515663422908e-14,\n 1.0508515663422908e-14,\n -1.0046828784448521e-14,\n -1.0046828784448521e-14,\n 1.0928902274156452e-14,\n 1.0928902274156452e-14,\n -9.680936128393838e-15,\n -9.680936128393838e-15,\n -1.0236774321423836e-14,\n -1.0236774321423836e-14,\n -1.0810677522775498e-14,\n -1.0627476071299249e-14,\n -1.0627476071299249e-14,\n -1.0698346869990411e-14,\n -1.0698346869990411e-14,\n 1.090037206774969e-14,\n 1.090037206774969e-14,\n 1.0859936281945865e-14,\n 1.0859936281945865e-14,\n 1.088671399657756e-14,\n -1.0271992130016701e-14,\n -1.0271992130016701e-14,\n -1.0741426053261797e-14,\n -1.0741426053261797e-14,\n 1.0116864879443552e-14,\n 1.0116864879443552e-14,\n 1.0705971750550953e-14,\n 1.0705971750550953e-14,\n 1.0794033054396063e-14,\n 1.0794033054396063e-14,\n 1.0807081401031903e-14,\n 1.073577472405017e-14,\n 1.073577472405017e-14,\n -1.0386937232021315e-14,\n -1.0386937232021315e-14,\n -1.0582960310223455e-14,\n -1.0582960310223455e-14,\n -1.0518525622110647e-14,\n -1.0518525622110647e-14,\n 9.396587266654261e-15,\n 9.396587266654261e-15,\n 8.302579028407565e-15,\n 8.302579028407565e-15,\n 1.0291357031781607e-14,\n 1.0291357031781607e-14,\n 1.050467413862252e-14,\n 1.050467413862252e-14,\n 1.0389396510757114e-14,\n 1.0389396510757114e-14,\n -1.0026516936706215e-14,\n -1.0026516936706215e-14,\n 8.677516070998803e-15,\n 8.677516070998803e-15,\n 8.87021494198495e-15,\n 8.87021494198495e-15,\n 9.885445310419476e-15,\n 9.885445310419476e-15,\n 1.0568864060543988e-14,\n 1.0568864060543988e-14,\n 1.0489390558326476e-14,\n 1.0489390558326476e-14,\n 9.025851605669618e-15,\n 9.025851605669618e-15,\n -9.658179078270813e-15,\n -9.658179078270813e-15,\n -9.706166142518935e-15,\n -9.706166142518935e-15,\n 9.425900439128142e-15,\n 9.425900439128142e-15,\n 9.550388430638658e-15,\n 9.550388430638658e-15,\n 9.696715192605518e-15,\n 9.696715192605518e-15,\n 1.0116282286209237e-14,\n 1.0116282286209237e-14,\n 9.898523856342109e-15,\n 9.898523856342109e-15,\n 1.0418373084991682e-14,\n 1.0418373084991682e-14,\n -1.0216451182240459e-14,\n -1.0216451182240459e-14,\n -1.0423832952725313e-14,\n -1.0423832952725313e-14,\n -1.0339530617427041e-14,\n -1.0339530617427041e-14,\n -1.0442398642501539e-14,\n -1.0442398642501539e-14,\n -3.2817617663113653e-15,\n -3.2817617663113653e-15,\n -8.518584845691872e-15,\n -8.518584845691872e-15,\n -5.733379861386709e-15,\n -5.733379861386709e-15,\n -7.92158384491518e-15,\n -7.92158384491518e-15,\n -9.360239226269524e-15,\n -9.360239226269524e-15,\n -8.830355752465319e-15,\n -8.830355752465319e-15,\n -8.654731896919067e-15,\n -8.654731896919067e-15,\n -8.401844627461028e-15,\n -8.401844627461028e-15,\n -8.931464816255613e-15,\n -8.931464816255613e-15,\n -5.5524040489025826e-15,\n -5.5524040489025826e-15,\n -7.312375884166038e-15,\n -7.312375884166038e-15,\n -9.080747821151507e-15,\n -9.080747821151507e-15,\n -9.40285373926581e-15,\n -9.40285373926581e-15,\n -9.6183425549738e-15,\n -9.6183425549738e-15,\n 2.9041909087170315e-15,\n 2.9041909087170315e-15,\n -9.95597468752148e-15,\n -9.95597468752148e-15,\n -7.858745912877546e-15,\n -7.858745912877546e-15,\n -7.294045217723977e-15,\n -7.294045217723977e-15,\n -8.328939494106722e-15,\n -8.328939494106722e-15,\n -8.746291576385028e-15,\n -8.746291576385028e-15,\n -9.332588722304683e-15,\n -9.332588722304683e-15,\n -1.008454785324054e-14,\n -1.008454785324054e-14,\n -1.0430498356534094e-14,\n -1.0430498356534094e-14,\n -1.0499637685967274e-14,\n -1.0499637685967274e-14,\n -1.051765467965726e-14,\n -1.051765467965726e-14,\n -9.780369184613114e-15,\n -9.780369184613114e-15,\n -9.817211295383829e-15,\n -9.817211295383829e-15,\n -1.026763192666171e-14,\n -1.026763192666171e-14,\n -7.877083147915107e-15,\n -7.877083147915107e-15,\n 5.539005622744381e-15,\n 5.539005622744381e-15,\n -9.12460590711977e-15,\n -9.12460590711977e-15,\n -1.0096664038616573e-14,\n -1.0096664038616573e-14,\n -8.723890082072738e-15,\n -8.723890082072738e-15,\n -7.497154482925796e-15,\n -7.497154482925796e-15,\n -1.0417353416586881e-14,\n -1.0417353416586881e-14,\n 7.123521237530268e-15,\n 7.123521237530268e-15,\n -1.0279183103119047e-14,\n -1.0279183103119047e-14,\n -9.955426462183868e-15,\n -9.955426462183868e-15,\n -9.376501462894675e-15,\n -9.376501462894675e-15,\n -9.838582409625351e-15,\n -9.838582409625351e-15,\n -1.0269964056344565e-14,\n -1.0269964056344565e-14,\n -9.01352356935266e-15,\n -9.01352356935266e-15,\n -9.584736162548511e-15,\n -9.584736162548511e-15,\n 7.664232267353538e-15,\n 7.664232267353538e-15,\n -8.497244422127238e-15,\n -8.497244422127238e-15,\n -1.0007368877841573e-14,\n -1.0007368877841573e-14,\n -1.0086656510409127e-14,\n -1.0086656510409127e-14,\n -9.051681738176231e-15,\n -9.051681738176231e-15,\n 1.0152315362179928e-14,\n 1.0152315362179928e-14,\n 1.049104782708395e-14,\n 1.049104782708395e-14,\n 1.0517916269808168e-14,\n 1.0323786473231646e-14,\n 1.0323786473231646e-14,\n 1.0485965639305364e-14,\n 1.0485965639305364e-14,\n 1.0233470622167655e-14,\n 1.0233470622167655e-14,\n 1.0408913163745447e-14,\n 1.0408913163745447e-14,\n -8.876118646419929e-15,\n -8.876118646419929e-15,\n -9.241153274597478e-15,\n -9.241153274597478e-15,\n 6.609053800373352e-15,\n 6.609053800373352e-15,\n 9.062294773707296e-15,\n 9.062294773707296e-15,\n 8.524290423572671e-15,\n 8.524290423572671e-15,\n 1.0400056250815079e-14,\n 1.0400056250815079e-14,\n 9.152953700926964e-15,\n 9.152953700926964e-15,\n -9.872140284916566e-15,\n -9.872140284916566e-15,\n -9.300778992318685e-15,\n -9.300778992318685e-15,\n 8.186103617088267e-15,\n 8.186103617088267e-15,\n 9.550670590612445e-15,\n 9.550670590612445e-15,\n 9.919836954644573e-15,\n 9.919836954644573e-15,\n 9.706787232023348e-15,\n 9.706787232023348e-15,\n -9.540218523365364e-15,\n -9.540218523365364e-15,\n -9.389154257623253e-15,\n -9.389154257623253e-15,\n -1.0175466983157819e-14,\n -1.0175466983157819e-14,\n -8.910349315928418e-15,\n -8.910349315928418e-15,\n -9.032980819882237e-15,\n -9.032980819882237e-15,\n -1.0163357622957923e-14,\n 1.0248832129942095e-14,\n 1.0248832129942095e-14,\n -9.908621553428413e-15,\n -9.908621553428413e-15,\n -1.0073275803316755e-14,\n -1.0073275803316755e-14,\n 9.314576475936533e-15,\n 9.314576475936533e-15,\n 1.014291999436493e-14,\n 1.014291999436493e-14,\n 1.0275802513677046e-14,\n 1.0275802513677046e-14,\n -9.700565329003621e-15,\n -9.700565329003621e-15,\n -9.85987001716113e-15,\n -9.85987001716113e-15,\n 6.136575076280034e-15,\n 6.136575076280034e-15,\n 1.02134061102615e-14,\n 1.02134061102615e-14,\n 9.856768190225133e-15,\n 9.856768190225133e-15,\n 9.871609426344338e-15,\n 9.871609426344338e-15,\n 1.002768976469038e-14,\n 1.002768976469038e-14,\n 1.0165665689114862e-14,\n 1.0165665689114862e-14,\n 8.499932959518073e-15,\n 8.499932959518073e-15,\n 9.97284028296027e-15,\n 9.97284028296027e-15,\n 6.645107709251812e-15,\n 6.645107709251812e-15,\n 7.430195196622479e-15,\n 7.430195196622479e-15,\n 7.674151904149349e-15,\n 7.674151904149349e-15,\n 8.305943463837193e-15,\n 8.305943463837193e-15,\n 1.0089076551913164e-14,\n 8.743910192900409e-15,\n 8.743910192900409e-15,\n -9.932048911147932e-15,\n -9.932048911147932e-15,\n -1.0019723165192807e-14,\n -1.0006029149800417e-14,\n 6.984745009997586e-15,\n 6.984745009997586e-15,\n 6.536537251561482e-15,\n 6.536537251561482e-15,\n 1.0031488849436117e-14,\n 1.0031488849436117e-14,\n 9.695964881319556e-15,\n 9.695964881319556e-15,\n 9.203373713816725e-15,\n 9.203373713816725e-15,\n 9.107705698329566e-15,\n 9.107705698329566e-15,\n 9.315858077915924e-15,\n 9.315858077915924e-15,\n 1.0016223261576568e-14,\n 1.0016223261576568e-14,\n 9.544393029851422e-15,\n 9.544393029851422e-15,\n -9.49845560223167e-15,\n -9.49845560223167e-15,\n -9.887853811464851e-15,\n -9.887853811464851e-15,\n 7.958539342664409e-15,\n 7.958539342664409e-15,\n -9.543498613219899e-15,\n -9.543498613219899e-15,\n 9.333075239738974e-15,\n 9.333075239738974e-15,\n 9.842474128832549e-15,\n 9.842474128832549e-15,\n 9.940602317631191e-15,\n 9.940602317631191e-15,\n -9.670052495079644e-15,\n -9.670052495079644e-15,\n -9.902140014689588e-15,\n -9.902140014689588e-15,\n 8.564796671166917e-15,\n 8.564796671166917e-15,\n 8.800974319365364e-15,\n 8.800974319365364e-15,\n 9.905638794248571e-15,\n 9.905638794248571e-15,\n 9.96570629581199e-15,\n 9.91999456855541e-15,\n 9.91999456855541e-15,\n 9.822536248012645e-15,\n 9.822536248012645e-15,\n 9.672663347101394e-15,\n 9.672663347101394e-15,\n 9.781440603820737e-15,\n 9.781440603820737e-15,\n 9.84354760783458e-15,\n 9.608279497225224e-15,\n 9.608279497225224e-15,\n 9.539096332909451e-15,\n 9.539096332909451e-15,\n -9.292254065973654e-15,\n -9.292254065973654e-15,\n -9.846124956318273e-15,\n -9.846124956318273e-15,\n -9.773218444486643e-15,\n -9.773218444486643e-15,\n 7.598665333702832e-15,\n 7.598665333702832e-15,\n 9.375712316805414e-15,\n 9.375712316805414e-15,\n 9.003847012170762e-15,\n 9.003847012170762e-15,\n 8.524388733510852e-15,\n 8.524388733510852e-15,\n 7.725671523364233e-15,\n 7.725671523364233e-15,\n 8.132613439418678e-15,\n 8.132613439418678e-15,\n 9.181547344163448e-15,\n 9.181547344163448e-15,\n -9.472892495758989e-15,\n -9.472892495758989e-15,\n -9.577270056148094e-15,\n -9.577270056148094e-15,\n 8.299810893931455e-15,\n 8.299810893931455e-15,\n 8.573023162980392e-15,\n 8.573023162980392e-15,\n 9.434222149606452e-15,\n 9.434222149606452e-15,\n -9.60311120746789e-15,\n -9.60311120746789e-15,\n 8.673340282314891e-15,\n 8.673340282314891e-15,\n 9.190317827606076e-15,\n 9.190317827606076e-15,\n 9.768013259501555e-15,\n 9.768013259501555e-15,\n 9.257024913432158e-15,\n 9.257024913432158e-15,\n 9.456386137463398e-15,\n 9.456386137463398e-15,\n 9.593922758299469e-15,\n 9.593922758299469e-15,\n 3.956228777357993e-15,\n 3.956228777357993e-15,\n 7.010950134191515e-16,\n 7.010950134191515e-16,\n 1.917894716528653e-15,\n 1.917894716528653e-15,\n 1.0898295774222892e-15,\n 1.0898295774222892e-15,\n -1.6760429568476693e-16,\n -1.6760429568476693e-16,\n -6.187805918797926e-15,\n -6.187805918797926e-15,\n -7.887519628947216e-15,\n -7.887519628947216e-15,\n -8.250750730695054e-15,\n -8.250750730695054e-15,\n -8.576575061662978e-15,\n -8.576575061662978e-15,\n -3.286247560017148e-15,\n -3.286247560017148e-15,\n -4.241600119111561e-15,\n -4.241600119111561e-15,\n -8.969260769381998e-15,\n -8.969260769381998e-15,\n -3.7698718950246214e-15,\n -3.7698718950246214e-15,\n -4.837810017426252e-15,\n -4.837810017426252e-15,\n -4.303981530463919e-15,\n -4.303981530463919e-15,\n -5.674880283732691e-15,\n -5.674880283732691e-15,\n -4.607837912720344e-15,\n -4.607837912720344e-15,\n -5.3085317374444496e-15,\n -5.3085317374444496e-15,\n -7.101083649094713e-15,\n -7.101083649094713e-15,\n -9.503360875683597e-15,\n -9.503360875683597e-15,\n -9.652100771657957e-15,\n -9.652100771657957e-15,\n -8.037246422137072e-15,\n -8.037246422137072e-15,\n -7.653713190913703e-15,\n -7.653713190913703e-15,\n -8.275005650325394e-15,\n -8.275005650325394e-15,\n -6.848334308462935e-15,\n -6.848334308462935e-15,\n -8.050255007233475e-15,\n -8.050255007233475e-15,\n -8.656252737140676e-15,\n -8.656252737140676e-15,\n -9.045958154539653e-15,\n -9.045958154539653e-15,\n -9.598390159603497e-15,\n -9.598390159603497e-15,\n -9.246116994202534e-15,\n -9.246116994202534e-15,\n -9.364308208925697e-15,\n -9.364308208925697e-15,\n -8.474017048151716e-15,\n -8.474017048151716e-15,\n -8.106333029962752e-15,\n -8.106333029962752e-15,\n -8.681360699160158e-15,\n -8.681360699160158e-15,\n -5.403596403195922e-15,\n -5.403596403195922e-15,\n -4.811156173247968e-15,\n -4.811156173247968e-15,\n -8.317420386684328e-15,\n -8.317420386684328e-15,\n -8.867911894038305e-15,\n -8.867911894038305e-15,\n -9.591856927374742e-15,\n -9.591856927374742e-15,\n -9.02521066091438e-15,\n -9.02521066091438e-15,\n -9.1456863992395e-15,\n -9.1456863992395e-15,\n -9.339560145759497e-15,\n -9.339560145759497e-15,\n -9.538499708237366e-15,\n -9.538499708237366e-15,\n 2.769165411375453e-15,\n 2.769165411375453e-15,\n -5.613314246086566e-15,\n -5.613314246086566e-15,\n -5.904775763576707e-15,\n -5.904775763576707e-15,\n -9.392598000775685e-15,\n -9.392598000775685e-15,\n -5.712623014449049e-15,\n -5.712623014449049e-15,\n -6.448307687397477e-15,\n -6.448307687397477e-15,\n -7.572200510106447e-15,\n -7.572200510106447e-15,\n -7.31627446365261e-15,\n -7.31627446365261e-15,\n -8.505067451087091e-15,\n -8.505067451087091e-15,\n -9.070901370217771e-15,\n -9.070901370217771e-15,\n -9.494910276968949e-15,\n -9.494910276968949e-15,\n -6.551342287553513e-15,\n -6.551342287553513e-15,\n -8.014540631430183e-15,\n -8.014540631430183e-15,\n -6.2567114580100214e-15,\n -6.2567114580100214e-15,\n -5.854595701683582e-15,\n -5.854595701683582e-15,\n -6.292768554059818e-15,\n -6.292768554059818e-15,\n -7.372152444558198e-15,\n -7.372152444558198e-15,\n -7.317364417251033e-15,\n -7.317364417251033e-15,\n -6.879634587976866e-15,\n -6.879634587976866e-15,\n -7.136172030776594e-15,\n -7.136172030776594e-15,\n -6.93890473236938e-15,\n -6.93890473236938e-15,\n -9.413942948576211e-15,\n -9.413942948576211e-15,\n -9.386159821783632e-15,\n -9.386159821783632e-15,\n 5.59349765210179e-15,\n 5.59349765210179e-15,\n 3.1813830087938395e-15,\n 3.1813830087938395e-15,\n 6.342652880087565e-15,\n 6.342652880087565e-15,\n 4.922678207760121e-15,\n 4.922678207760121e-15,\n 7.078180360981758e-15,\n 7.078180360981758e-15,\n 5.397517592152314e-15,\n 5.397517592152314e-15,\n 6.214475705124807e-15,\n 6.214475705124807e-15,\n 5.727501764541173e-15,\n 5.727501764541173e-15,\n 5.935369831865514e-15,\n 5.935369831865514e-15,\n 7.333782482568332e-15,\n 7.333782482568332e-15,\n 6.2720831726350575e-15,\n 6.2720831726350575e-15,\n 6.3374313694911696e-15,\n 6.3374313694911696e-15,\n 6.701320488977464e-15,\n 6.701320488977464e-15,\n 6.689649522911969e-15,\n 6.689649522911969e-15,\n 7.032647103303085e-15,\n 7.032647103303085e-15,\n 7.420901767001275e-15,\n 7.420901767001275e-15,\n 8.847631159395286e-15,\n 8.847631159395286e-15,\n 7.877139589338136e-15,\n 7.877139589338136e-15,\n 8.13450394815159e-15,\n 8.13450394815159e-15,\n 9.691856225203924e-15,\n 9.691856225203924e-15,\n 7.554890369597974e-15,\n 7.554890369597974e-15,\n 7.602876708218093e-15,\n 7.602876708218093e-15,\n 8.987424975518815e-15,\n 8.987424975518815e-15,\n 9.496782696584755e-15,\n 9.496782696584755e-15,\n 7.794836634959827e-15,\n 7.794836634959827e-15,\n 7.687384677313677e-15,\n 7.687384677313677e-15,\n 7.88363352053401e-15,\n 7.88363352053401e-15,\n 9.615628086864115e-15,\n 9.615628086864115e-15,\n 9.61327853400774e-15,\n 9.61327853400774e-15,\n 8.797918176717875e-15,\n 8.797918176717875e-15,\n 9.203337452670419e-15,\n 9.203337452670419e-15,\n 9.580853268527643e-15,\n 9.580853268527643e-15,\n 9.578338540689775e-15,\n 9.578338540689775e-15,\n 9.486723920720762e-15,\n 9.486723920720762e-15,\n 9.029422567227124e-15,\n 9.029422567227124e-15,\n 9.51176274904996e-15,\n 9.51176274904996e-15,\n 8.417205441696537e-15,\n 8.417205441696537e-15,\n 8.28291067226123e-15,\n 8.28291067226123e-15,\n 9.102530335322245e-15,\n 9.102530335322245e-15,\n 9.395553910361908e-15,\n 9.395553910361908e-15,\n 9.233469198820892e-15,\n 9.233469198820892e-15,\n 9.408389181570067e-15,\n 9.408389181570067e-15,\n 9.34719284894663e-15,\n 9.34719284894663e-15,\n 9.406381577695803e-15,\n 9.406381577695803e-15,\n 8.511934392744643e-15,\n 8.511934392744643e-15,\n 8.248132260606626e-15,\n 8.248132260606626e-15,\n 8.880387088031638e-15,\n 8.880387088031638e-15,\n 8.260468245812198e-15,\n 8.260468245812198e-15,\n 8.714227910860366e-15,\n 8.714227910860366e-15,\n 8.478628665664324e-15,\n 8.478628665664324e-15,\n 8.512305622272293e-15,\n 8.512305622272293e-15,\n 8.558586322611321e-15,\n 8.558586322611321e-15,\n 8.659449891395769e-15,\n 8.659449891395769e-15,\n 9.32282983955845e-15,\n 9.32282983955845e-15,\n 8.861892274551129e-15,\n 8.861892274551129e-15,\n 9.269697998023243e-15,\n 9.269697998023243e-15,\n 9.168207628238912e-15,\n 9.168207628238912e-15,\n 9.208811971122641e-15,\n 9.208811971122641e-15,\n 8.928522478246243e-15,\n 8.928522478246243e-15,\n 8.966306682489098e-15,\n 8.966306682489098e-15,\n 9.009089151500596e-15,\n 9.009089151500596e-15,\n -3.9770274579566526e-15,\n -3.9770274579566526e-15,\n 1.7939956578544872e-15,\n 1.7939956578544872e-15,\n 5.008736541244864e-15,\n 5.008736541244864e-15,\n 4.441492469138636e-15,\n 4.441492469138636e-15,\n 6.919138493730401e-15,\n 6.919138493730401e-15,\n 2.2325598764323846e-15,\n 2.2325598764323846e-15,\n 7.20626485795956e-15,\n 7.20626485795956e-15,\n -5.430061423352973e-16,\n -5.430061423352973e-16,\n -3.119791920968089e-15,\n -3.119791920968089e-15,\n -9.316707560210596e-16,\n -9.316707560210596e-16,\n -1.841441407289029e-15,\n -1.841441407289029e-15,\n 6.860409633494036e-15,\n 6.860409633494036e-15,\n 7.981701089432105e-15,\n 7.981701089432105e-15,\n -2.349815458343772e-15,\n -2.349815458343772e-15,\n 7.393009610716346e-15,\n 7.393009610716346e-15,\n -3.706942436312618e-15,\n -3.706942436312618e-15,\n 8.002168689504975e-15,\n 8.002168689504975e-15,\n -4.0237141076685075e-15,\n -4.0237141076685075e-15,\n 7.488986332582967e-15,\n 7.488986332582967e-15,\n -5.207415029005119e-15,\n -5.207415029005119e-15,\n -6.22605266841973e-15,\n -6.22605266841973e-15,\n -8.32990473449324e-15,\n -8.32990473449324e-15,\n -7.469758955104936e-15,\n -7.469758955104936e-15,\n -7.582418048758941e-15,\n -7.582418048758941e-15,\n -7.816161317889202e-15,\n -7.816161317889202e-15,\n -8.531856863808276e-15,\n -8.531856863808276e-15,\n -8.723750160845813e-15,\n -8.723750160845813e-15,\n -9.298287365560297e-15,\n -9.298287365560297e-15,\n 9.379255506572054e-15,\n 9.254921639003276e-15,\n 9.254921639003276e-15,\n 9.263120195319792e-15,\n 9.263120195319792e-15,\n 9.178276609377273e-15,\n 9.178276609377273e-15,\n -8.936720354386294e-15,\n -8.936720354386294e-15,\n -9.379098578824372e-15,\n -9.379098578824372e-15,\n 8.732378849370199e-15,\n 8.732378849370199e-15,\n -6.909243705533452e-15,\n -6.909243705533452e-15,\n -7.848680313326474e-15,\n -7.848680313326474e-15,\n -9.201703609086432e-15,\n -9.201703609086432e-15,\n -8.844929703572378e-15,\n -8.844929703572378e-15,\n -9.077043651600763e-15,\n -9.077043651600763e-15,\n -9.345660995096751e-15,\n -9.345660995096751e-15,\n 9.30498138682207e-15,\n 9.30498138682207e-15,\n -7.088923883040773e-15,\n -7.088923883040773e-15,\n 9.29917556352783e-15,\n 9.29917556352783e-15,\n -7.388518589166569e-15,\n -7.388518589166569e-15,\n -8.07344052113443e-15,\n -8.07344052113443e-15,\n -9.322841228680204e-15,\n -9.322841228680204e-15,\n -8.31425235268427e-15,\n -8.31425235268427e-15,\n -8.942320208478235e-15,\n -8.942320208478235e-15,\n 7.876296992576902e-15,\n 7.876296992576902e-15,\n -7.5892591957815e-15,\n -7.5892591957815e-15,\n ...]"
     },
     "execution_count": 94,
     "metadata": {},
     "output_type": "execute_result"
    }
   ],
   "source": [
    "[float(i) for i in L]"
   ],
   "metadata": {
    "collapsed": false,
    "pycharm": {
     "name": "#%%\n"
    }
   }
  },
  {
   "cell_type": "code",
   "execution_count": 56,
   "outputs": [
    {
     "data": {
      "text/plain": "0.0"
     },
     "execution_count": 56,
     "metadata": {},
     "output_type": "execute_result"
    }
   ],
   "source": [
    "np_la.det(cov_x_matrix)"
   ],
   "metadata": {
    "collapsed": false,
    "pycharm": {
     "name": "#%%\n"
    }
   }
  },
  {
   "cell_type": "code",
   "execution_count": 71,
   "outputs": [
    {
     "data": {
      "text/plain": "18"
     },
     "execution_count": 71,
     "metadata": {},
     "output_type": "execute_result"
    }
   ],
   "source": [
    "# np_la.det(x[:18,[j for j in range(x.shape[1]) if j != 13]])\n",
    "np_la.matrix_rank(x[:19,:])"
   ],
   "metadata": {
    "collapsed": false,
    "pycharm": {
     "name": "#%%\n"
    }
   }
  },
  {
   "cell_type": "code",
   "execution_count": null,
   "outputs": [],
   "source": [],
   "metadata": {
    "collapsed": false,
    "pycharm": {
     "name": "#%%\n"
    }
   }
  }
 ],
 "metadata": {
  "kernelspec": {
   "display_name": "Python 3",
   "language": "python",
   "name": "python3"
  },
  "language_info": {
   "codemirror_mode": {
    "name": "ipython",
    "version": 2
   },
   "file_extension": ".py",
   "mimetype": "text/x-python",
   "name": "python",
   "nbconvert_exporter": "python",
   "pygments_lexer": "ipython2",
   "version": "2.7.6"
  }
 },
 "nbformat": 4,
 "nbformat_minor": 0
}