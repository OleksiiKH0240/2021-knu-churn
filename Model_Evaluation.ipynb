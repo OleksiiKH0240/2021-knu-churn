{
 "cells": [
  {
   "cell_type": "code",
   "execution_count": 190,
   "metadata": {
    "collapsed": true
   },
   "outputs": [
    {
     "name": "stdout",
     "output_type": "stream",
     "text": [
      "Requirement already satisfied: pandas in d:\\onedrive\\pythonpr\\samsung_knu_2021_practice\\2021-knu-churn\\venv\\lib\\site-packages (0.25.3)\n",
      "Requirement already satisfied: numpy>=1.13.3 in d:\\onedrive\\pythonpr\\samsung_knu_2021_practice\\2021-knu-churn\\venv\\lib\\site-packages (from pandas) (1.19.5)\n",
      "Requirement already satisfied: pytz>=2017.2 in d:\\onedrive\\pythonpr\\samsung_knu_2021_practice\\2021-knu-churn\\venv\\lib\\site-packages (from pandas) (2020.5)\n",
      "Requirement already satisfied: python-dateutil>=2.6.1 in d:\\onedrive\\pythonpr\\samsung_knu_2021_practice\\2021-knu-churn\\venv\\lib\\site-packages (from pandas) (2.8.1)\n",
      "Requirement already satisfied: six>=1.5 in d:\\onedrive\\pythonpr\\samsung_knu_2021_practice\\2021-knu-churn\\venv\\lib\\site-packages (from python-dateutil>=2.6.1->pandas) (1.15.0)\n",
      "Requirement already satisfied: seaborn in d:\\onedrive\\pythonpr\\samsung_knu_2021_practice\\2021-knu-churn\\venv\\lib\\site-packages (0.11.1)\n",
      "Requirement already satisfied: pandas>=0.23 in d:\\onedrive\\pythonpr\\samsung_knu_2021_practice\\2021-knu-churn\\venv\\lib\\site-packages (from seaborn) (0.25.3)\n",
      "Requirement already satisfied: scipy>=1.0 in d:\\onedrive\\pythonpr\\samsung_knu_2021_practice\\2021-knu-churn\\venv\\lib\\site-packages (from seaborn) (1.5.4)\n",
      "Requirement already satisfied: numpy>=1.15 in d:\\onedrive\\pythonpr\\samsung_knu_2021_practice\\2021-knu-churn\\venv\\lib\\site-packages (from seaborn) (1.19.5)\n",
      "Requirement already satisfied: matplotlib>=2.2 in d:\\onedrive\\pythonpr\\samsung_knu_2021_practice\\2021-knu-churn\\venv\\lib\\site-packages (from seaborn) (3.3.3)\n",
      "Requirement already satisfied: cycler>=0.10 in d:\\onedrive\\pythonpr\\samsung_knu_2021_practice\\2021-knu-churn\\venv\\lib\\site-packages (from matplotlib>=2.2->seaborn) (0.10.0)\n",
      "Requirement already satisfied: kiwisolver>=1.0.1 in d:\\onedrive\\pythonpr\\samsung_knu_2021_practice\\2021-knu-churn\\venv\\lib\\site-packages (from matplotlib>=2.2->seaborn) (1.3.1)\n",
      "Requirement already satisfied: pillow>=6.2.0 in d:\\onedrive\\pythonpr\\samsung_knu_2021_practice\\2021-knu-churn\\venv\\lib\\site-packages (from matplotlib>=2.2->seaborn) (8.1.0)\n",
      "Requirement already satisfied: pyparsing!=2.0.4,!=2.1.2,!=2.1.6,>=2.0.3 in d:\\onedrive\\pythonpr\\samsung_knu_2021_practice\\2021-knu-churn\\venv\\lib\\site-packages (from matplotlib>=2.2->seaborn) (2.4.7)\n",
      "Requirement already satisfied: python-dateutil>=2.1 in d:\\onedrive\\pythonpr\\samsung_knu_2021_practice\\2021-knu-churn\\venv\\lib\\site-packages (from matplotlib>=2.2->seaborn) (2.8.1)\n",
      "Requirement already satisfied: six in d:\\onedrive\\pythonpr\\samsung_knu_2021_practice\\2021-knu-churn\\venv\\lib\\site-packages (from cycler>=0.10->matplotlib>=2.2->seaborn) (1.15.0)\n",
      "Requirement already satisfied: pytz>=2017.2 in d:\\onedrive\\pythonpr\\samsung_knu_2021_practice\\2021-knu-churn\\venv\\lib\\site-packages (from pandas>=0.23->seaborn) (2020.5)\n",
      "Requirement already satisfied: numpy in d:\\onedrive\\pythonpr\\samsung_knu_2021_practice\\2021-knu-churn\\venv\\lib\\site-packages (1.19.5)\n",
      "Requirement already satisfied: matplotlib in d:\\onedrive\\pythonpr\\samsung_knu_2021_practice\\2021-knu-churn\\venv\\lib\\site-packages (3.3.3)\n",
      "Requirement already satisfied: pillow>=6.2.0 in d:\\onedrive\\pythonpr\\samsung_knu_2021_practice\\2021-knu-churn\\venv\\lib\\site-packages (from matplotlib) (8.1.0)\n",
      "Requirement already satisfied: python-dateutil>=2.1 in d:\\onedrive\\pythonpr\\samsung_knu_2021_practice\\2021-knu-churn\\venv\\lib\\site-packages (from matplotlib) (2.8.1)\n",
      "Requirement already satisfied: pyparsing!=2.0.4,!=2.1.2,!=2.1.6,>=2.0.3 in d:\\onedrive\\pythonpr\\samsung_knu_2021_practice\\2021-knu-churn\\venv\\lib\\site-packages (from matplotlib) (2.4.7)\n",
      "Requirement already satisfied: cycler>=0.10 in d:\\onedrive\\pythonpr\\samsung_knu_2021_practice\\2021-knu-churn\\venv\\lib\\site-packages (from matplotlib) (0.10.0)\n",
      "Requirement already satisfied: kiwisolver>=1.0.1 in d:\\onedrive\\pythonpr\\samsung_knu_2021_practice\\2021-knu-churn\\venv\\lib\\site-packages (from matplotlib) (1.3.1)\n",
      "Requirement already satisfied: numpy>=1.15 in d:\\onedrive\\pythonpr\\samsung_knu_2021_practice\\2021-knu-churn\\venv\\lib\\site-packages (from matplotlib) (1.19.5)\n",
      "Requirement already satisfied: six in d:\\onedrive\\pythonpr\\samsung_knu_2021_practice\\2021-knu-churn\\venv\\lib\\site-packages (from cycler>=0.10->matplotlib) (1.15.0)\n",
      "Requirement already satisfied: scikit-learn in d:\\onedrive\\pythonpr\\samsung_knu_2021_practice\\2021-knu-churn\\venv\\lib\\site-packages (0.24.1)\n",
      "Requirement already satisfied: threadpoolctl>=2.0.0 in d:\\onedrive\\pythonpr\\samsung_knu_2021_practice\\2021-knu-churn\\venv\\lib\\site-packages (from scikit-learn) (2.1.0)\n",
      "Requirement already satisfied: numpy>=1.13.3 in d:\\onedrive\\pythonpr\\samsung_knu_2021_practice\\2021-knu-churn\\venv\\lib\\site-packages (from scikit-learn) (1.19.5)\n",
      "Requirement already satisfied: scipy>=0.19.1 in d:\\onedrive\\pythonpr\\samsung_knu_2021_practice\\2021-knu-churn\\venv\\lib\\site-packages (from scikit-learn) (1.5.4)\n",
      "Requirement already satisfied: joblib>=0.11 in d:\\onedrive\\pythonpr\\samsung_knu_2021_practice\\2021-knu-churn\\venv\\lib\\site-packages (from scikit-learn) (1.0.0)\n"
     ]
    },
    {
     "name": "stderr",
     "output_type": "stream",
     "text": [
      "WARNING: You are using pip version 21.0; however, version 21.0.1 is available.\n",
      "You should consider upgrading via the 'd:\\onedrive\\pythonpr\\samsung_knu_2021_practice\\2021-knu-churn\\venv\\scripts\\python.exe -m pip install --upgrade pip' command.\n",
      "WARNING: You are using pip version 21.0; however, version 21.0.1 is available.\n",
      "You should consider upgrading via the 'd:\\onedrive\\pythonpr\\samsung_knu_2021_practice\\2021-knu-churn\\venv\\scripts\\python.exe -m pip install --upgrade pip' command.\n",
      "WARNING: You are using pip version 21.0; however, version 21.0.1 is available.\n",
      "You should consider upgrading via the 'd:\\onedrive\\pythonpr\\samsung_knu_2021_practice\\2021-knu-churn\\venv\\scripts\\python.exe -m pip install --upgrade pip' command.\n",
      "WARNING: You are using pip version 21.0; however, version 21.0.1 is available.\n",
      "You should consider upgrading via the 'd:\\onedrive\\pythonpr\\samsung_knu_2021_practice\\2021-knu-churn\\venv\\scripts\\python.exe -m pip install --upgrade pip' command.\n",
      "WARNING: You are using pip version 21.0; however, version 21.0.1 is available.\n",
      "You should consider upgrading via the 'd:\\onedrive\\pythonpr\\samsung_knu_2021_practice\\2021-knu-churn\\venv\\scripts\\python.exe -m pip install --upgrade pip' command.\n"
     ]
    }
   ],
   "source": [
    "!pip install pandas\n",
    "\n",
    "!pip install seaborn\n",
    "!pip install numpy\n",
    "\n",
    "!pip install matplotlib\n",
    "\n",
    "!pip install scikit-learn\n",
    "\n",
    "import matplotlib.pyplot as plt\n",
    "\n",
    "import matplotlib\n",
    "\n",
    "import seaborn as sns\n",
    "\n",
    "import numpy as np\n",
    "\n",
    "import pandas as pd\n",
    "\n",
    "from sklearn import neighbors, metrics\n",
    "\n",
    "from sklearn.model_selection import train_test_split\n",
    "\n",
    "from sklearn.preprocessing import LabelEncoder\n",
    "\n",
    "from collections import Counter\n",
    "\n",
    "import re\n",
    "\n",
    "from sklearn.covariance import EllipticEnvelope\n",
    "\n",
    "from sklearn.linear_model import LinearRegression\n",
    "\n",
    "from sklearn.naive_bayes import GaussianNB\n",
    "\n",
    "from sklearn.tree import DecisionTreeClassifier\n",
    "\n",
    "from sklearn.model_selection import cross_val_score"
   ]
  },
  {
   "cell_type": "markdown",
   "metadata": {
    "pycharm": {
     "name": "#%% md\n"
    }
   },
   "source": [
    "# functions"
   ]
  },
  {
   "cell_type": "code",
   "execution_count": 189,
   "metadata": {
    "pycharm": {
     "name": "#%%\n"
    }
   },
   "outputs": [],
   "source": [
    "def get_metrics(targets: np.ndarray, predicted_targets: np.ndarray, mode: str):\n",
    "    '''\n",
    "\n",
    "    :param targets:\n",
    "    :param predicted_targets:\n",
    "    :param mode: influence to return: mode = \"show_metrics\" - print metrics to the Console;\n",
    "                                        mode = \"return_metrics\" - return dict which consists all metrics values\n",
    "                                        with their names as keys\n",
    "    :return:\n",
    "    {\n",
    "    \"accuracy\": accuracy_value, \"precision\": precision_value,\n",
    "    \"recall\": recall_value, \"f1_score\": f1_score_value,\n",
    "    \"confusion_matrix\": confusion_matrix\n",
    "    }\n",
    "    '''\n",
    "    # token = (actual target, predicted target)\n",
    "    # 1 - positive target, 0 - negative target\n",
    "    tokens = [(j, i) for i in [1, 0] for j in [1, 0]]\n",
    "    # tokens = [true_pos_token,\n",
    "    #           false_pos_token,\n",
    "    #           false_neg_token,\n",
    "    #           true_neg_token]\n",
    "    c = Counter(zip(targets, predicted_targets))\n",
    "    [true_pos_value,\n",
    "     false_pos_value,\n",
    "     false_neg_value,\n",
    "     true_neg_value] = [c[token] for token in tokens]\n",
    "    accuracy = (true_neg_value + true_pos_value) / len(targets)\n",
    "    confusion_matrix = np.array([[true_pos_value, false_pos_value],\n",
    "                                 [false_neg_value, true_neg_value]])\n",
    "    # precision = true_pos_value / (true_pos_value + false_pos_value)\n",
    "    # recall = true_pos_value / (true_pos_value + false_neg_value)\n",
    "    # f1_score = 2 * precision * recall / (precision + recall)\n",
    "    if mode == \"show_metrics\":\n",
    "        print(f\"accuracy = {accuracy}\")\n",
    "        print(f\"confusion_matrix = \\n{confusion_matrix}\")\n",
    "        # print(f\"precision = {precision}\")\n",
    "        # print(f\"recall = {recall}\")\n",
    "        # print(f\"f1_score = {f1_score}\")\n",
    "    elif mode == \"return_metrics\":\n",
    "        res_dict = {\"accuracy\": accuracy, \"confusion_matrix\": confusion_matrix}\n",
    "        return res_dict"
   ]
  },
  {
   "cell_type": "code",
   "execution_count": 1,
   "metadata": {
    "pycharm": {
     "name": "#%%\n"
    }
   },
   "outputs": [
    {
     "ename": "NameError",
     "evalue": "name 'pd' is not defined",
     "output_type": "error",
     "traceback": [
      "\u001B[1;31m---------------------------------------------------------------------------\u001B[0m",
      "\u001B[1;31mNameError\u001B[0m                                 Traceback (most recent call last)",
      "\u001B[1;32m<ipython-input-1-c6e4a5b7f207>\u001B[0m in \u001B[0;36m<module>\u001B[1;34m\u001B[0m\n\u001B[1;32m----> 1\u001B[1;33m \u001B[0mpreproc_data\u001B[0m \u001B[1;33m=\u001B[0m \u001B[0mpd\u001B[0m\u001B[1;33m.\u001B[0m\u001B[0mread_csv\u001B[0m\u001B[1;33m(\u001B[0m\u001B[1;34m\"pre-processing_BankChurners.csv\"\u001B[0m\u001B[1;33m)\u001B[0m\u001B[1;33m\u001B[0m\u001B[1;33m\u001B[0m\u001B[0m\n\u001B[0m\u001B[0;32m      2\u001B[0m x = preproc_data.drop([\"Attrition_Flag\",\n\u001B[0;32m      3\u001B[0m                        \u001B[1;34m\"Naive_Bayes_Classifier_Attrition_Flag_Card_Category_Contacts_Count_12_mon_Dependent_count_Education_Level_Months_Inactive_12_mon_1\"\u001B[0m\u001B[1;33m,\u001B[0m\u001B[1;33m\u001B[0m\u001B[1;33m\u001B[0m\u001B[0m\n\u001B[0;32m      4\u001B[0m                        \u001B[1;34m\"Naive_Bayes_Classifier_Attrition_Flag_Card_Category_Contacts_Count_12_mon_Dependent_count_Education_Level_Months_Inactive_12_mon_2\"\u001B[0m\u001B[1;33m\u001B[0m\u001B[1;33m\u001B[0m\u001B[0m\n\u001B[0;32m      5\u001B[0m                        ], axis=1).values\n",
      "\u001B[1;31mNameError\u001B[0m: name 'pd' is not defined"
     ]
    }
   ],
   "source": [
    "preproc_data = pd.read_csv(\"pre-processing_BankChurners.csv\")\n",
    "x = preproc_data.drop([\"Attrition_Flag\",\n",
    "                       \"Naive_Bayes_Classifier_Attrition_Flag_Card_Category_Contacts_Count_12_mon_Dependent_count_Education_Level_Months_Inactive_12_mon_1\",\n",
    "                       \"Naive_Bayes_Classifier_Attrition_Flag_Card_Category_Contacts_Count_12_mon_Dependent_count_Education_Level_Months_Inactive_12_mon_2\"\n",
    "                       ], axis=1).values\n",
    "y = preproc_data[\"Attrition_Flag\"].values\n",
    "preproc_data"
   ]
  },
  {
   "cell_type": "code",
   "execution_count": 201,
   "metadata": {
    "pycharm": {
     "name": "#%%\n"
    }
   },
   "outputs": [
    {
     "data": {
      "text/plain": [
       "1    8494\n",
       "0    1626\n",
       "Name: Attrition_Flag, dtype: int64"
      ]
     },
     "execution_count": 201,
     "metadata": {},
     "output_type": "execute_result"
    }
   ],
   "source": [
    "preproc_data.Attrition_Flag.value_counts()"
   ]
  },
  {
   "cell_type": "code",
   "execution_count": 24,
   "metadata": {
    "pycharm": {
     "name": "#%%\n"
    }
   },
   "outputs": [
    {
     "data": {
      "text/html": [
       "<div>\n",
       "<style scoped>\n",
       "    .dataframe tbody tr th:only-of-type {\n",
       "        vertical-align: middle;\n",
       "    }\n",
       "\n",
       "    .dataframe tbody tr th {\n",
       "        vertical-align: top;\n",
       "    }\n",
       "\n",
       "    .dataframe thead th {\n",
       "        text-align: right;\n",
       "    }\n",
       "</style>\n",
       "<table border=\"1\" class=\"dataframe\">\n",
       "  <thead>\n",
       "    <tr style=\"text-align: right;\">\n",
       "      <th></th>\n",
       "      <th>Customer_Age</th>\n",
       "      <th>Gender</th>\n",
       "      <th>Dependent_count</th>\n",
       "      <th>Education_Level</th>\n",
       "      <th>Marital_Status</th>\n",
       "      <th>Income_Category</th>\n",
       "      <th>Card_Category</th>\n",
       "      <th>Months_on_book</th>\n",
       "      <th>Total_Relationship_Count</th>\n",
       "      <th>Months_Inactive_12_mon</th>\n",
       "      <th>Contacts_Count_12_mon</th>\n",
       "      <th>Credit_Limit</th>\n",
       "      <th>Total_Revolving_Bal</th>\n",
       "      <th>Avg_Open_To_Buy</th>\n",
       "      <th>Total_Amt_Chng_Q4_Q1</th>\n",
       "      <th>Total_Trans_Amt</th>\n",
       "      <th>Total_Trans_Ct</th>\n",
       "      <th>Total_Ct_Chng_Q4_Q1</th>\n",
       "      <th>Avg_Utilization_Ratio</th>\n",
       "      <th>Naive_Bayes_Classifier_Attrition_Flag_Card_Category_Contacts_Count_12_mon_Dependent_count_Education_Level_Months_Inactive_12_mon_2</th>\n",
       "    </tr>\n",
       "  </thead>\n",
       "  <tbody>\n",
       "    <tr>\n",
       "      <th>0</th>\n",
       "      <td>0.431818</td>\n",
       "      <td>1</td>\n",
       "      <td>3</td>\n",
       "      <td>2.0</td>\n",
       "      <td>2.0</td>\n",
       "      <td>70.000000</td>\n",
       "      <td>1</td>\n",
       "      <td>0.604651</td>\n",
       "      <td>5</td>\n",
       "      <td>1</td>\n",
       "      <td>3</td>\n",
       "      <td>0.340190</td>\n",
       "      <td>3.087008e-01</td>\n",
       "      <td>0.344983</td>\n",
       "      <td>0.499066</td>\n",
       "      <td>0.036260</td>\n",
       "      <td>0.250000</td>\n",
       "      <td>0.455055</td>\n",
       "      <td>0.061308</td>\n",
       "      <td>0.999921</td>\n",
       "    </tr>\n",
       "    <tr>\n",
       "      <th>1</th>\n",
       "      <td>0.568182</td>\n",
       "      <td>1</td>\n",
       "      <td>3</td>\n",
       "      <td>4.0</td>\n",
       "      <td>2.0</td>\n",
       "      <td>100.000000</td>\n",
       "      <td>1</td>\n",
       "      <td>0.534884</td>\n",
       "      <td>4</td>\n",
       "      <td>1</td>\n",
       "      <td>0</td>\n",
       "      <td>0.059850</td>\n",
       "      <td>3.972984e-10</td>\n",
       "      <td>0.098765</td>\n",
       "      <td>0.969720</td>\n",
       "      <td>0.078753</td>\n",
       "      <td>0.078125</td>\n",
       "      <td>0.653319</td>\n",
       "      <td>0.000001</td>\n",
       "      <td>0.999991</td>\n",
       "    </tr>\n",
       "    <tr>\n",
       "      <th>2</th>\n",
       "      <td>0.318182</td>\n",
       "      <td>0</td>\n",
       "      <td>4</td>\n",
       "      <td>2.0</td>\n",
       "      <td>2.0</td>\n",
       "      <td>26.666667</td>\n",
       "      <td>1</td>\n",
       "      <td>0.488372</td>\n",
       "      <td>3</td>\n",
       "      <td>4</td>\n",
       "      <td>1</td>\n",
       "      <td>0.056676</td>\n",
       "      <td>1.000000e+00</td>\n",
       "      <td>0.022779</td>\n",
       "      <td>0.525234</td>\n",
       "      <td>0.037804</td>\n",
       "      <td>0.078125</td>\n",
       "      <td>0.653319</td>\n",
       "      <td>0.763820</td>\n",
       "      <td>0.999881</td>\n",
       "    </tr>\n",
       "    <tr>\n",
       "      <th>3</th>\n",
       "      <td>0.318182</td>\n",
       "      <td>1</td>\n",
       "      <td>3</td>\n",
       "      <td>1.0</td>\n",
       "      <td>2.0</td>\n",
       "      <td>70.000000</td>\n",
       "      <td>1</td>\n",
       "      <td>0.186047</td>\n",
       "      <td>5</td>\n",
       "      <td>1</td>\n",
       "      <td>0</td>\n",
       "      <td>0.099091</td>\n",
       "      <td>3.972984e-10</td>\n",
       "      <td>0.136382</td>\n",
       "      <td>0.813084</td>\n",
       "      <td>0.017501</td>\n",
       "      <td>0.140625</td>\n",
       "      <td>0.700084</td>\n",
       "      <td>0.000001</td>\n",
       "      <td>0.999991</td>\n",
       "    </tr>\n",
       "    <tr>\n",
       "      <th>4</th>\n",
       "      <td>0.409091</td>\n",
       "      <td>1</td>\n",
       "      <td>2</td>\n",
       "      <td>4.0</td>\n",
       "      <td>2.0</td>\n",
       "      <td>50.000000</td>\n",
       "      <td>1</td>\n",
       "      <td>0.534884</td>\n",
       "      <td>3</td>\n",
       "      <td>1</td>\n",
       "      <td>2</td>\n",
       "      <td>0.077747</td>\n",
       "      <td>4.954311e-01</td>\n",
       "      <td>0.079783</td>\n",
       "      <td>0.514393</td>\n",
       "      <td>0.033057</td>\n",
       "      <td>0.109375</td>\n",
       "      <td>0.236909</td>\n",
       "      <td>0.312564</td>\n",
       "      <td>0.999951</td>\n",
       "    </tr>\n",
       "    <tr>\n",
       "      <th>...</th>\n",
       "      <td>...</td>\n",
       "      <td>...</td>\n",
       "      <td>...</td>\n",
       "      <td>...</td>\n",
       "      <td>...</td>\n",
       "      <td>...</td>\n",
       "      <td>...</td>\n",
       "      <td>...</td>\n",
       "      <td>...</td>\n",
       "      <td>...</td>\n",
       "      <td>...</td>\n",
       "      <td>...</td>\n",
       "      <td>...</td>\n",
       "      <td>...</td>\n",
       "      <td>...</td>\n",
       "      <td>...</td>\n",
       "      <td>...</td>\n",
       "      <td>...</td>\n",
       "      <td>...</td>\n",
       "      <td>...</td>\n",
       "    </tr>\n",
       "    <tr>\n",
       "      <th>10115</th>\n",
       "      <td>0.545455</td>\n",
       "      <td>1</td>\n",
       "      <td>2</td>\n",
       "      <td>4.0</td>\n",
       "      <td>1.0</td>\n",
       "      <td>50.000000</td>\n",
       "      <td>1</td>\n",
       "      <td>0.627907</td>\n",
       "      <td>3</td>\n",
       "      <td>2</td>\n",
       "      <td>3</td>\n",
       "      <td>0.077536</td>\n",
       "      <td>7.353993e-01</td>\n",
       "      <td>0.062076</td>\n",
       "      <td>0.262804</td>\n",
       "      <td>0.855934</td>\n",
       "      <td>0.835938</td>\n",
       "      <td>0.239989</td>\n",
       "      <td>0.464323</td>\n",
       "      <td>0.999821</td>\n",
       "    </tr>\n",
       "    <tr>\n",
       "      <th>10116</th>\n",
       "      <td>0.340909</td>\n",
       "      <td>1</td>\n",
       "      <td>2</td>\n",
       "      <td>4.0</td>\n",
       "      <td>3.0</td>\n",
       "      <td>50.000000</td>\n",
       "      <td>1</td>\n",
       "      <td>0.279070</td>\n",
       "      <td>4</td>\n",
       "      <td>2</td>\n",
       "      <td>3</td>\n",
       "      <td>0.085819</td>\n",
       "      <td>8.684942e-01</td>\n",
       "      <td>0.060308</td>\n",
       "      <td>0.300561</td>\n",
       "      <td>0.472062</td>\n",
       "      <td>0.460938</td>\n",
       "      <td>0.191263</td>\n",
       "      <td>0.513569</td>\n",
       "      <td>0.004312</td>\n",
       "    </tr>\n",
       "    <tr>\n",
       "      <th>10117</th>\n",
       "      <td>0.409091</td>\n",
       "      <td>0</td>\n",
       "      <td>1</td>\n",
       "      <td>2.0</td>\n",
       "      <td>2.0</td>\n",
       "      <td>26.666667</td>\n",
       "      <td>1</td>\n",
       "      <td>0.534884</td>\n",
       "      <td>5</td>\n",
       "      <td>3</td>\n",
       "      <td>4</td>\n",
       "      <td>0.120042</td>\n",
       "      <td>3.972984e-10</td>\n",
       "      <td>0.156466</td>\n",
       "      <td>0.306169</td>\n",
       "      <td>0.559394</td>\n",
       "      <td>0.390625</td>\n",
       "      <td>0.229068</td>\n",
       "      <td>0.000001</td>\n",
       "      <td>0.001700</td>\n",
       "    </tr>\n",
       "    <tr>\n",
       "      <th>10118</th>\n",
       "      <td>0.090909</td>\n",
       "      <td>1</td>\n",
       "      <td>2</td>\n",
       "      <td>4.0</td>\n",
       "      <td>2.0</td>\n",
       "      <td>50.000000</td>\n",
       "      <td>1</td>\n",
       "      <td>0.534884</td>\n",
       "      <td>4</td>\n",
       "      <td>3</td>\n",
       "      <td>3</td>\n",
       "      <td>0.116172</td>\n",
       "      <td>3.972984e-10</td>\n",
       "      <td>0.152756</td>\n",
       "      <td>0.200000</td>\n",
       "      <td>0.450958</td>\n",
       "      <td>0.406250</td>\n",
       "      <td>0.202185</td>\n",
       "      <td>0.000001</td>\n",
       "      <td>0.002876</td>\n",
       "    </tr>\n",
       "    <tr>\n",
       "      <th>10119</th>\n",
       "      <td>0.386364</td>\n",
       "      <td>0</td>\n",
       "      <td>2</td>\n",
       "      <td>4.0</td>\n",
       "      <td>2.0</td>\n",
       "      <td>26.666667</td>\n",
       "      <td>3</td>\n",
       "      <td>0.279070</td>\n",
       "      <td>6</td>\n",
       "      <td>2</td>\n",
       "      <td>4</td>\n",
       "      <td>0.270566</td>\n",
       "      <td>7.791021e-01</td>\n",
       "      <td>0.243929</td>\n",
       "      <td>0.262804</td>\n",
       "      <td>0.559565</td>\n",
       "      <td>0.398438</td>\n",
       "      <td>0.181742</td>\n",
       "      <td>0.189951</td>\n",
       "      <td>0.002959</td>\n",
       "    </tr>\n",
       "  </tbody>\n",
       "</table>\n",
       "<p>10120 rows × 20 columns</p>\n",
       "</div>"
      ],
      "text/plain": [
       "       Customer_Age  Gender  Dependent_count  Education_Level  Marital_Status  \\\n",
       "0          0.431818       1                3              2.0             2.0   \n",
       "1          0.568182       1                3              4.0             2.0   \n",
       "2          0.318182       0                4              2.0             2.0   \n",
       "3          0.318182       1                3              1.0             2.0   \n",
       "4          0.409091       1                2              4.0             2.0   \n",
       "...             ...     ...              ...              ...             ...   \n",
       "10115      0.545455       1                2              4.0             1.0   \n",
       "10116      0.340909       1                2              4.0             3.0   \n",
       "10117      0.409091       0                1              2.0             2.0   \n",
       "10118      0.090909       1                2              4.0             2.0   \n",
       "10119      0.386364       0                2              4.0             2.0   \n",
       "\n",
       "       Income_Category  Card_Category  Months_on_book  \\\n",
       "0            70.000000              1        0.604651   \n",
       "1           100.000000              1        0.534884   \n",
       "2            26.666667              1        0.488372   \n",
       "3            70.000000              1        0.186047   \n",
       "4            50.000000              1        0.534884   \n",
       "...                ...            ...             ...   \n",
       "10115        50.000000              1        0.627907   \n",
       "10116        50.000000              1        0.279070   \n",
       "10117        26.666667              1        0.534884   \n",
       "10118        50.000000              1        0.534884   \n",
       "10119        26.666667              3        0.279070   \n",
       "\n",
       "       Total_Relationship_Count  Months_Inactive_12_mon  \\\n",
       "0                             5                       1   \n",
       "1                             4                       1   \n",
       "2                             3                       4   \n",
       "3                             5                       1   \n",
       "4                             3                       1   \n",
       "...                         ...                     ...   \n",
       "10115                         3                       2   \n",
       "10116                         4                       2   \n",
       "10117                         5                       3   \n",
       "10118                         4                       3   \n",
       "10119                         6                       2   \n",
       "\n",
       "       Contacts_Count_12_mon  Credit_Limit  Total_Revolving_Bal  \\\n",
       "0                          3      0.340190         3.087008e-01   \n",
       "1                          0      0.059850         3.972984e-10   \n",
       "2                          1      0.056676         1.000000e+00   \n",
       "3                          0      0.099091         3.972984e-10   \n",
       "4                          2      0.077747         4.954311e-01   \n",
       "...                      ...           ...                  ...   \n",
       "10115                      3      0.077536         7.353993e-01   \n",
       "10116                      3      0.085819         8.684942e-01   \n",
       "10117                      4      0.120042         3.972984e-10   \n",
       "10118                      3      0.116172         3.972984e-10   \n",
       "10119                      4      0.270566         7.791021e-01   \n",
       "\n",
       "       Avg_Open_To_Buy  Total_Amt_Chng_Q4_Q1  Total_Trans_Amt  Total_Trans_Ct  \\\n",
       "0             0.344983              0.499066         0.036260        0.250000   \n",
       "1             0.098765              0.969720         0.078753        0.078125   \n",
       "2             0.022779              0.525234         0.037804        0.078125   \n",
       "3             0.136382              0.813084         0.017501        0.140625   \n",
       "4             0.079783              0.514393         0.033057        0.109375   \n",
       "...                ...                   ...              ...             ...   \n",
       "10115         0.062076              0.262804         0.855934        0.835938   \n",
       "10116         0.060308              0.300561         0.472062        0.460938   \n",
       "10117         0.156466              0.306169         0.559394        0.390625   \n",
       "10118         0.152756              0.200000         0.450958        0.406250   \n",
       "10119         0.243929              0.262804         0.559565        0.398438   \n",
       "\n",
       "       Total_Ct_Chng_Q4_Q1  Avg_Utilization_Ratio  \\\n",
       "0                 0.455055               0.061308   \n",
       "1                 0.653319               0.000001   \n",
       "2                 0.653319               0.763820   \n",
       "3                 0.700084               0.000001   \n",
       "4                 0.236909               0.312564   \n",
       "...                    ...                    ...   \n",
       "10115             0.239989               0.464323   \n",
       "10116             0.191263               0.513569   \n",
       "10117             0.229068               0.000001   \n",
       "10118             0.202185               0.000001   \n",
       "10119             0.181742               0.189951   \n",
       "\n",
       "       Naive_Bayes_Classifier_Attrition_Flag_Card_Category_Contacts_Count_12_mon_Dependent_count_Education_Level_Months_Inactive_12_mon_2  \n",
       "0                                               0.999921                                                                                   \n",
       "1                                               0.999991                                                                                   \n",
       "2                                               0.999881                                                                                   \n",
       "3                                               0.999991                                                                                   \n",
       "4                                               0.999951                                                                                   \n",
       "...                                                  ...                                                                                   \n",
       "10115                                           0.999821                                                                                   \n",
       "10116                                           0.004312                                                                                   \n",
       "10117                                           0.001700                                                                                   \n",
       "10118                                           0.002876                                                                                   \n",
       "10119                                           0.002959                                                                                   \n",
       "\n",
       "[10120 rows x 20 columns]"
      ]
     },
     "execution_count": 24,
     "metadata": {},
     "output_type": "execute_result"
    }
   ],
   "source": []
  },
  {
   "cell_type": "markdown",
   "metadata": {
    "pycharm": {
     "name": "#%% md\n"
    }
   },
   "source": [
    "# decide what kind of model is suitable for your task\n",
    "(supervised / unsupervised learning, classification / regression)\n",
    "i chose supervised ml because we can organize train/test sets, with given dataset\n",
    "but also we can try unsupervised ml and compare the results"
   ]
  },
  {
   "cell_type": "markdown",
   "metadata": {
    "pycharm": {
     "name": "#%% md\n"
    }
   },
   "source": [
    "# decide how to split data into train/test sets\n",
    "test_size = 0.25   : best_test_size = 0.14909803921568668\n",
    "0.8944664031620554 : 0.8926441351888668\n",
    "0.9616600790513834 : 0.9622266401590457\n",
    "0.9094861660079051 : 0.9105367793240556\n",
    "0.8525691699604743 : 0.8482438701126573"
   ]
  },
  {
   "cell_type": "code",
   "execution_count": 202,
   "metadata": {
    "pycharm": {
     "name": "#%%\n"
    }
   },
   "outputs": [
    {
     "data": {
      "text/plain": [
       "0.14909803921568668"
      ]
     },
     "execution_count": 202,
     "metadata": {},
     "output_type": "execute_result"
    }
   ],
   "source": [
    "best_test_size = None"
   ]
  },
  {
   "cell_type": "code",
   "execution_count": 216,
   "metadata": {
    "pycharm": {
     "name": "#%%\n"
    }
   },
   "outputs": [
    {
     "name": "stdout",
     "output_type": "stream",
     "text": [
      "shapes: \n",
      "x_train: (8096, 19), \n",
      "x_test: (2024, 19), \n",
      "y_train: (8096,), \n",
      "y_test: (2024,)\n"
     ]
    }
   ],
   "source": [
    "from sklearn.ensemble import RandomForestClassifier\n",
    "\n",
    "x_train, x_test, y_train, y_test = train_test_split(x, y,\n",
    "                                                    test_size=0.2,\n",
    "                                                    random_state=1)\n",
    "print(f\"shapes: \\nx_train: {x_train.shape}, \\nx_test: {x_test.shape}, \\n\"\n",
    "      f\"y_train: {y_train.shape}, \\ny_test: {y_test.shape}\")\n",
    "\n",
    "y_pos_idx_array = [idx for idx, val in enumerate(y_test) if val == 1]\n",
    "y_neg_idx_array = [idx for idx, val in enumerate(y_test) if val == 0]"
   ]
  },
  {
   "cell_type": "code",
   "execution_count": 148,
   "metadata": {
    "pycharm": {
     "name": "#%%\n"
    }
   },
   "outputs": [],
   "source": [
    "max_test_size = 0.6\n",
    "start_test_size = 0.1\n",
    "test_size_step = 0.01\n",
    "test_sizes = [round(start_test_size + i * test_size_step, 2)\n",
    "              for i in list(range(int((max_test_size - start_test_size) / test_size_step) + 1))]\n",
    "best_test_sizes = []\n",
    "scores_dict = dict()\n",
    "for rand_state_i in range(1, 5 + 1):\n",
    "    for test_size_i in test_sizes:\n",
    "        # print(f\"test_size_i: {test_size_i}\")\n",
    "        x_train, x_test, y_train, y_test = train_test_split(x, y, test_size=test_size_i,\n",
    "                                                            random_state=rand_state_i)\n",
    "        clf_model = RandomForestClassifier(n_estimators=100)\n",
    "        clf_model.fit(X=x_train, y=y_train)\n",
    "        y_predict = clf_model.predict(x_test)\n",
    "        y_pos_idx_array = [idx for idx, val in enumerate(y_test) if val == 1]\n",
    "        y_neg_idx_array = [idx for idx, val in enumerate(y_test) if val == 0]\n",
    "\n",
    "        metrics = get_metrics(targets=y_test[y_pos_idx_array], predicted_targets=y_predict[y_pos_idx_array], mode=\"return_metrics\")\n",
    "        pos_target_accuracy = metrics[\"accuracy\"]\n",
    "\n",
    "        metrics = get_metrics(targets=y_test[y_neg_idx_array], predicted_targets=y_predict[y_neg_idx_array], mode=\"return_metrics\")\n",
    "        neg_target_accuracy = metrics[\"accuracy\"]\n",
    "\n",
    "        scores_dict[test_size_i] = (pos_target_accuracy + neg_target_accuracy) / 2\n",
    "        # print((pos_target_accuracy + neg_target_accuracy) / 2)\n",
    "        best_test_size = max(scores_dict.items(), key=lambda x: x[1])[0]\n",
    "        best_test_sizes.append(best_test_size)\n",
    "\n",
    "best_test_size = sum(best_test_sizes) / len(best_test_sizes)\n",
    "# best_test_size = max(scores_dict.items(), key=lambda x: x[1])[0]\n"
   ]
  },
  {
   "cell_type": "code",
   "execution_count": 152,
   "metadata": {
    "pycharm": {
     "name": "#%%\n"
    }
   },
   "outputs": [
    {
     "data": {
      "text/plain": [
       "0.14909803921568668"
      ]
     },
     "execution_count": 152,
     "metadata": {},
     "output_type": "execute_result"
    }
   ],
   "source": [
    "best_test_size"
   ]
  },
  {
   "cell_type": "markdown",
   "metadata": {
    "pycharm": {
     "name": "#%% md\n"
    }
   },
   "source": [
    "# choose the metrics to apply\n",
    "accuracy, precision, recall, f1_score, confusion_matrix\n",
    "according to our task we can understand that our goal is in success prediction of positive class of target feature as well as negative one,\n",
    "so we have to test our model on sets with positive target feature and negative separately and the accuracy wil be the best choice for us\n",
    "metrics to apply: accuracy"
   ]
  },
  {
   "cell_type": "code",
   "execution_count": 3,
   "metadata": {
    "pycharm": {
     "name": "#%%\n"
    }
   },
   "outputs": [],
   "source": []
  },
  {
   "cell_type": "markdown",
   "metadata": {
    "pycharm": {
     "name": "#%% md\n"
    }
   },
   "source": [
    "# Naive Bayes model"
   ]
  },
  {
   "cell_type": "code",
   "execution_count": 217,
   "metadata": {
    "pycharm": {
     "name": "#%%\n"
    }
   },
   "outputs": [
    {
     "name": "stdout",
     "output_type": "stream",
     "text": [
      "positive target prediction metrics\n",
      "negative target prediction metrics\n",
      "accuracy = 0.8898221343873518\n",
      "confusion_matrix = \n",
      "[[1578   98]\n",
      " [ 125  223]]\n"
     ]
    },
    {
     "data": {
      "text/plain": [
       "0.8610671936758892"
      ]
     },
     "execution_count": 217,
     "metadata": {},
     "output_type": "execute_result"
    }
   ],
   "source": [
    "gnb_model = GaussianNB()\n",
    "gnb_model.fit(X=x_train, y=y_train)\n",
    "y_predict = gnb_model.predict(X=x_test)\n",
    "\n",
    "print(\"positive target prediction metrics\")\n",
    "# get_metrics(y_test[y_pos_idx_array], y_predict[y_pos_idx_array], mode=\"show_metrics\")\n",
    "print(\"negative target prediction metrics\")\n",
    "# get_metrics(y_test[y_neg_idx_array], y_predict[y_neg_idx_array], mode=\"show_metrics\")\n",
    "get_metrics(y_test, y_predict, mode=\"show_metrics\")\n",
    "cross_val_score(gnb_model, x, y, cv=10, scoring=\"accuracy\").mean()"
   ]
  },
  {
   "cell_type": "markdown",
   "metadata": {
    "pycharm": {
     "name": "#%% md\n"
    }
   },
   "source": [
    "# Random Forest"
   ]
  },
  {
   "cell_type": "code",
   "execution_count": 218,
   "metadata": {
    "pycharm": {
     "name": "#%%\n"
    }
   },
   "outputs": [
    {
     "name": "stdout",
     "output_type": "stream",
     "text": [
      "positive target prediction metrics\n",
      "negative target prediction metrics\n",
      "accuracy = 0.9649209486166008\n",
      "confusion_matrix = \n",
      "[[1687   55]\n",
      " [  16  266]]\n"
     ]
    },
    {
     "data": {
      "text/plain": [
       "0.9464426877470358"
      ]
     },
     "execution_count": 218,
     "metadata": {},
     "output_type": "execute_result"
    }
   ],
   "source": [
    "from sklearn.ensemble import RandomForestClassifier\n",
    "\n",
    "clf_model = RandomForestClassifier(n_estimators=100)\n",
    "clf_model.fit(X=x_train, y=y_train)\n",
    "y_predict = clf_model.predict(x_test)\n",
    "print(\"positive target prediction metrics\")\n",
    "# get_metrics(y_test[y_pos_idx_array], y_predict[y_pos_idx_array], mode=\"show_metrics\")\n",
    "print(\"negative target prediction metrics\")\n",
    "# get_metrics(y_test[y_neg_idx_array], y_predict[y_neg_idx_array], mode=\"show_metrics\")\n",
    "get_metrics(y_test, y_predict, mode=\"show_metrics\")\n",
    "cross_val_score(clf_model, x, y, cv=10, scoring=\"accuracy\").mean()"
   ]
  },
  {
   "cell_type": "code",
   "execution_count": null,
   "metadata": {
    "pycharm": {
     "name": "#%%\n"
    }
   },
   "outputs": [],
   "source": []
  },
  {
   "cell_type": "markdown",
   "metadata": {
    "pycharm": {
     "name": "#%% md\n"
    }
   },
   "source": [
    "# tune Random Forest algorithm parameters"
   ]
  },
  {
   "cell_type": "code",
   "execution_count": 2,
   "metadata": {
    "pycharm": {
     "name": "#%%\n"
    }
   },
   "outputs": [
    {
     "ename": "NameError",
     "evalue": "name 'clf_model' is not defined",
     "output_type": "error",
     "traceback": [
      "\u001B[1;31m---------------------------------------------------------------------------\u001B[0m",
      "\u001B[1;31mNameError\u001B[0m                                 Traceback (most recent call last)",
      "\u001B[1;32m<ipython-input-2-aeadaeaf40f2>\u001B[0m in \u001B[0;36m<module>\u001B[1;34m\u001B[0m\n\u001B[0;32m      6\u001B[0m param_grid = dict(n_estimators=n_estimators, max_features=max_features,\n\u001B[0;32m      7\u001B[0m                   max_depth=max_depth, bootstrap=bootstrap)\n\u001B[1;32m----> 8\u001B[1;33m grid_search = GridSearchCV(clf_model, param_grid=param_grid,\n\u001B[0m\u001B[0;32m      9\u001B[0m                            scoring=\"accuracy\", cv=10)\n\u001B[0;32m     10\u001B[0m \u001B[0mgrid_search\u001B[0m\u001B[1;33m.\u001B[0m\u001B[0mfit\u001B[0m\u001B[1;33m(\u001B[0m\u001B[0mX\u001B[0m\u001B[1;33m=\u001B[0m\u001B[0mx\u001B[0m\u001B[1;33m,\u001B[0m \u001B[0my\u001B[0m\u001B[1;33m=\u001B[0m\u001B[0my\u001B[0m\u001B[1;33m)\u001B[0m\u001B[1;33m\u001B[0m\u001B[1;33m\u001B[0m\u001B[0m\n",
      "\u001B[1;31mNameError\u001B[0m: name 'clf_model' is not defined"
     ]
    }
   ],
   "source": [
    "from sklearn.model_selection import GridSearchCV\n",
    "n_estimators = list(range(90, 140 + 10, 10))\n",
    "max_features = [\"auto\", \"sqrt\"]\n",
    "max_depth = [6, 8, 10]\n",
    "bootstrap = [True, False]\n",
    "param_grid = dict(n_estimators=n_estimators, max_features=max_features,\n",
    "                  max_depth=max_depth, bootstrap=bootstrap)\n",
    "grid_search = GridSearchCV(clf_model, param_grid=param_grid,\n",
    "                           scoring=\"accuracy\", cv=10)\n",
    "grid_search.fit(X=x, y=y)\n",
    "clf_model_best_params = grid_search.best_params_"
   ]
  },
  {
   "cell_type": "code",
   "execution_count": 223,
   "metadata": {
    "pycharm": {
     "name": "#%%\n"
    }
   },
   "outputs": [
    {
     "data": {
      "text/plain": [
       "{'bootstrap': False,\n",
       " 'max_depth': 12,\n",
       " 'max_features': 'sqrt',\n",
       " 'n_estimators': 100}"
      ]
     },
     "execution_count": 223,
     "metadata": {},
     "output_type": "execute_result"
    }
   ],
   "source": [
    "clf_model_best_params"
   ]
  },
  {
   "cell_type": "code",
   "execution_count": 224,
   "metadata": {
    "pycharm": {
     "name": "#%%\n"
    }
   },
   "outputs": [
    {
     "data": {
      "text/plain": [
       "0.9467391304347824"
      ]
     },
     "execution_count": 224,
     "metadata": {},
     "output_type": "execute_result"
    }
   ],
   "source": [
    "clf_model = RandomForestClassifier(**clf_model_best_params)\n",
    "cross_val_score(clf_model, x, y, cv=10, scoring=\"accuracy\").mean()"
   ]
  },
  {
   "cell_type": "markdown",
   "metadata": {
    "pycharm": {
     "name": "#%% md\n"
    }
   },
   "source": [
    "# Support Vector Machine algorithm"
   ]
  },
  {
   "cell_type": "code",
   "execution_count": 221,
   "metadata": {
    "pycharm": {
     "name": "#%%\n"
    }
   },
   "outputs": [
    {
     "name": "stdout",
     "output_type": "stream",
     "text": [
      "accuracy = 0.9115612648221344\n",
      "confusion_matrix = \n",
      "[[1654  130]\n",
      " [  49  191]]\n"
     ]
    },
    {
     "data": {
      "text/plain": [
       "0.8809288537549407"
      ]
     },
     "execution_count": 221,
     "metadata": {},
     "output_type": "execute_result"
    }
   ],
   "source": [
    "from sklearn import svm\n",
    "svm_svc_model = svm.SVC(kernel=\"linear\")\n",
    "svm_svc_model.fit(X=x_train, y=y_train)\n",
    "y_predict = svm_svc_model.predict(X=x_test)\n",
    "get_metrics(y_test, y_predict, mode=\"show_metrics\")\n",
    "cross_val_score(svm_svc_model, x, y, cv=10, scoring=\"accuracy\").mean()"
   ]
  },
  {
   "cell_type": "code",
   "execution_count": null,
   "metadata": {
    "pycharm": {
     "name": "#%%\n"
    }
   },
   "outputs": [],
   "source": []
  },
  {
   "cell_type": "markdown",
   "metadata": {
    "pycharm": {
     "name": "#%% md\n"
    }
   },
   "source": [
    "# K-nearest neighbor algorithm"
   ]
  },
  {
   "cell_type": "code",
   "execution_count": 222,
   "metadata": {
    "pycharm": {
     "name": "#%%\n"
    }
   },
   "outputs": [
    {
     "name": "stdout",
     "output_type": "stream",
     "text": [
      "positive target prediction metrics\n",
      "negative target prediction metrics\n",
      "accuracy = 0.9041501976284585\n",
      "confusion_matrix = \n",
      "[[1662  153]\n",
      " [  41  168]]\n"
     ]
    },
    {
     "data": {
      "text/plain": [
       "0.899308300395257"
      ]
     },
     "execution_count": 222,
     "metadata": {},
     "output_type": "execute_result"
    }
   ],
   "source": [
    "from sklearn.neighbors import KNeighborsClassifier\n",
    "\n",
    "neigh_model = KNeighborsClassifier()\n",
    "neigh_model.fit(X=x_train, y=y_train)\n",
    "y_predict = neigh_model.predict(X=x_test)\n",
    "print(\"positive target prediction metrics\")\n",
    "# get_metrics(y_test[y_pos_idx_array], y_predict[y_pos_idx_array], mode=\"show_metrics\")\n",
    "print(\"negative target prediction metrics\")\n",
    "# get_metrics(y_test[y_neg_idx_array], y_predict[y_neg_idx_array], mode=\"show_metrics\")\n",
    "get_metrics(y_test, y_predict, mode=\"show_metrics\")\n",
    "cross_val_score(neigh_model, x, y, cv=10, scoring=\"accuracy\").mean()"
   ]
  },
  {
   "cell_type": "markdown",
   "metadata": {
    "pycharm": {
     "name": "#%% md\n"
    }
   },
   "source": [
    "# tune K-nearest neighbor algorithm parameters"
   ]
  },
  {
   "cell_type": "code",
   "execution_count": 59,
   "metadata": {
    "pycharm": {
     "name": "#%%\n"
    }
   },
   "outputs": [
    {
     "name": "stdout",
     "output_type": "stream",
     "text": [
      "{1: 0.7935770750988143, 2: 0.7312252964426877, 3: 0.8303359683794467, 4: 0.8113636363636365, 5: 0.8419960474308301, 6: 0.8328063241106719, 7: 0.8464426877470356, 8: 0.8424901185770752, 9: 0.8477272727272727, 10: 0.8460474308300394, 11: 0.8484189723320158, 12: 0.8464426877470356, 13: 0.8484189723320158, 14: 0.8471343873517787, 15: 0.8480237154150198, 16: 0.8461462450592885, 17: 0.8467391304347827, 18: 0.8463438735177865, 19: 0.8457509881422924, 20: 0.8464426877470356, 21: 0.8466403162055336, 22: 0.8465415019762844, 23: 0.8443675889328063, 24: 0.8452569169960474, 25: 0.8446640316205534, 26: 0.8457509881422924, 27: 0.8441699604743084, 28: 0.8441699604743083, 29: 0.8434782608695652, 30: 0.842885375494071}\n"
     ]
    }
   ],
   "source": [
    "max_k = 30\n",
    "knn_scores = []\n",
    "for k in range(1, max_k + 1):\n",
    "    neigh_model = KNeighborsClassifier(n_neighbors=k)\n",
    "    knn_scores.append(cross_val_score(neigh_model, X=x, y=y, cv=10, scoring=\"accuracy\").mean())\n",
    "\n",
    "print(dict(zip(range(1, max_k + 1), knn_scores)))\n"
   ]
  },
  {
   "cell_type": "code",
   "execution_count": 60,
   "metadata": {
    "pycharm": {
     "name": "#%%\n"
    }
   },
   "outputs": [
    {
     "data": {
      "text/plain": [
       "11"
      ]
     },
     "execution_count": 60,
     "metadata": {},
     "output_type": "execute_result"
    }
   ],
   "source": [
    "best_k = max(zip(range(1, max_k + 1), knn_scores), key=lambda x: x[1])[0]\n",
    "best_k"
   ]
  },
  {
   "cell_type": "code",
   "execution_count": null,
   "metadata": {
    "pycharm": {
     "name": "#%%\n"
    }
   },
   "outputs": [],
   "source": []
  },
  {
   "cell_type": "markdown",
   "metadata": {
    "pycharm": {
     "name": "#%% md\n"
    }
   },
   "source": [
    "GridSearchCV"
   ]
  },
  {
   "cell_type": "code",
   "execution_count": 79,
   "metadata": {
    "pycharm": {
     "name": "#%%\n"
    }
   },
   "outputs": [],
   "source": [
    "from sklearn.model_selection import GridSearchCV\n",
    "k_range = range(1, max_k + 1)\n",
    "weight_options = [\"uniform\", \"distance\"]\n",
    "param_grid = dict(n_neighbors=k_range, weights=weight_options)\n",
    "grid_search = GridSearchCV(estimator=neigh_model, param_grid=param_grid,\n",
    "                    cv=10, scoring=\"accuracy\")\n",
    "grid_search.fit(X=x, y=y)\n",
    "best_params = grid_search.best_params_\n"
   ]
  },
  {
   "cell_type": "code",
   "execution_count": 92,
   "metadata": {
    "pycharm": {
     "name": "#%%\n"
    }
   },
   "outputs": [
    {
     "data": {
      "text/plain": [
       "{'n_neighbors': 13, 'weights': 'distance'}"
      ]
     },
     "execution_count": 92,
     "metadata": {},
     "output_type": "execute_result"
    }
   ],
   "source": [
    "# neigh_model = KNeighborsClassifier(**best_params)\n",
    "# cross_val_score(neigh_model, x, y, cv=10, scoring=\"accuracy\").mean()\n",
    "best_params"
   ]
  },
  {
   "cell_type": "markdown",
   "metadata": {
    "pycharm": {
     "name": "#%% md\n"
    }
   },
   "source": [
    "RandomizedSearchCV"
   ]
  },
  {
   "cell_type": "code",
   "execution_count": 94,
   "metadata": {
    "pycharm": {
     "name": "#%%\n"
    }
   },
   "outputs": [
    {
     "data": {
      "text/plain": [
       "[(0.8487154150197629, {'weights': 'distance', 'n_neighbors': 17}),\n",
       " (0.849802371541502, {'weights': 'distance', 'n_neighbors': 13}),\n",
       " (0.849802371541502, {'weights': 'distance', 'n_neighbors': 13}),\n",
       " (0.8467391304347827, {'weights': 'uniform', 'n_neighbors': 17}),\n",
       " (0.849802371541502, {'weights': 'distance', 'n_neighbors': 13}),\n",
       " (0.8484189723320158, {'weights': 'distance', 'n_neighbors': 18}),\n",
       " (0.8463438735177865, {'weights': 'uniform', 'n_neighbors': 18}),\n",
       " (0.8485177865612649, {'weights': 'distance', 'n_neighbors': 21}),\n",
       " (0.8485177865612649, {'weights': 'distance', 'n_neighbors': 21}),\n",
       " (0.8457509881422924, {'weights': 'uniform', 'n_neighbors': 26})]"
      ]
     },
     "execution_count": 94,
     "metadata": {},
     "output_type": "execute_result"
    }
   ],
   "source": [
    "from sklearn.model_selection import RandomizedSearchCV\n",
    "\n",
    "rand_search = RandomizedSearchCV(estimator=neigh_model, param_distributions=param_grid,\n",
    "                          n_iter=5, scoring=\"accuracy\", cv=10)\n",
    "\n",
    "rand_best_params_list = []\n",
    "for i in range(10):\n",
    "    rand_search.fit(X=x, y=y)\n",
    "    rand_best_params_list.append((rand_search.best_score_, rand_search.best_params_))\n",
    "\n",
    "best_params = max(rand_best_params_list, key=lambda x: x[0])[1][\"n_neighbors\"]"
   ]
  },
  {
   "cell_type": "code",
   "execution_count": 229,
   "metadata": {
    "pycharm": {
     "name": "#%%\n"
    }
   },
   "outputs": [
    {
     "data": {
      "text/html": [
       "<div>\n",
       "<style scoped>\n",
       "    .dataframe tbody tr th:only-of-type {\n",
       "        vertical-align: middle;\n",
       "    }\n",
       "\n",
       "    .dataframe tbody tr th {\n",
       "        vertical-align: top;\n",
       "    }\n",
       "\n",
       "    .dataframe thead th {\n",
       "        text-align: right;\n",
       "    }\n",
       "</style>\n",
       "<table border=\"1\" class=\"dataframe\">\n",
       "  <thead>\n",
       "    <tr style=\"text-align: right;\">\n",
       "      <th></th>\n",
       "      <th>Attrition_Flag</th>\n",
       "      <th>Customer_Age</th>\n",
       "      <th>Gender</th>\n",
       "      <th>Dependent_count</th>\n",
       "      <th>Education_Level</th>\n",
       "      <th>Marital_Status</th>\n",
       "      <th>Income_Category</th>\n",
       "      <th>Card_Category</th>\n",
       "      <th>Months_on_book</th>\n",
       "      <th>Total_Relationship_Count</th>\n",
       "      <th>...</th>\n",
       "      <th>Credit_Limit</th>\n",
       "      <th>Total_Revolving_Bal</th>\n",
       "      <th>Avg_Open_To_Buy</th>\n",
       "      <th>Total_Amt_Chng_Q4_Q1</th>\n",
       "      <th>Total_Trans_Amt</th>\n",
       "      <th>Total_Trans_Ct</th>\n",
       "      <th>Total_Ct_Chng_Q4_Q1</th>\n",
       "      <th>Avg_Utilization_Ratio</th>\n",
       "      <th>Naive_Bayes_Classifier_Attrition_Flag_Card_Category_Contacts_Count_12_mon_Dependent_count_Education_Level_Months_Inactive_12_mon_1</th>\n",
       "      <th>Naive_Bayes_Classifier_Attrition_Flag_Card_Category_Contacts_Count_12_mon_Dependent_count_Education_Level_Months_Inactive_12_mon_2</th>\n",
       "    </tr>\n",
       "  </thead>\n",
       "  <tbody>\n",
       "    <tr>\n",
       "      <th>0</th>\n",
       "      <td>1</td>\n",
       "      <td>-0.165261</td>\n",
       "      <td>1.060261</td>\n",
       "      <td>0.503636</td>\n",
       "      <td>-0.893897</td>\n",
       "      <td>0.522808</td>\n",
       "      <td>0.425471</td>\n",
       "      <td>-0.263546</td>\n",
       "      <td>0.384495</td>\n",
       "      <td>0.763915</td>\n",
       "      <td>...</td>\n",
       "      <td>0.447062</td>\n",
       "      <td>-0.473285</td>\n",
       "      <td>0.489410</td>\n",
       "      <td>2.666758</td>\n",
       "      <td>-0.960392</td>\n",
       "      <td>-0.975049</td>\n",
       "      <td>3.892696</td>\n",
       "      <td>-0.776043</td>\n",
       "      <td>-0.437752</td>\n",
       "      <td>0.437762</td>\n",
       "    </tr>\n",
       "    <tr>\n",
       "      <th>1</th>\n",
       "      <td>1</td>\n",
       "      <td>0.583481</td>\n",
       "      <td>1.060261</td>\n",
       "      <td>0.503636</td>\n",
       "      <td>0.593115</td>\n",
       "      <td>0.522808</td>\n",
       "      <td>1.308928</td>\n",
       "      <td>-0.263546</td>\n",
       "      <td>0.008956</td>\n",
       "      <td>0.120645</td>\n",
       "      <td>...</td>\n",
       "      <td>-0.573420</td>\n",
       "      <td>-1.426735</td>\n",
       "      <td>-0.445377</td>\n",
       "      <td>8.499347</td>\n",
       "      <td>-0.741457</td>\n",
       "      <td>-1.913197</td>\n",
       "      <td>6.910076</td>\n",
       "      <td>-0.997334</td>\n",
       "      <td>-0.437950</td>\n",
       "      <td>0.437953</td>\n",
       "    </tr>\n",
       "    <tr>\n",
       "      <th>2</th>\n",
       "      <td>1</td>\n",
       "      <td>-0.789213</td>\n",
       "      <td>-0.943070</td>\n",
       "      <td>1.273662</td>\n",
       "      <td>-0.893897</td>\n",
       "      <td>0.522808</td>\n",
       "      <td>-0.850632</td>\n",
       "      <td>-0.263546</td>\n",
       "      <td>-0.241404</td>\n",
       "      <td>-0.522625</td>\n",
       "      <td>...</td>\n",
       "      <td>-0.584975</td>\n",
       "      <td>1.661853</td>\n",
       "      <td>-0.733868</td>\n",
       "      <td>2.991048</td>\n",
       "      <td>-0.952436</td>\n",
       "      <td>-1.913197</td>\n",
       "      <td>6.910076</td>\n",
       "      <td>1.759732</td>\n",
       "      <td>-0.437642</td>\n",
       "      <td>0.437652</td>\n",
       "    </tr>\n",
       "    <tr>\n",
       "      <th>3</th>\n",
       "      <td>1</td>\n",
       "      <td>-0.789213</td>\n",
       "      <td>1.060261</td>\n",
       "      <td>0.503636</td>\n",
       "      <td>-1.637403</td>\n",
       "      <td>0.522808</td>\n",
       "      <td>0.425471</td>\n",
       "      <td>-0.263546</td>\n",
       "      <td>-1.868743</td>\n",
       "      <td>0.763915</td>\n",
       "      <td>...</td>\n",
       "      <td>-0.430577</td>\n",
       "      <td>-1.426735</td>\n",
       "      <td>-0.302563</td>\n",
       "      <td>6.558239</td>\n",
       "      <td>-1.057042</td>\n",
       "      <td>-1.572052</td>\n",
       "      <td>7.621803</td>\n",
       "      <td>-0.997334</td>\n",
       "      <td>-0.437949</td>\n",
       "      <td>0.437953</td>\n",
       "    </tr>\n",
       "    <tr>\n",
       "      <th>4</th>\n",
       "      <td>1</td>\n",
       "      <td>-0.290051</td>\n",
       "      <td>1.060261</td>\n",
       "      <td>-0.266389</td>\n",
       "      <td>0.593115</td>\n",
       "      <td>0.522808</td>\n",
       "      <td>-0.163500</td>\n",
       "      <td>-0.263546</td>\n",
       "      <td>0.008956</td>\n",
       "      <td>-0.522625</td>\n",
       "      <td>...</td>\n",
       "      <td>-0.508271</td>\n",
       "      <td>0.103448</td>\n",
       "      <td>-0.517445</td>\n",
       "      <td>2.856699</td>\n",
       "      <td>-0.976893</td>\n",
       "      <td>-1.742625</td>\n",
       "      <td>0.572725</td>\n",
       "      <td>0.130886</td>\n",
       "      <td>-0.437857</td>\n",
       "      <td>0.437844</td>\n",
       "    </tr>\n",
       "    <tr>\n",
       "      <th>...</th>\n",
       "      <td>...</td>\n",
       "      <td>...</td>\n",
       "      <td>...</td>\n",
       "      <td>...</td>\n",
       "      <td>...</td>\n",
       "      <td>...</td>\n",
       "      <td>...</td>\n",
       "      <td>...</td>\n",
       "      <td>...</td>\n",
       "      <td>...</td>\n",
       "      <td>...</td>\n",
       "      <td>...</td>\n",
       "      <td>...</td>\n",
       "      <td>...</td>\n",
       "      <td>...</td>\n",
       "      <td>...</td>\n",
       "      <td>...</td>\n",
       "      <td>...</td>\n",
       "      <td>...</td>\n",
       "      <td>...</td>\n",
       "      <td>...</td>\n",
       "    </tr>\n",
       "    <tr>\n",
       "      <th>10115</th>\n",
       "      <td>1</td>\n",
       "      <td>0.458691</td>\n",
       "      <td>1.060261</td>\n",
       "      <td>-0.266389</td>\n",
       "      <td>0.593115</td>\n",
       "      <td>-1.135236</td>\n",
       "      <td>-0.163500</td>\n",
       "      <td>-0.263546</td>\n",
       "      <td>0.509675</td>\n",
       "      <td>-0.522625</td>\n",
       "      <td>...</td>\n",
       "      <td>-0.509042</td>\n",
       "      <td>0.844611</td>\n",
       "      <td>-0.584671</td>\n",
       "      <td>-0.261119</td>\n",
       "      <td>3.262728</td>\n",
       "      <td>2.223186</td>\n",
       "      <td>0.619605</td>\n",
       "      <td>0.678672</td>\n",
       "      <td>-0.437484</td>\n",
       "      <td>0.437488</td>\n",
       "    </tr>\n",
       "    <tr>\n",
       "      <th>10116</th>\n",
       "      <td>0</td>\n",
       "      <td>-0.664422</td>\n",
       "      <td>1.060261</td>\n",
       "      <td>-0.266389</td>\n",
       "      <td>0.593115</td>\n",
       "      <td>2.180853</td>\n",
       "      <td>-0.163500</td>\n",
       "      <td>-0.263546</td>\n",
       "      <td>-1.368023</td>\n",
       "      <td>0.120645</td>\n",
       "      <td>...</td>\n",
       "      <td>-0.478888</td>\n",
       "      <td>1.255686</td>\n",
       "      <td>-0.591383</td>\n",
       "      <td>0.206786</td>\n",
       "      <td>1.284945</td>\n",
       "      <td>0.176316</td>\n",
       "      <td>-0.121955</td>\n",
       "      <td>0.856430</td>\n",
       "      <td>2.286428</td>\n",
       "      <td>-2.286431</td>\n",
       "    </tr>\n",
       "    <tr>\n",
       "      <th>10117</th>\n",
       "      <td>0</td>\n",
       "      <td>-0.290051</td>\n",
       "      <td>-0.943070</td>\n",
       "      <td>-1.036415</td>\n",
       "      <td>-0.893897</td>\n",
       "      <td>0.522808</td>\n",
       "      <td>-0.850632</td>\n",
       "      <td>-0.263546</td>\n",
       "      <td>0.008956</td>\n",
       "      <td>0.763915</td>\n",
       "      <td>...</td>\n",
       "      <td>-0.354313</td>\n",
       "      <td>-1.426735</td>\n",
       "      <td>-0.226314</td>\n",
       "      <td>0.276276</td>\n",
       "      <td>1.734897</td>\n",
       "      <td>-0.207472</td>\n",
       "      <td>0.453393</td>\n",
       "      <td>-0.997334</td>\n",
       "      <td>2.293573</td>\n",
       "      <td>-2.293577</td>\n",
       "    </tr>\n",
       "    <tr>\n",
       "      <th>10118</th>\n",
       "      <td>0</td>\n",
       "      <td>-2.037116</td>\n",
       "      <td>1.060261</td>\n",
       "      <td>-0.266389</td>\n",
       "      <td>0.593115</td>\n",
       "      <td>0.522808</td>\n",
       "      <td>-0.163500</td>\n",
       "      <td>-0.263546</td>\n",
       "      <td>0.008956</td>\n",
       "      <td>0.120645</td>\n",
       "      <td>...</td>\n",
       "      <td>-0.368399</td>\n",
       "      <td>-1.426735</td>\n",
       "      <td>-0.240398</td>\n",
       "      <td>-1.039415</td>\n",
       "      <td>1.176215</td>\n",
       "      <td>-0.122186</td>\n",
       "      <td>0.044257</td>\n",
       "      <td>-0.997334</td>\n",
       "      <td>2.290370</td>\n",
       "      <td>-2.290360</td>\n",
       "    </tr>\n",
       "    <tr>\n",
       "      <th>10119</th>\n",
       "      <td>0</td>\n",
       "      <td>-0.414842</td>\n",
       "      <td>-0.943070</td>\n",
       "      <td>-0.266389</td>\n",
       "      <td>0.593115</td>\n",
       "      <td>0.522808</td>\n",
       "      <td>-0.850632</td>\n",
       "      <td>3.884336</td>\n",
       "      <td>-1.368023</td>\n",
       "      <td>1.407186</td>\n",
       "      <td>...</td>\n",
       "      <td>0.193620</td>\n",
       "      <td>0.979591</td>\n",
       "      <td>0.105746</td>\n",
       "      <td>-0.261119</td>\n",
       "      <td>1.735781</td>\n",
       "      <td>-0.164829</td>\n",
       "      <td>-0.266857</td>\n",
       "      <td>-0.311695</td>\n",
       "      <td>2.290124</td>\n",
       "      <td>-2.290133</td>\n",
       "    </tr>\n",
       "  </tbody>\n",
       "</table>\n",
       "<p>10120 rows × 22 columns</p>\n",
       "</div>"
      ],
      "text/plain": [
       "       Attrition_Flag  Customer_Age    Gender  Dependent_count  \\\n",
       "0                   1     -0.165261  1.060261         0.503636   \n",
       "1                   1      0.583481  1.060261         0.503636   \n",
       "2                   1     -0.789213 -0.943070         1.273662   \n",
       "3                   1     -0.789213  1.060261         0.503636   \n",
       "4                   1     -0.290051  1.060261        -0.266389   \n",
       "...               ...           ...       ...              ...   \n",
       "10115               1      0.458691  1.060261        -0.266389   \n",
       "10116               0     -0.664422  1.060261        -0.266389   \n",
       "10117               0     -0.290051 -0.943070        -1.036415   \n",
       "10118               0     -2.037116  1.060261        -0.266389   \n",
       "10119               0     -0.414842 -0.943070        -0.266389   \n",
       "\n",
       "       Education_Level  Marital_Status  Income_Category  Card_Category  \\\n",
       "0            -0.893897        0.522808         0.425471      -0.263546   \n",
       "1             0.593115        0.522808         1.308928      -0.263546   \n",
       "2            -0.893897        0.522808        -0.850632      -0.263546   \n",
       "3            -1.637403        0.522808         0.425471      -0.263546   \n",
       "4             0.593115        0.522808        -0.163500      -0.263546   \n",
       "...                ...             ...              ...            ...   \n",
       "10115         0.593115       -1.135236        -0.163500      -0.263546   \n",
       "10116         0.593115        2.180853        -0.163500      -0.263546   \n",
       "10117        -0.893897        0.522808        -0.850632      -0.263546   \n",
       "10118         0.593115        0.522808        -0.163500      -0.263546   \n",
       "10119         0.593115        0.522808        -0.850632       3.884336   \n",
       "\n",
       "       Months_on_book  Total_Relationship_Count  ...  Credit_Limit  \\\n",
       "0            0.384495                  0.763915  ...      0.447062   \n",
       "1            0.008956                  0.120645  ...     -0.573420   \n",
       "2           -0.241404                 -0.522625  ...     -0.584975   \n",
       "3           -1.868743                  0.763915  ...     -0.430577   \n",
       "4            0.008956                 -0.522625  ...     -0.508271   \n",
       "...               ...                       ...  ...           ...   \n",
       "10115        0.509675                 -0.522625  ...     -0.509042   \n",
       "10116       -1.368023                  0.120645  ...     -0.478888   \n",
       "10117        0.008956                  0.763915  ...     -0.354313   \n",
       "10118        0.008956                  0.120645  ...     -0.368399   \n",
       "10119       -1.368023                  1.407186  ...      0.193620   \n",
       "\n",
       "       Total_Revolving_Bal  Avg_Open_To_Buy  Total_Amt_Chng_Q4_Q1  \\\n",
       "0                -0.473285         0.489410              2.666758   \n",
       "1                -1.426735        -0.445377              8.499347   \n",
       "2                 1.661853        -0.733868              2.991048   \n",
       "3                -1.426735        -0.302563              6.558239   \n",
       "4                 0.103448        -0.517445              2.856699   \n",
       "...                    ...              ...                   ...   \n",
       "10115             0.844611        -0.584671             -0.261119   \n",
       "10116             1.255686        -0.591383              0.206786   \n",
       "10117            -1.426735        -0.226314              0.276276   \n",
       "10118            -1.426735        -0.240398             -1.039415   \n",
       "10119             0.979591         0.105746             -0.261119   \n",
       "\n",
       "       Total_Trans_Amt  Total_Trans_Ct  Total_Ct_Chng_Q4_Q1  \\\n",
       "0            -0.960392       -0.975049             3.892696   \n",
       "1            -0.741457       -1.913197             6.910076   \n",
       "2            -0.952436       -1.913197             6.910076   \n",
       "3            -1.057042       -1.572052             7.621803   \n",
       "4            -0.976893       -1.742625             0.572725   \n",
       "...                ...             ...                  ...   \n",
       "10115         3.262728        2.223186             0.619605   \n",
       "10116         1.284945        0.176316            -0.121955   \n",
       "10117         1.734897       -0.207472             0.453393   \n",
       "10118         1.176215       -0.122186             0.044257   \n",
       "10119         1.735781       -0.164829            -0.266857   \n",
       "\n",
       "       Avg_Utilization_Ratio  \\\n",
       "0                  -0.776043   \n",
       "1                  -0.997334   \n",
       "2                   1.759732   \n",
       "3                  -0.997334   \n",
       "4                   0.130886   \n",
       "...                      ...   \n",
       "10115               0.678672   \n",
       "10116               0.856430   \n",
       "10117              -0.997334   \n",
       "10118              -0.997334   \n",
       "10119              -0.311695   \n",
       "\n",
       "       Naive_Bayes_Classifier_Attrition_Flag_Card_Category_Contacts_Count_12_mon_Dependent_count_Education_Level_Months_Inactive_12_mon_1  \\\n",
       "0                                              -0.437752                                                                                    \n",
       "1                                              -0.437950                                                                                    \n",
       "2                                              -0.437642                                                                                    \n",
       "3                                              -0.437949                                                                                    \n",
       "4                                              -0.437857                                                                                    \n",
       "...                                                  ...                                                                                    \n",
       "10115                                          -0.437484                                                                                    \n",
       "10116                                           2.286428                                                                                    \n",
       "10117                                           2.293573                                                                                    \n",
       "10118                                           2.290370                                                                                    \n",
       "10119                                           2.290124                                                                                    \n",
       "\n",
       "       Naive_Bayes_Classifier_Attrition_Flag_Card_Category_Contacts_Count_12_mon_Dependent_count_Education_Level_Months_Inactive_12_mon_2  \n",
       "0                                               0.437762                                                                                   \n",
       "1                                               0.437953                                                                                   \n",
       "2                                               0.437652                                                                                   \n",
       "3                                               0.437953                                                                                   \n",
       "4                                               0.437844                                                                                   \n",
       "...                                                  ...                                                                                   \n",
       "10115                                           0.437488                                                                                   \n",
       "10116                                          -2.286431                                                                                   \n",
       "10117                                          -2.293577                                                                                   \n",
       "10118                                          -2.290360                                                                                   \n",
       "10119                                          -2.290133                                                                                   \n",
       "\n",
       "[10120 rows x 22 columns]"
      ]
     },
     "execution_count": 229,
     "metadata": {},
     "output_type": "execute_result"
    }
   ],
   "source": []
  },
  {
   "cell_type": "code",
   "execution_count": null,
   "metadata": {
    "pycharm": {
     "name": "#%%\n"
    }
   },
   "outputs": [],
   "source": []
  }
 ],
 "metadata": {
  "kernelspec": {
   "display_name": "Python 3",
   "language": "python",
   "name": "python3"
  },
  "language_info": {
   "codemirror_mode": {
    "name": "ipython",
    "version": 3
   },
   "file_extension": ".py",
   "mimetype": "text/x-python",
   "name": "python",
   "nbconvert_exporter": "python",
   "pygments_lexer": "ipython3",
   "version": "3.8.1"
  }
 },
 "nbformat": 4,
 "nbformat_minor": 1
}