{
 "cells": [
  {
   "cell_type": "code",
   "execution_count": null,
   "metadata": {
    "collapsed": true
   },
   "outputs": [],
   "source": []
  },
  {
   "cell_type": "code",
   "execution_count": 41,
   "outputs": [],
   "source": [
    "import numpy as np\n",
    "\n",
    "\n",
    "import pandas as pd\n",
    "\n",
    "# from sklearn import neighbors, metrics\n",
    "\n",
    "from sklearn.model_selection import train_test_split\n",
    "\n",
    "\n",
    "from collections import Counter\n",
    "\n",
    "from sklearn.naive_bayes import GaussianNB\n",
    "\n",
    "from sklearn.model_selection import cross_val_score\n",
    "from sklearn.ensemble import RandomForestClassifier\n",
    "from sklearn.neighbors import KNeighborsClassifier\n",
    "import time"
   ],
   "metadata": {
    "collapsed": false,
    "pycharm": {
     "name": "#%%\n"
    }
   }
  },
  {
   "cell_type": "markdown",
   "source": [
    "# functions"
   ],
   "metadata": {
    "collapsed": false
   }
  },
  {
   "cell_type": "code",
   "execution_count": 42,
   "outputs": [],
   "source": [
    "def get_metrics(targets: np.ndarray, predicted_targets: np.ndarray, mode: str):\n",
    "    '''\n",
    "\n",
    "    :param targets:\n",
    "    :param predicted_targets:\n",
    "    :param mode: influence to return: mode = \"show_metrics\" - print metrics to the Console;\n",
    "                                        mode = \"return_metrics\" - return dict which consists all metrics values\n",
    "                                        with their names as keys\n",
    "    :return:\n",
    "    {\n",
    "    \"accuracy\": accuracy_value, \"precision\": precision_value,\n",
    "    \"recall\": recall_value, \"f1_score\": f1_score_value,\n",
    "    \"confusion_matrix\": confusion_matrix\n",
    "    }\n",
    "    '''\n",
    "    # token = (actual target, predicted target)\n",
    "    # 1 - positive target, 0 - negative target\n",
    "    tokens = [(j, i) for i in [1, 0] for j in [1, 0]]\n",
    "    # tokens = [true_pos_token,\n",
    "    #           false_pos_token,\n",
    "    #           false_neg_token,\n",
    "    #           true_neg_token]\n",
    "    c = Counter(zip(targets, predicted_targets))\n",
    "    [true_pos_value,\n",
    "     false_pos_value,\n",
    "     false_neg_value,\n",
    "     true_neg_value] = [c[token] for token in tokens]\n",
    "    accuracy = (true_neg_value + true_pos_value) / len(targets)\n",
    "    confusion_matrix = np.array([[true_pos_value, false_pos_value],\n",
    "                                 [false_neg_value, true_neg_value]])\n",
    "    precision = true_pos_value / (true_pos_value + false_pos_value)\n",
    "    recall = true_pos_value / (true_pos_value + false_neg_value)\n",
    "    f1_score = 2 * precision * recall / (precision + recall)\n",
    "    if mode == \"show_metrics\":\n",
    "        print(f\"accuracy = {accuracy}\")\n",
    "        print(f\"confusion_matrix = \\n{confusion_matrix}\")\n",
    "        print(f\"precision = {precision}\")\n",
    "        print(f\"recall = {recall}\")\n",
    "        print(f\"f1_score = {f1_score}\")\n",
    "    elif mode == \"return_metrics\":\n",
    "        res_dict = {\"accuracy\": accuracy, \"confusion_matrix\": confusion_matrix,\n",
    "                    \"f1_score\": f1_score}\n",
    "        return res_dict"
   ],
   "metadata": {
    "collapsed": false,
    "pycharm": {
     "name": "#%%\n"
    }
   }
  },
  {
   "cell_type": "code",
   "execution_count": 4,
   "outputs": [
    {
     "data": {
      "text/plain": "       CLIENTNUM     Attrition_Flag  Customer_Age Gender  Dependent_count  \\\n0      768805383  Existing Customer            45      M                3   \n1      818770008  Existing Customer            49      F                5   \n2      713982108  Existing Customer            51      M                3   \n3      769911858  Existing Customer            40      F                4   \n4      709106358  Existing Customer            40      M                3   \n...          ...                ...           ...    ...              ...   \n10122  772366833  Existing Customer            50      M                2   \n10123  710638233  Attrited Customer            41      M                2   \n10124  716506083  Attrited Customer            44      F                1   \n10125  717406983  Attrited Customer            30      M                2   \n10126  714337233  Attrited Customer            43      F                2   \n\n      Education_Level Marital_Status Income_Category Card_Category  \\\n0         High School        Married     $60K - $80K          Blue   \n1            Graduate         Single  Less than $40K          Blue   \n2            Graduate        Married    $80K - $120K          Blue   \n3         High School        Unknown  Less than $40K          Blue   \n4          Uneducated        Married     $60K - $80K          Blue   \n...               ...            ...             ...           ...   \n10122        Graduate         Single     $40K - $60K          Blue   \n10123         Unknown       Divorced     $40K - $60K          Blue   \n10124     High School        Married  Less than $40K          Blue   \n10125        Graduate        Unknown     $40K - $60K          Blue   \n10126        Graduate        Married  Less than $40K        Silver   \n\n       Months_on_book  ...  Credit_Limit  Total_Revolving_Bal  \\\n0                  39  ...       12691.0                  777   \n1                  44  ...        8256.0                  864   \n2                  36  ...        3418.0                    0   \n3                  34  ...        3313.0                 2517   \n4                  21  ...        4716.0                    0   \n...               ...  ...           ...                  ...   \n10122              40  ...        4003.0                 1851   \n10123              25  ...        4277.0                 2186   \n10124              36  ...        5409.0                    0   \n10125              36  ...        5281.0                    0   \n10126              25  ...       10388.0                 1961   \n\n       Avg_Open_To_Buy  Total_Amt_Chng_Q4_Q1  Total_Trans_Amt  Total_Trans_Ct  \\\n0              11914.0                 1.335             1144              42   \n1               7392.0                 1.541             1291              33   \n2               3418.0                 2.594             1887              20   \n3                796.0                 1.405             1171              20   \n4               4716.0                 2.175              816              28   \n...                ...                   ...              ...             ...   \n10122           2152.0                 0.703            15476             117   \n10123           2091.0                 0.804             8764              69   \n10124           5409.0                 0.819            10291              60   \n10125           5281.0                 0.535             8395              62   \n10126           8427.0                 0.703            10294              61   \n\n       Total_Ct_Chng_Q4_Q1  Avg_Utilization_Ratio  \\\n0                    1.625                  0.061   \n1                    3.714                  0.105   \n2                    2.333                  0.000   \n3                    2.333                  0.760   \n4                    2.500                  0.000   \n...                    ...                    ...   \n10122                0.857                  0.462   \n10123                0.683                  0.511   \n10124                0.818                  0.000   \n10125                0.722                  0.000   \n10126                0.649                  0.189   \n\n       Naive_Bayes_Classifier_Attrition_Flag_Card_Category_Contacts_Count_12_mon_Dependent_count_Education_Level_Months_Inactive_12_mon_1  \\\n0                                               0.000093                                                                                    \n1                                               0.000057                                                                                    \n2                                               0.000021                                                                                    \n3                                               0.000134                                                                                    \n4                                               0.000022                                                                                    \n...                                                  ...                                                                                    \n10122                                           0.000191                                                                                    \n10123                                           0.995270                                                                                    \n10124                                           0.997880                                                                                    \n10125                                           0.996710                                                                                    \n10126                                           0.996620                                                                                    \n\n       Naive_Bayes_Classifier_Attrition_Flag_Card_Category_Contacts_Count_12_mon_Dependent_count_Education_Level_Months_Inactive_12_mon_2  \n0                                               0.999910                                                                                   \n1                                               0.999940                                                                                   \n2                                               0.999980                                                                                   \n3                                               0.999870                                                                                   \n4                                               0.999980                                                                                   \n...                                                  ...                                                                                   \n10122                                           0.999810                                                                                   \n10123                                           0.004729                                                                                   \n10124                                           0.002118                                                                                   \n10125                                           0.003294                                                                                   \n10126                                           0.003377                                                                                   \n\n[10127 rows x 23 columns]",
      "text/html": "<div>\n<style scoped>\n    .dataframe tbody tr th:only-of-type {\n        vertical-align: middle;\n    }\n\n    .dataframe tbody tr th {\n        vertical-align: top;\n    }\n\n    .dataframe thead th {\n        text-align: right;\n    }\n</style>\n<table border=\"1\" class=\"dataframe\">\n  <thead>\n    <tr style=\"text-align: right;\">\n      <th></th>\n      <th>CLIENTNUM</th>\n      <th>Attrition_Flag</th>\n      <th>Customer_Age</th>\n      <th>Gender</th>\n      <th>Dependent_count</th>\n      <th>Education_Level</th>\n      <th>Marital_Status</th>\n      <th>Income_Category</th>\n      <th>Card_Category</th>\n      <th>Months_on_book</th>\n      <th>...</th>\n      <th>Credit_Limit</th>\n      <th>Total_Revolving_Bal</th>\n      <th>Avg_Open_To_Buy</th>\n      <th>Total_Amt_Chng_Q4_Q1</th>\n      <th>Total_Trans_Amt</th>\n      <th>Total_Trans_Ct</th>\n      <th>Total_Ct_Chng_Q4_Q1</th>\n      <th>Avg_Utilization_Ratio</th>\n      <th>Naive_Bayes_Classifier_Attrition_Flag_Card_Category_Contacts_Count_12_mon_Dependent_count_Education_Level_Months_Inactive_12_mon_1</th>\n      <th>Naive_Bayes_Classifier_Attrition_Flag_Card_Category_Contacts_Count_12_mon_Dependent_count_Education_Level_Months_Inactive_12_mon_2</th>\n    </tr>\n  </thead>\n  <tbody>\n    <tr>\n      <th>0</th>\n      <td>768805383</td>\n      <td>Existing Customer</td>\n      <td>45</td>\n      <td>M</td>\n      <td>3</td>\n      <td>High School</td>\n      <td>Married</td>\n      <td>$60K - $80K</td>\n      <td>Blue</td>\n      <td>39</td>\n      <td>...</td>\n      <td>12691.0</td>\n      <td>777</td>\n      <td>11914.0</td>\n      <td>1.335</td>\n      <td>1144</td>\n      <td>42</td>\n      <td>1.625</td>\n      <td>0.061</td>\n      <td>0.000093</td>\n      <td>0.999910</td>\n    </tr>\n    <tr>\n      <th>1</th>\n      <td>818770008</td>\n      <td>Existing Customer</td>\n      <td>49</td>\n      <td>F</td>\n      <td>5</td>\n      <td>Graduate</td>\n      <td>Single</td>\n      <td>Less than $40K</td>\n      <td>Blue</td>\n      <td>44</td>\n      <td>...</td>\n      <td>8256.0</td>\n      <td>864</td>\n      <td>7392.0</td>\n      <td>1.541</td>\n      <td>1291</td>\n      <td>33</td>\n      <td>3.714</td>\n      <td>0.105</td>\n      <td>0.000057</td>\n      <td>0.999940</td>\n    </tr>\n    <tr>\n      <th>2</th>\n      <td>713982108</td>\n      <td>Existing Customer</td>\n      <td>51</td>\n      <td>M</td>\n      <td>3</td>\n      <td>Graduate</td>\n      <td>Married</td>\n      <td>$80K - $120K</td>\n      <td>Blue</td>\n      <td>36</td>\n      <td>...</td>\n      <td>3418.0</td>\n      <td>0</td>\n      <td>3418.0</td>\n      <td>2.594</td>\n      <td>1887</td>\n      <td>20</td>\n      <td>2.333</td>\n      <td>0.000</td>\n      <td>0.000021</td>\n      <td>0.999980</td>\n    </tr>\n    <tr>\n      <th>3</th>\n      <td>769911858</td>\n      <td>Existing Customer</td>\n      <td>40</td>\n      <td>F</td>\n      <td>4</td>\n      <td>High School</td>\n      <td>Unknown</td>\n      <td>Less than $40K</td>\n      <td>Blue</td>\n      <td>34</td>\n      <td>...</td>\n      <td>3313.0</td>\n      <td>2517</td>\n      <td>796.0</td>\n      <td>1.405</td>\n      <td>1171</td>\n      <td>20</td>\n      <td>2.333</td>\n      <td>0.760</td>\n      <td>0.000134</td>\n      <td>0.999870</td>\n    </tr>\n    <tr>\n      <th>4</th>\n      <td>709106358</td>\n      <td>Existing Customer</td>\n      <td>40</td>\n      <td>M</td>\n      <td>3</td>\n      <td>Uneducated</td>\n      <td>Married</td>\n      <td>$60K - $80K</td>\n      <td>Blue</td>\n      <td>21</td>\n      <td>...</td>\n      <td>4716.0</td>\n      <td>0</td>\n      <td>4716.0</td>\n      <td>2.175</td>\n      <td>816</td>\n      <td>28</td>\n      <td>2.500</td>\n      <td>0.000</td>\n      <td>0.000022</td>\n      <td>0.999980</td>\n    </tr>\n    <tr>\n      <th>...</th>\n      <td>...</td>\n      <td>...</td>\n      <td>...</td>\n      <td>...</td>\n      <td>...</td>\n      <td>...</td>\n      <td>...</td>\n      <td>...</td>\n      <td>...</td>\n      <td>...</td>\n      <td>...</td>\n      <td>...</td>\n      <td>...</td>\n      <td>...</td>\n      <td>...</td>\n      <td>...</td>\n      <td>...</td>\n      <td>...</td>\n      <td>...</td>\n      <td>...</td>\n      <td>...</td>\n    </tr>\n    <tr>\n      <th>10122</th>\n      <td>772366833</td>\n      <td>Existing Customer</td>\n      <td>50</td>\n      <td>M</td>\n      <td>2</td>\n      <td>Graduate</td>\n      <td>Single</td>\n      <td>$40K - $60K</td>\n      <td>Blue</td>\n      <td>40</td>\n      <td>...</td>\n      <td>4003.0</td>\n      <td>1851</td>\n      <td>2152.0</td>\n      <td>0.703</td>\n      <td>15476</td>\n      <td>117</td>\n      <td>0.857</td>\n      <td>0.462</td>\n      <td>0.000191</td>\n      <td>0.999810</td>\n    </tr>\n    <tr>\n      <th>10123</th>\n      <td>710638233</td>\n      <td>Attrited Customer</td>\n      <td>41</td>\n      <td>M</td>\n      <td>2</td>\n      <td>Unknown</td>\n      <td>Divorced</td>\n      <td>$40K - $60K</td>\n      <td>Blue</td>\n      <td>25</td>\n      <td>...</td>\n      <td>4277.0</td>\n      <td>2186</td>\n      <td>2091.0</td>\n      <td>0.804</td>\n      <td>8764</td>\n      <td>69</td>\n      <td>0.683</td>\n      <td>0.511</td>\n      <td>0.995270</td>\n      <td>0.004729</td>\n    </tr>\n    <tr>\n      <th>10124</th>\n      <td>716506083</td>\n      <td>Attrited Customer</td>\n      <td>44</td>\n      <td>F</td>\n      <td>1</td>\n      <td>High School</td>\n      <td>Married</td>\n      <td>Less than $40K</td>\n      <td>Blue</td>\n      <td>36</td>\n      <td>...</td>\n      <td>5409.0</td>\n      <td>0</td>\n      <td>5409.0</td>\n      <td>0.819</td>\n      <td>10291</td>\n      <td>60</td>\n      <td>0.818</td>\n      <td>0.000</td>\n      <td>0.997880</td>\n      <td>0.002118</td>\n    </tr>\n    <tr>\n      <th>10125</th>\n      <td>717406983</td>\n      <td>Attrited Customer</td>\n      <td>30</td>\n      <td>M</td>\n      <td>2</td>\n      <td>Graduate</td>\n      <td>Unknown</td>\n      <td>$40K - $60K</td>\n      <td>Blue</td>\n      <td>36</td>\n      <td>...</td>\n      <td>5281.0</td>\n      <td>0</td>\n      <td>5281.0</td>\n      <td>0.535</td>\n      <td>8395</td>\n      <td>62</td>\n      <td>0.722</td>\n      <td>0.000</td>\n      <td>0.996710</td>\n      <td>0.003294</td>\n    </tr>\n    <tr>\n      <th>10126</th>\n      <td>714337233</td>\n      <td>Attrited Customer</td>\n      <td>43</td>\n      <td>F</td>\n      <td>2</td>\n      <td>Graduate</td>\n      <td>Married</td>\n      <td>Less than $40K</td>\n      <td>Silver</td>\n      <td>25</td>\n      <td>...</td>\n      <td>10388.0</td>\n      <td>1961</td>\n      <td>8427.0</td>\n      <td>0.703</td>\n      <td>10294</td>\n      <td>61</td>\n      <td>0.649</td>\n      <td>0.189</td>\n      <td>0.996620</td>\n      <td>0.003377</td>\n    </tr>\n  </tbody>\n</table>\n<p>10127 rows × 23 columns</p>\n</div>"
     },
     "execution_count": 4,
     "metadata": {},
     "output_type": "execute_result"
    }
   ],
   "source": [
    "pd.read_csv(\"BankChurners.csv\")"
   ],
   "metadata": {
    "collapsed": false,
    "pycharm": {
     "name": "#%%\n"
    }
   }
  },
  {
   "cell_type": "markdown",
   "source": [
    "# metrics using not normalized data"
   ],
   "metadata": {
    "collapsed": false,
    "pycharm": {
     "name": "#%% md\n"
    }
   }
  },
  {
   "cell_type": "code",
   "execution_count": 43,
   "outputs": [
    {
     "data": {
      "text/plain": "       Attrition_Flag  Customer_Age  Gender  Dependent_count  Education_Level  \\\n0                   0            45       1                3              2.0   \n1                   0            51       1                3              4.0   \n2                   0            40       0                4              2.0   \n3                   0            40       1                3              1.0   \n4                   0            44       1                2              4.0   \n...               ...           ...     ...              ...              ...   \n10115               0            50       1                2              4.0   \n10116               1            41       1                2              4.0   \n10117               1            44       0                1              2.0   \n10118               1            30       1                2              4.0   \n10119               1            43       0                2              4.0   \n\n       Marital_Status  Income_Category  Card_Category  Months_on_book  \\\n0                 2.0        70.000000              1              39   \n1                 2.0       100.000000              1              36   \n2                 2.0        26.666667              1              34   \n3                 2.0        70.000000              1              21   \n4                 2.0        50.000000              1              36   \n...               ...              ...            ...             ...   \n10115             1.0        50.000000              1              40   \n10116             3.0        50.000000              1              25   \n10117             2.0        26.666667              1              36   \n10118             2.0        50.000000              1              36   \n10119             2.0        26.666667              3              25   \n\n       Total_Relationship_Count  ...  Credit_Limit  Total_Revolving_Bal  \\\n0                             5  ...       12691.0                  777   \n1                             4  ...        3418.0                    0   \n2                             3  ...        3313.0                 2517   \n3                             5  ...        4716.0                    0   \n4                             3  ...        4010.0                 1247   \n...                         ...  ...           ...                  ...   \n10115                         3  ...        4003.0                 1851   \n10116                         4  ...        4277.0                 2186   \n10117                         5  ...        5409.0                    0   \n10118                         4  ...        5281.0                    0   \n10119                         6  ...       10388.0                 1961   \n\n       Avg_Open_To_Buy  Total_Amt_Chng_Q4_Q1  Total_Trans_Amt  Total_Trans_Ct  \\\n0              11914.0                 1.335             1144              42   \n1               3418.0                 2.594             1887              20   \n2                796.0                 1.405             1171              20   \n3               4716.0                 2.175              816              28   \n4               2763.0                 1.376             1088              24   \n...                ...                   ...              ...             ...   \n10115           2152.0                 0.703            15476             117   \n10116           2091.0                 0.804             8764              69   \n10117           5409.0                 0.819            10291              60   \n10118           5281.0                 0.535             8395              62   \n10119           8427.0                 0.703            10294              61   \n\n       Total_Ct_Chng_Q4_Q1  Avg_Utilization_Ratio  \\\n0                    1.625                  0.061   \n1                    2.333                  0.000   \n2                    2.333                  0.760   \n3                    2.500                  0.000   \n4                    0.846                  0.311   \n...                    ...                    ...   \n10115                0.857                  0.462   \n10116                0.683                  0.511   \n10117                0.818                  0.000   \n10118                0.722                  0.000   \n10119                0.649                  0.189   \n\n       Naive_Bayes_Classifier_Attrition_Flag_Card_Category_Contacts_Count_12_mon_Dependent_count_Education_Level_Months_Inactive_12_mon_1  \\\n0                                               0.000093                                                                                    \n1                                               0.000021                                                                                    \n2                                               0.000134                                                                                    \n3                                               0.000022                                                                                    \n4                                               0.000055                                                                                    \n...                                                  ...                                                                                    \n10115                                           0.000191                                                                                    \n10116                                           0.995270                                                                                    \n10117                                           0.997880                                                                                    \n10118                                           0.996710                                                                                    \n10119                                           0.996620                                                                                    \n\n       Naive_Bayes_Classifier_Attrition_Flag_Card_Category_Contacts_Count_12_mon_Dependent_count_Education_Level_Months_Inactive_12_mon_2  \n0                                               0.999910                                                                                   \n1                                               0.999980                                                                                   \n2                                               0.999870                                                                                   \n3                                               0.999980                                                                                   \n4                                               0.999940                                                                                   \n...                                                  ...                                                                                   \n10115                                           0.999810                                                                                   \n10116                                           0.004729                                                                                   \n10117                                           0.002118                                                                                   \n10118                                           0.003294                                                                                   \n10119                                           0.003377                                                                                   \n\n[10120 rows x 22 columns]",
      "text/html": "<div>\n<style scoped>\n    .dataframe tbody tr th:only-of-type {\n        vertical-align: middle;\n    }\n\n    .dataframe tbody tr th {\n        vertical-align: top;\n    }\n\n    .dataframe thead th {\n        text-align: right;\n    }\n</style>\n<table border=\"1\" class=\"dataframe\">\n  <thead>\n    <tr style=\"text-align: right;\">\n      <th></th>\n      <th>Attrition_Flag</th>\n      <th>Customer_Age</th>\n      <th>Gender</th>\n      <th>Dependent_count</th>\n      <th>Education_Level</th>\n      <th>Marital_Status</th>\n      <th>Income_Category</th>\n      <th>Card_Category</th>\n      <th>Months_on_book</th>\n      <th>Total_Relationship_Count</th>\n      <th>...</th>\n      <th>Credit_Limit</th>\n      <th>Total_Revolving_Bal</th>\n      <th>Avg_Open_To_Buy</th>\n      <th>Total_Amt_Chng_Q4_Q1</th>\n      <th>Total_Trans_Amt</th>\n      <th>Total_Trans_Ct</th>\n      <th>Total_Ct_Chng_Q4_Q1</th>\n      <th>Avg_Utilization_Ratio</th>\n      <th>Naive_Bayes_Classifier_Attrition_Flag_Card_Category_Contacts_Count_12_mon_Dependent_count_Education_Level_Months_Inactive_12_mon_1</th>\n      <th>Naive_Bayes_Classifier_Attrition_Flag_Card_Category_Contacts_Count_12_mon_Dependent_count_Education_Level_Months_Inactive_12_mon_2</th>\n    </tr>\n  </thead>\n  <tbody>\n    <tr>\n      <th>0</th>\n      <td>0</td>\n      <td>45</td>\n      <td>1</td>\n      <td>3</td>\n      <td>2.0</td>\n      <td>2.0</td>\n      <td>70.000000</td>\n      <td>1</td>\n      <td>39</td>\n      <td>5</td>\n      <td>...</td>\n      <td>12691.0</td>\n      <td>777</td>\n      <td>11914.0</td>\n      <td>1.335</td>\n      <td>1144</td>\n      <td>42</td>\n      <td>1.625</td>\n      <td>0.061</td>\n      <td>0.000093</td>\n      <td>0.999910</td>\n    </tr>\n    <tr>\n      <th>1</th>\n      <td>0</td>\n      <td>51</td>\n      <td>1</td>\n      <td>3</td>\n      <td>4.0</td>\n      <td>2.0</td>\n      <td>100.000000</td>\n      <td>1</td>\n      <td>36</td>\n      <td>4</td>\n      <td>...</td>\n      <td>3418.0</td>\n      <td>0</td>\n      <td>3418.0</td>\n      <td>2.594</td>\n      <td>1887</td>\n      <td>20</td>\n      <td>2.333</td>\n      <td>0.000</td>\n      <td>0.000021</td>\n      <td>0.999980</td>\n    </tr>\n    <tr>\n      <th>2</th>\n      <td>0</td>\n      <td>40</td>\n      <td>0</td>\n      <td>4</td>\n      <td>2.0</td>\n      <td>2.0</td>\n      <td>26.666667</td>\n      <td>1</td>\n      <td>34</td>\n      <td>3</td>\n      <td>...</td>\n      <td>3313.0</td>\n      <td>2517</td>\n      <td>796.0</td>\n      <td>1.405</td>\n      <td>1171</td>\n      <td>20</td>\n      <td>2.333</td>\n      <td>0.760</td>\n      <td>0.000134</td>\n      <td>0.999870</td>\n    </tr>\n    <tr>\n      <th>3</th>\n      <td>0</td>\n      <td>40</td>\n      <td>1</td>\n      <td>3</td>\n      <td>1.0</td>\n      <td>2.0</td>\n      <td>70.000000</td>\n      <td>1</td>\n      <td>21</td>\n      <td>5</td>\n      <td>...</td>\n      <td>4716.0</td>\n      <td>0</td>\n      <td>4716.0</td>\n      <td>2.175</td>\n      <td>816</td>\n      <td>28</td>\n      <td>2.500</td>\n      <td>0.000</td>\n      <td>0.000022</td>\n      <td>0.999980</td>\n    </tr>\n    <tr>\n      <th>4</th>\n      <td>0</td>\n      <td>44</td>\n      <td>1</td>\n      <td>2</td>\n      <td>4.0</td>\n      <td>2.0</td>\n      <td>50.000000</td>\n      <td>1</td>\n      <td>36</td>\n      <td>3</td>\n      <td>...</td>\n      <td>4010.0</td>\n      <td>1247</td>\n      <td>2763.0</td>\n      <td>1.376</td>\n      <td>1088</td>\n      <td>24</td>\n      <td>0.846</td>\n      <td>0.311</td>\n      <td>0.000055</td>\n      <td>0.999940</td>\n    </tr>\n    <tr>\n      <th>...</th>\n      <td>...</td>\n      <td>...</td>\n      <td>...</td>\n      <td>...</td>\n      <td>...</td>\n      <td>...</td>\n      <td>...</td>\n      <td>...</td>\n      <td>...</td>\n      <td>...</td>\n      <td>...</td>\n      <td>...</td>\n      <td>...</td>\n      <td>...</td>\n      <td>...</td>\n      <td>...</td>\n      <td>...</td>\n      <td>...</td>\n      <td>...</td>\n      <td>...</td>\n      <td>...</td>\n    </tr>\n    <tr>\n      <th>10115</th>\n      <td>0</td>\n      <td>50</td>\n      <td>1</td>\n      <td>2</td>\n      <td>4.0</td>\n      <td>1.0</td>\n      <td>50.000000</td>\n      <td>1</td>\n      <td>40</td>\n      <td>3</td>\n      <td>...</td>\n      <td>4003.0</td>\n      <td>1851</td>\n      <td>2152.0</td>\n      <td>0.703</td>\n      <td>15476</td>\n      <td>117</td>\n      <td>0.857</td>\n      <td>0.462</td>\n      <td>0.000191</td>\n      <td>0.999810</td>\n    </tr>\n    <tr>\n      <th>10116</th>\n      <td>1</td>\n      <td>41</td>\n      <td>1</td>\n      <td>2</td>\n      <td>4.0</td>\n      <td>3.0</td>\n      <td>50.000000</td>\n      <td>1</td>\n      <td>25</td>\n      <td>4</td>\n      <td>...</td>\n      <td>4277.0</td>\n      <td>2186</td>\n      <td>2091.0</td>\n      <td>0.804</td>\n      <td>8764</td>\n      <td>69</td>\n      <td>0.683</td>\n      <td>0.511</td>\n      <td>0.995270</td>\n      <td>0.004729</td>\n    </tr>\n    <tr>\n      <th>10117</th>\n      <td>1</td>\n      <td>44</td>\n      <td>0</td>\n      <td>1</td>\n      <td>2.0</td>\n      <td>2.0</td>\n      <td>26.666667</td>\n      <td>1</td>\n      <td>36</td>\n      <td>5</td>\n      <td>...</td>\n      <td>5409.0</td>\n      <td>0</td>\n      <td>5409.0</td>\n      <td>0.819</td>\n      <td>10291</td>\n      <td>60</td>\n      <td>0.818</td>\n      <td>0.000</td>\n      <td>0.997880</td>\n      <td>0.002118</td>\n    </tr>\n    <tr>\n      <th>10118</th>\n      <td>1</td>\n      <td>30</td>\n      <td>1</td>\n      <td>2</td>\n      <td>4.0</td>\n      <td>2.0</td>\n      <td>50.000000</td>\n      <td>1</td>\n      <td>36</td>\n      <td>4</td>\n      <td>...</td>\n      <td>5281.0</td>\n      <td>0</td>\n      <td>5281.0</td>\n      <td>0.535</td>\n      <td>8395</td>\n      <td>62</td>\n      <td>0.722</td>\n      <td>0.000</td>\n      <td>0.996710</td>\n      <td>0.003294</td>\n    </tr>\n    <tr>\n      <th>10119</th>\n      <td>1</td>\n      <td>43</td>\n      <td>0</td>\n      <td>2</td>\n      <td>4.0</td>\n      <td>2.0</td>\n      <td>26.666667</td>\n      <td>3</td>\n      <td>25</td>\n      <td>6</td>\n      <td>...</td>\n      <td>10388.0</td>\n      <td>1961</td>\n      <td>8427.0</td>\n      <td>0.703</td>\n      <td>10294</td>\n      <td>61</td>\n      <td>0.649</td>\n      <td>0.189</td>\n      <td>0.996620</td>\n      <td>0.003377</td>\n    </tr>\n  </tbody>\n</table>\n<p>10120 rows × 22 columns</p>\n</div>"
     },
     "execution_count": 43,
     "metadata": {},
     "output_type": "execute_result"
    }
   ],
   "source": [
    "preproc_not_normalized_data = pd.read_csv(\"pre-processing_BankChurners_not_normalized.csv\")\n",
    "preproc_not_normalized_data"
   ],
   "metadata": {
    "collapsed": false,
    "pycharm": {
     "name": "#%%\n"
    }
   }
  },
  {
   "cell_type": "code",
   "execution_count": 8,
   "outputs": [
    {
     "name": "stdout",
     "output_type": "stream",
     "text": [
      "model: GaussianNB : \n",
      "f1-score: 0.5347711618670622 : \n",
      "5 folds cross-validation time elapsed : 0.03901314735412598\n",
      " : accuracy : 0.8451581027667985\n",
      "model: RandomForestClassifier : \n",
      "f1-score: 0.6777624537273202 : \n",
      "5 folds cross-validation time elapsed : 5.229551792144775\n",
      " : accuracy : 0.9234189723320159\n",
      "model: KNeighborsClassifier : \n",
      "f1-score: 0.4903925805486895 : \n",
      "5 folds cross-validation time elapsed : 1.608734130859375\n",
      " : accuracy : 0.8610671936758895\n"
     ]
    }
   ],
   "source": [
    "x = preproc_not_normalized_data.drop([\"Attrition_Flag\",\n",
    "                       \"Naive_Bayes_Classifier_Attrition_Flag_Card_Category_Contacts_Count_12_mon_Dependent_count_Education_Level_Months_Inactive_12_mon_1\",\n",
    "                       \"Naive_Bayes_Classifier_Attrition_Flag_Card_Category_Contacts_Count_12_mon_Dependent_count_Education_Level_Months_Inactive_12_mon_2\"\n",
    "                       ], axis=1).values\n",
    "y = preproc_not_normalized_data[\"Attrition_Flag\"].values\n",
    "\n",
    "raw_models = {\"GaussianNB\": GaussianNB(),\n",
    "              \"RandomForestClassifier\": RandomForestClassifier(),\n",
    "              \"KNeighborsClassifier\": KNeighborsClassifier()}\n",
    "print(\"metrics using not normalized data\")\n",
    "for model in raw_models.items():\n",
    "    t0 = time.time()\n",
    "    print(f\"model: {model[0]} : \\n\"\n",
    "          f\"f1-score: {cross_val_score(model[1], X=x, y=y, cv=5, scoring='f1').mean()} : \\n\"\n",
    "          f\"5 folds cross-validation time elapsed : {time.time() - t0} : \\n\"\n",
    "          f\"accuracy : {cross_val_score(model[1], X=x, y=y, cv=5, scoring='accuracy').mean()}\\n\")"
   ],
   "metadata": {
    "collapsed": false,
    "pycharm": {
     "name": "#%%\n"
    }
   }
  },
  {
   "cell_type": "markdown",
   "source": [
    "# metrics using normalized data"
   ],
   "metadata": {
    "collapsed": false,
    "pycharm": {
     "name": "#%% md\n"
    }
   }
  },
  {
   "cell_type": "code",
   "execution_count": 10,
   "outputs": [
    {
     "data": {
      "text/plain": "       Attrition_Flag  Customer_Age    Gender  Dependent_count  \\\n0                   0     -0.165261  1.060261         0.503636   \n1                   0      0.583481  1.060261         0.503636   \n2                   0     -0.789213 -0.943070         1.273662   \n3                   0     -0.789213  1.060261         0.503636   \n4                   0     -0.290051  1.060261        -0.266389   \n...               ...           ...       ...              ...   \n10115               0      0.458691  1.060261        -0.266389   \n10116               1     -0.664422  1.060261        -0.266389   \n10117               1     -0.290051 -0.943070        -1.036415   \n10118               1     -2.037116  1.060261        -0.266389   \n10119               1     -0.414842 -0.943070        -0.266389   \n\n       Education_Level  Marital_Status  Income_Category  Card_Category  \\\n0            -0.893897        0.522808         0.425471      -0.263546   \n1             0.593115        0.522808         1.308928      -0.263546   \n2            -0.893897        0.522808        -0.850632      -0.263546   \n3            -1.637403        0.522808         0.425471      -0.263546   \n4             0.593115        0.522808        -0.163500      -0.263546   \n...                ...             ...              ...            ...   \n10115         0.593115       -1.135236        -0.163500      -0.263546   \n10116         0.593115        2.180853        -0.163500      -0.263546   \n10117        -0.893897        0.522808        -0.850632      -0.263546   \n10118         0.593115        0.522808        -0.163500      -0.263546   \n10119         0.593115        0.522808        -0.850632       3.884336   \n\n       Months_on_book  Total_Relationship_Count  ...  Credit_Limit  \\\n0            0.384495                  0.763915  ...      0.447062   \n1            0.008956                  0.120645  ...     -0.573420   \n2           -0.241404                 -0.522625  ...     -0.584975   \n3           -1.868743                  0.763915  ...     -0.430577   \n4            0.008956                 -0.522625  ...     -0.508271   \n...               ...                       ...  ...           ...   \n10115        0.509675                 -0.522625  ...     -0.509042   \n10116       -1.368023                  0.120645  ...     -0.478888   \n10117        0.008956                  0.763915  ...     -0.354313   \n10118        0.008956                  0.120645  ...     -0.368399   \n10119       -1.368023                  1.407186  ...      0.193620   \n\n       Total_Revolving_Bal  Avg_Open_To_Buy  Total_Amt_Chng_Q4_Q1  \\\n0                -0.473285         0.489410              2.666758   \n1                -1.426735        -0.445377              8.499347   \n2                 1.661853        -0.733868              2.991048   \n3                -1.426735        -0.302563              6.558239   \n4                 0.103448        -0.517445              2.856699   \n...                    ...              ...                   ...   \n10115             0.844611        -0.584671             -0.261119   \n10116             1.255686        -0.591383              0.206786   \n10117            -1.426735        -0.226314              0.276276   \n10118            -1.426735        -0.240398             -1.039415   \n10119             0.979591         0.105746             -0.261119   \n\n       Total_Trans_Amt  Total_Trans_Ct  Total_Ct_Chng_Q4_Q1  \\\n0            -0.960392       -0.975049             3.892696   \n1            -0.741457       -1.913197             6.910076   \n2            -0.952436       -1.913197             6.910076   \n3            -1.057042       -1.572052             7.621803   \n4            -0.976893       -1.742625             0.572725   \n...                ...             ...                  ...   \n10115         3.262728        2.223186             0.619605   \n10116         1.284945        0.176316            -0.121955   \n10117         1.734897       -0.207472             0.453393   \n10118         1.176215       -0.122186             0.044257   \n10119         1.735781       -0.164829            -0.266857   \n\n       Avg_Utilization_Ratio  \\\n0                  -0.776043   \n1                  -0.997334   \n2                   1.759732   \n3                  -0.997334   \n4                   0.130886   \n...                      ...   \n10115               0.678672   \n10116               0.856430   \n10117              -0.997334   \n10118              -0.997334   \n10119              -0.311695   \n\n       Naive_Bayes_Classifier_Attrition_Flag_Card_Category_Contacts_Count_12_mon_Dependent_count_Education_Level_Months_Inactive_12_mon_1  \\\n0                                              -0.437752                                                                                    \n1                                              -0.437950                                                                                    \n2                                              -0.437642                                                                                    \n3                                              -0.437949                                                                                    \n4                                              -0.437857                                                                                    \n...                                                  ...                                                                                    \n10115                                          -0.437484                                                                                    \n10116                                           2.286428                                                                                    \n10117                                           2.293573                                                                                    \n10118                                           2.290370                                                                                    \n10119                                           2.290124                                                                                    \n\n       Naive_Bayes_Classifier_Attrition_Flag_Card_Category_Contacts_Count_12_mon_Dependent_count_Education_Level_Months_Inactive_12_mon_2  \n0                                               0.437762                                                                                   \n1                                               0.437953                                                                                   \n2                                               0.437652                                                                                   \n3                                               0.437953                                                                                   \n4                                               0.437844                                                                                   \n...                                                  ...                                                                                   \n10115                                           0.437488                                                                                   \n10116                                          -2.286431                                                                                   \n10117                                          -2.293577                                                                                   \n10118                                          -2.290360                                                                                   \n10119                                          -2.290133                                                                                   \n\n[10120 rows x 22 columns]",
      "text/html": "<div>\n<style scoped>\n    .dataframe tbody tr th:only-of-type {\n        vertical-align: middle;\n    }\n\n    .dataframe tbody tr th {\n        vertical-align: top;\n    }\n\n    .dataframe thead th {\n        text-align: right;\n    }\n</style>\n<table border=\"1\" class=\"dataframe\">\n  <thead>\n    <tr style=\"text-align: right;\">\n      <th></th>\n      <th>Attrition_Flag</th>\n      <th>Customer_Age</th>\n      <th>Gender</th>\n      <th>Dependent_count</th>\n      <th>Education_Level</th>\n      <th>Marital_Status</th>\n      <th>Income_Category</th>\n      <th>Card_Category</th>\n      <th>Months_on_book</th>\n      <th>Total_Relationship_Count</th>\n      <th>...</th>\n      <th>Credit_Limit</th>\n      <th>Total_Revolving_Bal</th>\n      <th>Avg_Open_To_Buy</th>\n      <th>Total_Amt_Chng_Q4_Q1</th>\n      <th>Total_Trans_Amt</th>\n      <th>Total_Trans_Ct</th>\n      <th>Total_Ct_Chng_Q4_Q1</th>\n      <th>Avg_Utilization_Ratio</th>\n      <th>Naive_Bayes_Classifier_Attrition_Flag_Card_Category_Contacts_Count_12_mon_Dependent_count_Education_Level_Months_Inactive_12_mon_1</th>\n      <th>Naive_Bayes_Classifier_Attrition_Flag_Card_Category_Contacts_Count_12_mon_Dependent_count_Education_Level_Months_Inactive_12_mon_2</th>\n    </tr>\n  </thead>\n  <tbody>\n    <tr>\n      <th>0</th>\n      <td>0</td>\n      <td>-0.165261</td>\n      <td>1.060261</td>\n      <td>0.503636</td>\n      <td>-0.893897</td>\n      <td>0.522808</td>\n      <td>0.425471</td>\n      <td>-0.263546</td>\n      <td>0.384495</td>\n      <td>0.763915</td>\n      <td>...</td>\n      <td>0.447062</td>\n      <td>-0.473285</td>\n      <td>0.489410</td>\n      <td>2.666758</td>\n      <td>-0.960392</td>\n      <td>-0.975049</td>\n      <td>3.892696</td>\n      <td>-0.776043</td>\n      <td>-0.437752</td>\n      <td>0.437762</td>\n    </tr>\n    <tr>\n      <th>1</th>\n      <td>0</td>\n      <td>0.583481</td>\n      <td>1.060261</td>\n      <td>0.503636</td>\n      <td>0.593115</td>\n      <td>0.522808</td>\n      <td>1.308928</td>\n      <td>-0.263546</td>\n      <td>0.008956</td>\n      <td>0.120645</td>\n      <td>...</td>\n      <td>-0.573420</td>\n      <td>-1.426735</td>\n      <td>-0.445377</td>\n      <td>8.499347</td>\n      <td>-0.741457</td>\n      <td>-1.913197</td>\n      <td>6.910076</td>\n      <td>-0.997334</td>\n      <td>-0.437950</td>\n      <td>0.437953</td>\n    </tr>\n    <tr>\n      <th>2</th>\n      <td>0</td>\n      <td>-0.789213</td>\n      <td>-0.943070</td>\n      <td>1.273662</td>\n      <td>-0.893897</td>\n      <td>0.522808</td>\n      <td>-0.850632</td>\n      <td>-0.263546</td>\n      <td>-0.241404</td>\n      <td>-0.522625</td>\n      <td>...</td>\n      <td>-0.584975</td>\n      <td>1.661853</td>\n      <td>-0.733868</td>\n      <td>2.991048</td>\n      <td>-0.952436</td>\n      <td>-1.913197</td>\n      <td>6.910076</td>\n      <td>1.759732</td>\n      <td>-0.437642</td>\n      <td>0.437652</td>\n    </tr>\n    <tr>\n      <th>3</th>\n      <td>0</td>\n      <td>-0.789213</td>\n      <td>1.060261</td>\n      <td>0.503636</td>\n      <td>-1.637403</td>\n      <td>0.522808</td>\n      <td>0.425471</td>\n      <td>-0.263546</td>\n      <td>-1.868743</td>\n      <td>0.763915</td>\n      <td>...</td>\n      <td>-0.430577</td>\n      <td>-1.426735</td>\n      <td>-0.302563</td>\n      <td>6.558239</td>\n      <td>-1.057042</td>\n      <td>-1.572052</td>\n      <td>7.621803</td>\n      <td>-0.997334</td>\n      <td>-0.437949</td>\n      <td>0.437953</td>\n    </tr>\n    <tr>\n      <th>4</th>\n      <td>0</td>\n      <td>-0.290051</td>\n      <td>1.060261</td>\n      <td>-0.266389</td>\n      <td>0.593115</td>\n      <td>0.522808</td>\n      <td>-0.163500</td>\n      <td>-0.263546</td>\n      <td>0.008956</td>\n      <td>-0.522625</td>\n      <td>...</td>\n      <td>-0.508271</td>\n      <td>0.103448</td>\n      <td>-0.517445</td>\n      <td>2.856699</td>\n      <td>-0.976893</td>\n      <td>-1.742625</td>\n      <td>0.572725</td>\n      <td>0.130886</td>\n      <td>-0.437857</td>\n      <td>0.437844</td>\n    </tr>\n    <tr>\n      <th>...</th>\n      <td>...</td>\n      <td>...</td>\n      <td>...</td>\n      <td>...</td>\n      <td>...</td>\n      <td>...</td>\n      <td>...</td>\n      <td>...</td>\n      <td>...</td>\n      <td>...</td>\n      <td>...</td>\n      <td>...</td>\n      <td>...</td>\n      <td>...</td>\n      <td>...</td>\n      <td>...</td>\n      <td>...</td>\n      <td>...</td>\n      <td>...</td>\n      <td>...</td>\n      <td>...</td>\n    </tr>\n    <tr>\n      <th>10115</th>\n      <td>0</td>\n      <td>0.458691</td>\n      <td>1.060261</td>\n      <td>-0.266389</td>\n      <td>0.593115</td>\n      <td>-1.135236</td>\n      <td>-0.163500</td>\n      <td>-0.263546</td>\n      <td>0.509675</td>\n      <td>-0.522625</td>\n      <td>...</td>\n      <td>-0.509042</td>\n      <td>0.844611</td>\n      <td>-0.584671</td>\n      <td>-0.261119</td>\n      <td>3.262728</td>\n      <td>2.223186</td>\n      <td>0.619605</td>\n      <td>0.678672</td>\n      <td>-0.437484</td>\n      <td>0.437488</td>\n    </tr>\n    <tr>\n      <th>10116</th>\n      <td>1</td>\n      <td>-0.664422</td>\n      <td>1.060261</td>\n      <td>-0.266389</td>\n      <td>0.593115</td>\n      <td>2.180853</td>\n      <td>-0.163500</td>\n      <td>-0.263546</td>\n      <td>-1.368023</td>\n      <td>0.120645</td>\n      <td>...</td>\n      <td>-0.478888</td>\n      <td>1.255686</td>\n      <td>-0.591383</td>\n      <td>0.206786</td>\n      <td>1.284945</td>\n      <td>0.176316</td>\n      <td>-0.121955</td>\n      <td>0.856430</td>\n      <td>2.286428</td>\n      <td>-2.286431</td>\n    </tr>\n    <tr>\n      <th>10117</th>\n      <td>1</td>\n      <td>-0.290051</td>\n      <td>-0.943070</td>\n      <td>-1.036415</td>\n      <td>-0.893897</td>\n      <td>0.522808</td>\n      <td>-0.850632</td>\n      <td>-0.263546</td>\n      <td>0.008956</td>\n      <td>0.763915</td>\n      <td>...</td>\n      <td>-0.354313</td>\n      <td>-1.426735</td>\n      <td>-0.226314</td>\n      <td>0.276276</td>\n      <td>1.734897</td>\n      <td>-0.207472</td>\n      <td>0.453393</td>\n      <td>-0.997334</td>\n      <td>2.293573</td>\n      <td>-2.293577</td>\n    </tr>\n    <tr>\n      <th>10118</th>\n      <td>1</td>\n      <td>-2.037116</td>\n      <td>1.060261</td>\n      <td>-0.266389</td>\n      <td>0.593115</td>\n      <td>0.522808</td>\n      <td>-0.163500</td>\n      <td>-0.263546</td>\n      <td>0.008956</td>\n      <td>0.120645</td>\n      <td>...</td>\n      <td>-0.368399</td>\n      <td>-1.426735</td>\n      <td>-0.240398</td>\n      <td>-1.039415</td>\n      <td>1.176215</td>\n      <td>-0.122186</td>\n      <td>0.044257</td>\n      <td>-0.997334</td>\n      <td>2.290370</td>\n      <td>-2.290360</td>\n    </tr>\n    <tr>\n      <th>10119</th>\n      <td>1</td>\n      <td>-0.414842</td>\n      <td>-0.943070</td>\n      <td>-0.266389</td>\n      <td>0.593115</td>\n      <td>0.522808</td>\n      <td>-0.850632</td>\n      <td>3.884336</td>\n      <td>-1.368023</td>\n      <td>1.407186</td>\n      <td>...</td>\n      <td>0.193620</td>\n      <td>0.979591</td>\n      <td>0.105746</td>\n      <td>-0.261119</td>\n      <td>1.735781</td>\n      <td>-0.164829</td>\n      <td>-0.266857</td>\n      <td>-0.311695</td>\n      <td>2.290124</td>\n      <td>-2.290133</td>\n    </tr>\n  </tbody>\n</table>\n<p>10120 rows × 22 columns</p>\n</div>"
     },
     "execution_count": 10,
     "metadata": {},
     "output_type": "execute_result"
    }
   ],
   "source": [
    "preproc_data = pd.read_csv(\"pre-processing_BankChurners.csv\")\n",
    "preproc_data"
   ],
   "metadata": {
    "collapsed": false,
    "pycharm": {
     "name": "#%%\n"
    }
   }
  },
  {
   "cell_type": "code",
   "execution_count": 39,
   "outputs": [
    {
     "name": "stdout",
     "output_type": "stream",
     "text": [
      "metrics using normalized data\n",
      "model: GaussianNB : \n",
      "f1-score: 0.5252172377780926 : \n",
      "5 folds cross-validation time elapsed : 0.03270459175109863 : \n",
      "accuracy : 0.8281620553359685\n",
      "\n",
      "model: RandomForestClassifier : \n",
      "f1-score: 0.6851329307648933 : \n",
      "5 folds cross-validation time elapsed : 5.39909553527832 : \n",
      "accuracy : 0.9268774703557312\n",
      "\n",
      "model: KNeighborsClassifier : \n",
      "f1-score: 0.576086087824387 : \n",
      "5 folds cross-validation time elapsed : 1.6423041820526123 : \n",
      "accuracy : 0.8941699604743082\n",
      "\n"
     ]
    }
   ],
   "source": [
    "x = preproc_data.drop([\"Attrition_Flag\",\n",
    "                       \"Naive_Bayes_Classifier_Attrition_Flag_Card_Category_Contacts_Count_12_mon_Dependent_count_Education_Level_Months_Inactive_12_mon_1\",\n",
    "                       \"Naive_Bayes_Classifier_Attrition_Flag_Card_Category_Contacts_Count_12_mon_Dependent_count_Education_Level_Months_Inactive_12_mon_2\"\n",
    "                       ], axis=1).values\n",
    "y = preproc_data[\"Attrition_Flag\"].values\n",
    "\n",
    "print(\"metrics using normalized data\")\n",
    "for model in raw_models.items():\n",
    "    t0 = time.time()\n",
    "    print(f\"model: {model[0]} : \\n\"\n",
    "          f\"f1-score: {cross_val_score(model[1], X=x, y=y, cv=5, scoring='f1').mean()} : \\n\"\n",
    "          f\"5 folds cross-validation time elapsed : {time.time() - t0} : \\n\"\n",
    "          f\"accuracy : {cross_val_score(model[1], X=x, y=y, cv=5, scoring='accuracy').mean()}\\n\")\n"
   ],
   "metadata": {
    "collapsed": false,
    "pycharm": {
     "name": "#%%\n"
    }
   }
  },
  {
   "cell_type": "markdown",
   "source": [
    "# metrics(second type) using normalized data"
   ],
   "metadata": {
    "collapsed": false
   }
  },
  {
   "cell_type": "code",
   "execution_count": 40,
   "outputs": [
    {
     "name": "stdout",
     "output_type": "stream",
     "text": [
      "model: RandomForestClassifier training time = 0.9877898693084717\n",
      "model: RandomForestClassifier : \n",
      "f1-score: 0.8568329718004338 : \n",
      "accuracy : 0.9565217391304348\n",
      "\n",
      "model: KNeighborsClassifier training time = 0.0009975433349609375\n",
      "model: KNeighborsClassifier : \n",
      "f1-score: 0.6257668711656442 : \n",
      "accuracy : 0.8995388669301713\n",
      "\n",
      "model: GaussianNB training time = 0.003988027572631836\n",
      "model: GaussianNB : \n",
      "f1-score: 0.6504065040650406 : \n",
      "accuracy : 0.8866930171277997\n",
      "\n"
     ]
    }
   ],
   "source": [
    "x_train, x_test, y_train, y_test = train_test_split(x, y, test_size=0.3, random_state=0)\n",
    "models = {\"RandomForestClassifier\": RandomForestClassifier(),\n",
    "          \"KNeighborsClassifier\": KNeighborsClassifier()}\n",
    "models[\"GaussianNB\"] = GaussianNB()\n",
    "\n",
    "for model in models.items():\n",
    "    t0 = time.time()\n",
    "    model[1].fit(x_train, y_train)\n",
    "    print(f\"model: {model[0]} training time = {time.time() - t0}\")\n",
    "    predicted_y = model[1].predict(x_test)\n",
    "    metrics = get_metrics(targets=y_test, predicted_targets=predicted_y, mode='return_metrics')\n",
    "    print(f\"model: {model[0]} : \\n\"\n",
    "          f\"f1-score: {metrics['f1_score']} : \\n\"\n",
    "          f\"accuracy : {metrics['accuracy']}\\n\")"
   ],
   "metadata": {
    "collapsed": false,
    "pycharm": {
     "name": "#%%\n"
    }
   }
  },
  {
   "cell_type": "markdown",
   "source": [
    "# metrics using best params"
   ],
   "metadata": {
    "collapsed": false,
    "pycharm": {
     "name": "#%% md\n"
    }
   }
  },
  {
   "cell_type": "code",
   "execution_count": 15,
   "outputs": [
    {
     "name": "stdout",
     "output_type": "stream",
     "text": [
      "metrics using best params\n",
      "model: RandomForestClassifier : \n",
      "f1-score: 0.661319564497672 : \n",
      "5 folds cross-validation time elapsed : 7.26559042930603 : \n",
      "accuracy : 0.918379446640316\n",
      "\n",
      "model: KNeighborsClassifier : \n",
      "f1-score: 0.5768115363620983 : \n",
      "5 folds cross-validation time elapsed : 1.4112370014190674 : \n",
      "accuracy : 0.8897233201581027\n",
      "\n"
     ]
    }
   ],
   "source": [
    "models = {\"RandomForestClassifier\": RandomForestClassifier(\n",
    "    **{'bootstrap': False,\n",
    " 'max_depth': 10,\n",
    " 'max_features': 'sqrt',\n",
    " 'n_estimators': 110}\n",
    "),\n",
    "          \"KNeighborsClassifier\": KNeighborsClassifier(\n",
    "              **{'n_neighbors': 4, 'weights': 'distance'}\n",
    "          )}\n",
    "\n",
    "print(\"metrics using best params\")\n",
    "for model in models.items():\n",
    "    t0 = time.time()\n",
    "    print(f\"model: {model[0]} : \\n\"\n",
    "          f\"f1-score: {cross_val_score(model[1], X=x, y=y, cv=5, scoring='f1').mean()} : \\n\"\n",
    "          f\"5 folds cross-validation time elapsed : {time.time() - t0} : \\n\"\n",
    "          f\"accuracy : {cross_val_score(model[1], X=x, y=y, cv=5, scoring='accuracy').mean()}\\n\")"
   ],
   "metadata": {
    "collapsed": false,
    "pycharm": {
     "name": "#%%\n"
    }
   }
  },
  {
   "cell_type": "markdown",
   "source": [
    "# metrics after feature selection with Pair Correlation"
   ],
   "metadata": {
    "collapsed": false,
    "pycharm": {
     "name": "#%% md\n"
    }
   }
  },
  {
   "cell_type": "code",
   "execution_count": 17,
   "outputs": [],
   "source": [
    "trash_features = ['Months_on_book',\n",
    " 'Gender',\n",
    " 'Credit_Limit',\n",
    " 'Total_Revolving_Bal',\n",
    " 'Total_Trans_Ct']"
   ],
   "metadata": {
    "collapsed": false,
    "pycharm": {
     "name": "#%%\n"
    }
   }
  },
  {
   "cell_type": "code",
   "execution_count": 21,
   "outputs": [
    {
     "name": "stdout",
     "output_type": "stream",
     "text": [
      "metrics using normalized data\n",
      "model: RandomForestClassifier : \n",
      "f1-score: 0.5894415700322361 : \n",
      "5 folds cross-validation time elapsed : 5.650761842727661 : \n",
      "accuracy : 0.8983201581027668\n",
      "\n",
      "model: KNeighborsClassifier : \n",
      "f1-score: 0.4468251171026364 : \n",
      "5 folds cross-validation time elapsed : 2.224774122238159 : \n",
      "accuracy : 0.8634387351778656\n",
      "\n"
     ]
    }
   ],
   "source": [
    "x = preproc_data.drop([\"Attrition_Flag\",\n",
    "                       \"Naive_Bayes_Classifier_Attrition_Flag_Card_Category_Contacts_Count_12_mon_Dependent_count_Education_Level_Months_Inactive_12_mon_1\",\n",
    "                       \"Naive_Bayes_Classifier_Attrition_Flag_Card_Category_Contacts_Count_12_mon_Dependent_count_Education_Level_Months_Inactive_12_mon_2\"\n",
    "                       ] + trash_features, axis=1).values\n",
    "y = preproc_data[\"Attrition_Flag\"].values\n",
    "\n",
    "print(\"metrics using normalized data\")\n",
    "for model in models.items():\n",
    "    t0 = time.time()\n",
    "    print(f\"model: {model[0]} : \\n\"\n",
    "          f\"f1-score: {cross_val_score(model[1], X=x, y=y, cv=5, scoring='f1').mean()} : \\n\"\n",
    "          f\"5 folds cross-validation time elapsed : {time.time() - t0} : \\n\"\n",
    "          f\"accuracy : {cross_val_score(model[1], X=x, y=y, cv=5, scoring='accuracy').mean()}\\n\")"
   ],
   "metadata": {
    "collapsed": false,
    "pycharm": {
     "name": "#%%\n"
    }
   }
  },
  {
   "cell_type": "markdown",
   "source": [
    "# metrics after feature selection with SelectKBest(k=8)"
   ],
   "metadata": {
    "collapsed": false,
    "pycharm": {
     "name": "#%% md\n"
    }
   }
  },
  {
   "cell_type": "code",
   "execution_count": 23,
   "outputs": [],
   "source": [
    "trash_features = ['Avg_Open_To_Buy', 'Card_Category', 'Credit_Limit', 'Customer_Age',\n",
    "       'Dependent_count', 'Education_Level', 'Gender', 'Income_Category',\n",
    "       'Marital_Status', 'Months_on_book']"
   ],
   "metadata": {
    "collapsed": false,
    "pycharm": {
     "name": "#%%\n"
    }
   }
  },
  {
   "cell_type": "code",
   "execution_count": 27,
   "outputs": [
    {
     "name": "stdout",
     "output_type": "stream",
     "text": [
      "metrics using normalized data\n",
      "model: RandomForestClassifier : \n",
      "f1-score: 0.6498263621418523 : \n",
      "5 folds cross-validation time elapsed : 6.638484954833984 : \n",
      "accuracy : 0.9146245059288537\n",
      "\n",
      "model: KNeighborsClassifier : \n",
      "f1-score: 0.6269448883026133 : \n",
      "5 folds cross-validation time elapsed : 0.735985517501831 : \n",
      "accuracy : 0.8963438735177865\n",
      "\n"
     ]
    }
   ],
   "source": [
    "x = preproc_data.drop([\"Attrition_Flag\",\n",
    "                       \"Naive_Bayes_Classifier_Attrition_Flag_Card_Category_Contacts_Count_12_mon_Dependent_count_Education_Level_Months_Inactive_12_mon_1\",\n",
    "                       \"Naive_Bayes_Classifier_Attrition_Flag_Card_Category_Contacts_Count_12_mon_Dependent_count_Education_Level_Months_Inactive_12_mon_2\"\n",
    "                       ] + trash_features, axis=1).values\n",
    "y = preproc_data[\"Attrition_Flag\"].values\n",
    "\n",
    "print(\"metrics using normalized data\")\n",
    "for model in models.items():\n",
    "    t0 = time.time()\n",
    "    print(f\"model: {model[0]} : \\n\"\n",
    "          f\"f1-score: {cross_val_score(model[1], X=x, y=y, cv=5, scoring='f1').mean()} : \\n\"\n",
    "          f\"5 folds cross-validation time elapsed : {time.time() - t0} : \\n\"\n",
    "          f\"accuracy : {cross_val_score(model[1], X=x, y=y, cv=5, scoring='accuracy').mean()}\\n\")"
   ],
   "metadata": {
    "collapsed": false,
    "pycharm": {
     "name": "#%%\n"
    }
   }
  },
  {
   "cell_type": "markdown",
   "source": [
    "# metrics(second type) after feature selection with SelectKBest(k=8)"
   ],
   "metadata": {
    "collapsed": false
   }
  },
  {
   "cell_type": "code",
   "execution_count": 38,
   "outputs": [
    {
     "name": "stdout",
     "output_type": "stream",
     "text": [
      "model: RandomForestClassifier training time = 1.446361780166626\n",
      "model: RandomForestClassifier : \n",
      "f1-score: 0.8546448087431695 : \n",
      "accuracy : 0.9561923583662714\n",
      "\n",
      "model: KNeighborsClassifier training time = 0.0\n",
      "model: KNeighborsClassifier : \n",
      "f1-score: 0.6476190476190476 : \n",
      "accuracy : 0.9025032938076416\n",
      "\n",
      "model: GaussianNB training time = 0.003988504409790039\n",
      "model: GaussianNB : \n",
      "f1-score: 0.6504065040650406 : \n",
      "accuracy : 0.8866930171277997\n",
      "\n"
     ]
    }
   ],
   "source": [
    "x_train, x_test, y_train, y_test = train_test_split(x, y, test_size=0.3, random_state=0)\n",
    "models = {\"RandomForestClassifier\": RandomForestClassifier(\n",
    "    **{'bootstrap': False,\n",
    " 'max_depth': 10,\n",
    " 'max_features': 'sqrt',\n",
    " 'n_estimators': 110}\n",
    "),\n",
    "          \"KNeighborsClassifier\": KNeighborsClassifier(\n",
    "              **{'n_neighbors': 4, 'weights': 'distance'}\n",
    "          )}\n",
    "models[\"GaussianNB\"] = GaussianNB()\n",
    "\n",
    "for model in models.items():\n",
    "    t0 = time.time()\n",
    "    model[1].fit(x_train, y_train)\n",
    "    print(f\"model: {model[0]} training time = {time.time() - t0}\")\n",
    "    predicted_y = model[1].predict(x_test)\n",
    "    metrics = get_metrics(targets=y_test, predicted_targets=predicted_y, mode='return_metrics')\n",
    "    print(f\"model: {model[0]} : \\n\"\n",
    "          f\"f1-score: {metrics['f1_score']} : \\n\"\n",
    "          f\"accuracy : {metrics['accuracy']}\\n\")"
   ],
   "metadata": {
    "collapsed": false,
    "pycharm": {
     "name": "#%%\n"
    }
   }
  },
  {
   "cell_type": "code",
   "execution_count": 35,
   "outputs": [
    {
     "data": {
      "text/plain": "{'accuracy': 0.9571805006587615,\n 'confusion_matrix': array([[ 410,   43],\n        [  87, 2496]]),\n 'f1_score': 0.8631578947368421}"
     },
     "execution_count": 35,
     "metadata": {},
     "output_type": "execute_result"
    }
   ],
   "source": [
    "metrics"
   ],
   "metadata": {
    "collapsed": false,
    "pycharm": {
     "name": "#%%\n"
    }
   }
  },
  {
   "cell_type": "markdown",
   "source": [
    "# Conclusions\n",
    "\n",
    "dataset pre-processing with correct choice of machine learning model,\n",
    "that is supported by model's parameters tuning and feature selection maybe can increase metrics of your model,\n",
    "reduce computation time and give you better prediction accurate"
   ],
   "metadata": {
    "collapsed": false,
    "pycharm": {
     "name": "#%% md\n"
    }
   }
  }
 ],
 "metadata": {
  "kernelspec": {
   "display_name": "Python 3",
   "language": "python",
   "name": "python3"
  },
  "language_info": {
   "codemirror_mode": {
    "name": "ipython",
    "version": 2
   },
   "file_extension": ".py",
   "mimetype": "text/x-python",
   "name": "python",
   "nbconvert_exporter": "python",
   "pygments_lexer": "ipython2",
   "version": "2.7.6"
  }
 },
 "nbformat": 4,
 "nbformat_minor": 0
}